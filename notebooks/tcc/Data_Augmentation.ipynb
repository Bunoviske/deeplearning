{
  "nbformat": 4,
  "nbformat_minor": 0,
  "metadata": {
    "accelerator": "GPU",
    "colab": {
      "name": "Data Augmentation.ipynb",
      "provenance": [],
      "collapsed_sections": [],
      "toc_visible": true,
      "machine_shape": "hm"
    },
    "kernelspec": {
      "display_name": "Python 3",
      "name": "python3",
      "language": "python"
    }
  },
  "cells": [
    {
      "cell_type": "markdown",
      "metadata": {
        "id": "HEXqL6e4M-mV"
      },
      "source": [
        "# Data Augmentation "
      ]
    },
    {
      "cell_type": "markdown",
      "metadata": {
        "id": "v3dCt6VM-6ue"
      },
      "source": [
        "### Notebook designed to analyze a dataSet and generate a new, balanced one. Save images after applying transformations with fastAI v2."
      ]
    },
    {
      "cell_type": "markdown",
      "metadata": {
        "id": "Ek1Nnn8r-s02"
      },
      "source": [
        "## Update ipython/ipykernel (Colab)"
      ]
    },
    {
      "cell_type": "code",
      "metadata": {
        "colab": {
          "base_uri": "https://localhost:8080/"
        },
        "id": "wFGvO8A4-0Cf",
        "outputId": "40325012-3ffe-44df-bfbc-359428a24aa5"
      },
      "source": [
        "# This magic cell should be put first in your colab notebook. \n",
        "# It'll automatically upgrade colab's really antique ipython/ipykernel to their \n",
        "# latest versions which are required for packages like ipyexperiments \n",
        "from packaging import version\n",
        "import IPython, ipykernel\n",
        "IPython.__version__\n",
        "if version.parse(IPython.__version__) <= version.parse(\"5.5.0\"):\n",
        "    !pip install -q --upgrade ipython\n",
        "    !pip install -q --upgrade ipykernel\n",
        "    \n",
        "    import os\n",
        "    import signal\n",
        "    os.kill(os.getpid(), signal.SIGTERM)\n",
        "print(f\"ipykernel=={ipykernel.__version__}\")\n",
        "print(f\"IPython=={IPython.__version__}\")"
      ],
      "execution_count": null,
      "outputs": [
        {
          "output_type": "stream",
          "text": [
            "ipykernel==5.5.3\n",
            "IPython==7.22.0\n"
          ],
          "name": "stdout"
        }
      ]
    },
    {
      "cell_type": "code",
      "metadata": {
        "id": "kZBB_ryi_E6c"
      },
      "source": [
        "# new (large)\n",
        "# !pip install ipyexperiments\n",
        "# new (large)\n",
        "# from ipyexperiments import IPyExperimentsPytorch\n",
        "# exp = IPyExperimentsPytorch()"
      ],
      "execution_count": null,
      "outputs": []
    },
    {
      "cell_type": "markdown",
      "metadata": {
        "id": "SqQWc1Vy_Yxi"
      },
      "source": [
        "## Check GPU e CPU RAM"
      ]
    },
    {
      "cell_type": "code",
      "metadata": {
        "colab": {
          "base_uri": "https://localhost:8080/"
        },
        "id": "TNdFYFEeLsdH",
        "outputId": "413bf147-7d20-4f94-dab1-a564c4b9856f"
      },
      "source": [
        "import torch\n",
        "from pynvml import *\n",
        "nvmlInit()\n",
        "def log_mem():\n",
        "    h = nvmlDeviceGetHandleByIndex(0)\n",
        "    info = nvmlDeviceGetMemoryInfo(h)\n",
        "    print(f'GPU total Memory    : {info.total}')\n",
        "    print(f'GPU free Memory     : {info.free}')\n",
        "    print(f'GPU Memory used     : {info.used}')\n",
        "torch.ones(1).to(0)\n",
        "log_mem()"
      ],
      "execution_count": null,
      "outputs": [
        {
          "output_type": "stream",
          "text": [
            "GPU total Memory    : 15843721216\n",
            "GPU free Memory     : 14738522112\n",
            "GPU Memory used     : 1105199104\n"
          ],
          "name": "stdout"
        }
      ]
    },
    {
      "cell_type": "markdown",
      "metadata": {
        "id": "RQc4hUeOpyyB"
      },
      "source": [
        "## Mount the Google Drive to Google Colab"
      ]
    },
    {
      "cell_type": "code",
      "metadata": {
        "colab": {
          "base_uri": "https://localhost:8080/"
        },
        "id": "B86_g0mIp1A4",
        "outputId": "6cb43199-24e7-4ac9-8536-c8f5cfb41e2c"
      },
      "source": [
        "from google.colab import drive\n",
        "drive.mount('/content/drive', force_remount=True)\n",
        "path_to_drive = \"/content/drive/My Drive/Colab Notebooks/\""
      ],
      "execution_count": null,
      "outputs": [
        {
          "output_type": "stream",
          "text": [
            "Mounted at /content/drive\n"
          ],
          "name": "stdout"
        }
      ]
    },
    {
      "cell_type": "markdown",
      "metadata": {
        "id": "rXxuc3EmwSPV"
      },
      "source": [
        "## Install Deep Learning libraries"
      ]
    },
    {
      "cell_type": "code",
      "metadata": {
        "id": "MOsHUjgdIrIW"
      },
      "source": [
        "  !pip uninstall fastai\n",
        "  !pip install fastai"
      ],
      "execution_count": null,
      "outputs": []
    },
    {
      "cell_type": "code",
      "metadata": {
        "colab": {
          "base_uri": "https://localhost:8080/"
        },
        "id": "wNQ-pGt1jGFP",
        "outputId": "25f01d07-dae6-4390-9678-b27ef372f999"
      },
      "source": [
        "import sys; print('Python:',sys.version)\n",
        "import torch; print('Pytorch:',torch.__version__)\n",
        "import fastai; print('Fastai:',fastai.__version__)"
      ],
      "execution_count": 1,
      "outputs": [
        {
          "output_type": "stream",
          "name": "stdout",
          "text": [
            "Python: 3.9.2 (default, Mar 16 2021, 09:09:15) \n",
            "[GCC 7.5.0]\n",
            "Pytorch: 1.7.1\n",
            "Fastai: 2.2.7\n"
          ]
        }
      ]
    },
    {
      "cell_type": "markdown",
      "metadata": {
        "id": "3CZQ85db3QdM"
      },
      "source": [
        "## Data Augmentation"
      ]
    },
    {
      "cell_type": "code",
      "metadata": {
        "id": "0OHPSnFVw3rD"
      },
      "source": [
        "from fastai.basics import *\n",
        "from fastai.callback.all import *\n",
        "from fastai.vision.all import *\n",
        "from torchvision.utils import save_image\n",
        "import torch\n",
        "import torchvision\n",
        "from torchvision import transforms\n",
        "from PIL import Image\n",
        "import PIL \n",
        "import os"
      ],
      "execution_count": 2,
      "outputs": []
    },
    {
      "source": [
        "### Create Augmented Folder\n"
      ],
      "cell_type": "markdown",
      "metadata": {}
    },
    {
      "cell_type": "code",
      "execution_count": 26,
      "metadata": {},
      "outputs": [
        {
          "output_type": "stream",
          "name": "stdout",
          "text": [
            "508\n"
          ]
        }
      ],
      "source": [
        "pathToDataSet = '/mnt/c/Users/tomsq/Documents/UnB/2020.2/TG/dataset_v1/'\n",
        "pathToAugmentedFolder = pathToDataSet + 'augmentedData/'\n",
        "path_anno = pathToDataSet + 'gt/'\n",
        "path_img = pathToDataSet + 'done/'\n",
        "get_y_fn = lambda x : path_anno + f'{x.stem}_GT.png'\n",
        "\n",
        "\n",
        "fnames = get_image_files(path_anno)\n",
        "print(len(fnames))\n",
        "\n"
      ]
    },
    {
      "cell_type": "code",
      "execution_count": 4,
      "metadata": {},
      "outputs": [
        {
          "output_type": "stream",
          "name": "stdout",
          "text": [
            "[Errno 17] File exists: '/mnt/c/Users/tomsq/Documents/UnB/2020.2/TG/dataset_v1/augmentedData/'\n"
          ]
        }
      ],
      "source": [
        "try: \n",
        "    os.mkdir(pathToAugmentedFolder)\n",
        "    print('Created Augmented Folder')\n",
        "except OSError as error:\n",
        "    print(error)"
      ]
    },
    {
      "source": [
        "### Generate DataSet Histogram"
      ],
      "cell_type": "markdown",
      "metadata": {}
    },
    {
      "cell_type": "code",
      "execution_count": 5,
      "metadata": {
        "tags": []
      },
      "outputs": [
        {
          "output_type": "stream",
          "name": "stdout",
          "text": [
            "Array Generated\n"
          ]
        }
      ],
      "source": [
        "totalArray = []\n",
        "\n",
        "for i in range(0,len(fnames)):\n",
        "    img = Image.open(fnames[i])\n",
        "    arr = np.asarray(img)\n",
        "    totalArray += list(np.unique(arr,return_counts=False))\n",
        "\n",
        "print('Array Generated')\n"
      ]
    },
    {
      "cell_type": "code",
      "execution_count": 7,
      "metadata": {
        "tags": []
      },
      "outputs": [
        {
          "output_type": "display_data",
          "data": {
            "text/plain": "<Figure size 432x288 with 1 Axes>",
            "image/svg+xml": "<?xml version=\"1.0\" encoding=\"utf-8\" standalone=\"no\"?>\n<!DOCTYPE svg PUBLIC \"-//W3C//DTD SVG 1.1//EN\"\n  \"http://www.w3.org/Graphics/SVG/1.1/DTD/svg11.dtd\">\n<!-- Created with matplotlib (https://matplotlib.org/) -->\n<svg height=\"248.518125pt\" version=\"1.1\" viewBox=\"0 0 377.417264 248.518125\" width=\"377.417264pt\" xmlns=\"http://www.w3.org/2000/svg\" xmlns:xlink=\"http://www.w3.org/1999/xlink\">\n <metadata>\n  <rdf:RDF xmlns:cc=\"http://creativecommons.org/ns#\" xmlns:dc=\"http://purl.org/dc/elements/1.1/\" xmlns:rdf=\"http://www.w3.org/1999/02/22-rdf-syntax-ns#\">\n   <cc:Work>\n    <dc:type rdf:resource=\"http://purl.org/dc/dcmitype/StillImage\"/>\n    <dc:date>2021-04-20T17:10:05.108268</dc:date>\n    <dc:format>image/svg+xml</dc:format>\n    <dc:creator>\n     <cc:Agent>\n      <dc:title>Matplotlib v3.3.4, https://matplotlib.org/</dc:title>\n     </cc:Agent>\n    </dc:creator>\n   </cc:Work>\n  </rdf:RDF>\n </metadata>\n <defs>\n  <style type=\"text/css\">*{stroke-linecap:butt;stroke-linejoin:round;}</style>\n </defs>\n <g id=\"figure_1\">\n  <g id=\"patch_1\">\n   <path d=\"M 0 248.518125 \nL 377.417264 248.518125 \nL 377.417264 0 \nL 0 0 \nz\n\" style=\"fill:none;\"/>\n  </g>\n  <g id=\"axes_1\">\n   <g id=\"patch_2\">\n    <path d=\"M 33.2875 224.64 \nL 368.0875 224.64 \nL 368.0875 7.2 \nL 33.2875 7.2 \nz\n\" style=\"fill:#ffffff;\"/>\n   </g>\n   <g id=\"patch_3\">\n    <path clip-path=\"url(#p11383628ff)\" d=\"M 48.505682 224.64 \nL 51.10708 224.64 \nL 51.10708 17.554286 \nL 48.505682 17.554286 \nz\n\" style=\"fill:#1f77b4;\"/>\n   </g>\n   <g id=\"patch_4\">\n    <path clip-path=\"url(#p11383628ff)\" d=\"M 51.10708 224.64 \nL 53.708479 224.64 \nL 53.708479 195.696918 \nL 51.10708 195.696918 \nz\n\" style=\"fill:#1f77b4;\"/>\n   </g>\n   <g id=\"patch_5\">\n    <path clip-path=\"url(#p11383628ff)\" d=\"M 53.708479 224.64 \nL 56.309878 224.64 \nL 56.309878 208.334038 \nL 53.708479 208.334038 \nz\n\" style=\"fill:#1f77b4;\"/>\n   </g>\n   <g id=\"patch_6\">\n    <path clip-path=\"url(#p11383628ff)\" d=\"M 56.309878 224.64 \nL 58.911276 224.64 \nL 58.911276 128.027177 \nL 56.309878 128.027177 \nz\n\" style=\"fill:#1f77b4;\"/>\n   </g>\n   <g id=\"patch_7\">\n    <path clip-path=\"url(#p11383628ff)\" d=\"M 58.911276 224.64 \nL 61.512675 224.64 \nL 61.512675 159.823802 \nL 58.911276 159.823802 \nz\n\" style=\"fill:#1f77b4;\"/>\n   </g>\n   <g id=\"patch_8\">\n    <path clip-path=\"url(#p11383628ff)\" d=\"M 61.512675 224.64 \nL 64.114073 224.64 \nL 64.114073 208.741687 \nL 61.512675 208.741687 \nz\n\" style=\"fill:#1f77b4;\"/>\n   </g>\n   <g id=\"patch_9\">\n    <path clip-path=\"url(#p11383628ff)\" d=\"M 64.114073 224.64 \nL 66.715472 224.64 \nL 66.715472 214.041125 \nL 64.114073 214.041125 \nz\n\" style=\"fill:#1f77b4;\"/>\n   </g>\n   <g id=\"patch_10\">\n    <path clip-path=\"url(#p11383628ff)\" d=\"M 66.715472 224.64 \nL 69.316871 224.64 \nL 69.316871 224.64 \nL 66.715472 224.64 \nz\n\" style=\"fill:#1f77b4;\"/>\n   </g>\n   <g id=\"patch_11\">\n    <path clip-path=\"url(#p11383628ff)\" d=\"M 69.316871 224.64 \nL 71.918269 224.64 \nL 71.918269 220.155861 \nL 69.316871 220.155861 \nz\n\" style=\"fill:#1f77b4;\"/>\n   </g>\n   <g id=\"patch_12\">\n    <path clip-path=\"url(#p11383628ff)\" d=\"M 71.918269 224.64 \nL 74.519668 224.64 \nL 74.519668 211.187582 \nL 71.918269 211.187582 \nz\n\" style=\"fill:#1f77b4;\"/>\n   </g>\n   <g id=\"patch_13\">\n    <path clip-path=\"url(#p11383628ff)\" d=\"M 74.519668 224.64 \nL 77.121066 224.64 \nL 77.121066 219.748211 \nL 74.519668 219.748211 \nz\n\" style=\"fill:#1f77b4;\"/>\n   </g>\n   <g id=\"patch_14\">\n    <path clip-path=\"url(#p11383628ff)\" d=\"M 77.121066 224.64 \nL 79.722465 224.64 \nL 79.722465 218.525264 \nL 77.121066 218.525264 \nz\n\" style=\"fill:#1f77b4;\"/>\n   </g>\n   <g id=\"patch_15\">\n    <path clip-path=\"url(#p11383628ff)\" d=\"M 79.722465 224.64 \nL 82.323864 224.64 \nL 82.323864 209.964634 \nL 79.722465 209.964634 \nz\n\" style=\"fill:#1f77b4;\"/>\n   </g>\n   <g id=\"patch_16\">\n    <path clip-path=\"url(#p11383628ff)\" d=\"M 82.323864 224.64 \nL 84.925262 224.64 \nL 84.925262 221.378808 \nL 82.323864 221.378808 \nz\n\" style=\"fill:#1f77b4;\"/>\n   </g>\n   <g id=\"patch_17\">\n    <path clip-path=\"url(#p11383628ff)\" d=\"M 84.925262 224.64 \nL 87.526661 224.64 \nL 87.526661 223.009404 \nL 84.925262 223.009404 \nz\n\" style=\"fill:#1f77b4;\"/>\n   </g>\n   <g id=\"patch_18\">\n    <path clip-path=\"url(#p11383628ff)\" d=\"M 87.526661 224.64 \nL 90.128059 224.64 \nL 90.128059 223.824702 \nL 87.526661 223.824702 \nz\n\" style=\"fill:#1f77b4;\"/>\n   </g>\n   <g id=\"patch_19\">\n    <path clip-path=\"url(#p11383628ff)\" d=\"M 90.128059 224.64 \nL 92.729458 224.64 \nL 92.729458 221.786457 \nL 90.128059 221.786457 \nz\n\" style=\"fill:#1f77b4;\"/>\n   </g>\n   <g id=\"patch_20\">\n    <path clip-path=\"url(#p11383628ff)\" d=\"M 92.729458 224.64 \nL 95.330857 224.64 \nL 95.330857 201.811654 \nL 92.729458 201.811654 \nz\n\" style=\"fill:#1f77b4;\"/>\n   </g>\n   <g id=\"patch_21\">\n    <path clip-path=\"url(#p11383628ff)\" d=\"M 95.330857 224.64 \nL 97.932255 224.64 \nL 97.932255 219.748211 \nL 95.330857 219.748211 \nz\n\" style=\"fill:#1f77b4;\"/>\n   </g>\n   <g id=\"patch_22\">\n    <path clip-path=\"url(#p11383628ff)\" d=\"M 97.932255 224.64 \nL 100.533654 224.64 \nL 100.533654 224.232351 \nL 97.932255 224.232351 \nz\n\" style=\"fill:#1f77b4;\"/>\n   </g>\n   <g id=\"patch_23\">\n    <path clip-path=\"url(#p11383628ff)\" d=\"M 100.533654 224.64 \nL 103.135052 224.64 \nL 103.135052 221.378808 \nL 100.533654 221.378808 \nz\n\" style=\"fill:#1f77b4;\"/>\n   </g>\n   <g id=\"patch_24\">\n    <path clip-path=\"url(#p11383628ff)\" d=\"M 103.135052 224.64 \nL 105.736451 224.64 \nL 105.736451 223.009404 \nL 103.135052 223.009404 \nz\n\" style=\"fill:#1f77b4;\"/>\n   </g>\n   <g id=\"patch_25\">\n    <path clip-path=\"url(#p11383628ff)\" d=\"M 105.736451 224.64 \nL 108.33785 224.64 \nL 108.33785 222.601755 \nL 105.736451 222.601755 \nz\n\" style=\"fill:#1f77b4;\"/>\n   </g>\n   <g id=\"patch_26\">\n    <path clip-path=\"url(#p11383628ff)\" d=\"M 108.33785 224.64 \nL 110.939248 224.64 \nL 110.939248 224.64 \nL 108.33785 224.64 \nz\n\" style=\"fill:#1f77b4;\"/>\n   </g>\n   <g id=\"patch_27\">\n    <path clip-path=\"url(#p11383628ff)\" d=\"M 110.939248 224.64 \nL 113.540647 224.64 \nL 113.540647 223.417053 \nL 110.939248 223.417053 \nz\n\" style=\"fill:#1f77b4;\"/>\n   </g>\n   <g id=\"patch_28\">\n    <path clip-path=\"url(#p11383628ff)\" d=\"M 113.540647 224.64 \nL 116.142045 224.64 \nL 116.142045 224.64 \nL 113.540647 224.64 \nz\n\" style=\"fill:#1f77b4;\"/>\n   </g>\n   <g id=\"patch_29\">\n    <path clip-path=\"url(#p11383628ff)\" d=\"M 116.142045 224.64 \nL 118.743444 224.64 \nL 118.743444 223.824702 \nL 116.142045 223.824702 \nz\n\" style=\"fill:#1f77b4;\"/>\n   </g>\n   <g id=\"patch_30\">\n    <path clip-path=\"url(#p11383628ff)\" d=\"M 118.743444 224.64 \nL 121.344843 224.64 \nL 121.344843 220.155861 \nL 118.743444 220.155861 \nz\n\" style=\"fill:#1f77b4;\"/>\n   </g>\n   <g id=\"patch_31\">\n    <path clip-path=\"url(#p11383628ff)\" d=\"M 121.344843 224.64 \nL 123.946241 224.64 \nL 123.946241 222.194106 \nL 121.344843 222.194106 \nz\n\" style=\"fill:#1f77b4;\"/>\n   </g>\n   <g id=\"patch_32\">\n    <path clip-path=\"url(#p11383628ff)\" d=\"M 123.946241 224.64 \nL 126.54764 224.64 \nL 126.54764 223.824702 \nL 123.946241 223.824702 \nz\n\" style=\"fill:#1f77b4;\"/>\n   </g>\n   <g id=\"patch_33\">\n    <path clip-path=\"url(#p11383628ff)\" d=\"M 126.54764 224.64 \nL 129.149038 224.64 \nL 129.149038 224.232351 \nL 126.54764 224.232351 \nz\n\" style=\"fill:#1f77b4;\"/>\n   </g>\n   <g id=\"patch_34\">\n    <path clip-path=\"url(#p11383628ff)\" d=\"M 129.149038 224.64 \nL 131.750437 224.64 \nL 131.750437 220.56351 \nL 129.149038 220.56351 \nz\n\" style=\"fill:#1f77b4;\"/>\n   </g>\n   <g id=\"patch_35\">\n    <path clip-path=\"url(#p11383628ff)\" d=\"M 131.750437 224.64 \nL 134.351836 224.64 \nL 134.351836 223.417053 \nL 131.750437 223.417053 \nz\n\" style=\"fill:#1f77b4;\"/>\n   </g>\n   <g id=\"patch_36\">\n    <path clip-path=\"url(#p11383628ff)\" d=\"M 134.351836 224.64 \nL 136.953234 224.64 \nL 136.953234 224.232351 \nL 134.351836 224.232351 \nz\n\" style=\"fill:#1f77b4;\"/>\n   </g>\n   <g id=\"patch_37\">\n    <path clip-path=\"url(#p11383628ff)\" d=\"M 136.953234 224.64 \nL 139.554633 224.64 \nL 139.554633 224.232351 \nL 136.953234 224.232351 \nz\n\" style=\"fill:#1f77b4;\"/>\n   </g>\n   <g id=\"patch_38\">\n    <path clip-path=\"url(#p11383628ff)\" d=\"M 139.554633 224.64 \nL 142.156031 224.64 \nL 142.156031 222.601755 \nL 139.554633 222.601755 \nz\n\" style=\"fill:#1f77b4;\"/>\n   </g>\n   <g id=\"patch_39\">\n    <path clip-path=\"url(#p11383628ff)\" d=\"M 142.156031 224.64 \nL 144.75743 224.64 \nL 144.75743 223.009404 \nL 142.156031 223.009404 \nz\n\" style=\"fill:#1f77b4;\"/>\n   </g>\n   <g id=\"patch_40\">\n    <path clip-path=\"url(#p11383628ff)\" d=\"M 144.75743 224.64 \nL 147.358829 224.64 \nL 147.358829 224.64 \nL 144.75743 224.64 \nz\n\" style=\"fill:#1f77b4;\"/>\n   </g>\n   <g id=\"patch_41\">\n    <path clip-path=\"url(#p11383628ff)\" d=\"M 147.358829 224.64 \nL 149.960227 224.64 \nL 149.960227 222.601755 \nL 147.358829 222.601755 \nz\n\" style=\"fill:#1f77b4;\"/>\n   </g>\n   <g id=\"patch_42\">\n    <path clip-path=\"url(#p11383628ff)\" d=\"M 149.960227 224.64 \nL 152.561626 224.64 \nL 152.561626 224.64 \nL 149.960227 224.64 \nz\n\" style=\"fill:#1f77b4;\"/>\n   </g>\n   <g id=\"patch_43\">\n    <path clip-path=\"url(#p11383628ff)\" d=\"M 152.561626 224.64 \nL 155.163024 224.64 \nL 155.163024 224.64 \nL 152.561626 224.64 \nz\n\" style=\"fill:#1f77b4;\"/>\n   </g>\n   <g id=\"patch_44\">\n    <path clip-path=\"url(#p11383628ff)\" d=\"M 155.163024 224.64 \nL 157.764423 224.64 \nL 157.764423 224.232351 \nL 155.163024 224.232351 \nz\n\" style=\"fill:#1f77b4;\"/>\n   </g>\n   <g id=\"patch_45\">\n    <path clip-path=\"url(#p11383628ff)\" d=\"M 157.764423 224.64 \nL 160.365822 224.64 \nL 160.365822 224.232351 \nL 157.764423 224.232351 \nz\n\" style=\"fill:#1f77b4;\"/>\n   </g>\n   <g id=\"patch_46\">\n    <path clip-path=\"url(#p11383628ff)\" d=\"M 160.365822 224.64 \nL 162.96722 224.64 \nL 162.96722 224.64 \nL 160.365822 224.64 \nz\n\" style=\"fill:#1f77b4;\"/>\n   </g>\n   <g id=\"patch_47\">\n    <path clip-path=\"url(#p11383628ff)\" d=\"M 162.96722 224.64 \nL 165.568619 224.64 \nL 165.568619 224.232351 \nL 162.96722 224.232351 \nz\n\" style=\"fill:#1f77b4;\"/>\n   </g>\n   <g id=\"patch_48\">\n    <path clip-path=\"url(#p11383628ff)\" d=\"M 165.568619 224.64 \nL 168.170017 224.64 \nL 168.170017 224.232351 \nL 165.568619 224.232351 \nz\n\" style=\"fill:#1f77b4;\"/>\n   </g>\n   <g id=\"patch_49\">\n    <path clip-path=\"url(#p11383628ff)\" d=\"M 168.170017 224.64 \nL 170.771416 224.64 \nL 170.771416 224.64 \nL 168.170017 224.64 \nz\n\" style=\"fill:#1f77b4;\"/>\n   </g>\n   <g id=\"patch_50\">\n    <path clip-path=\"url(#p11383628ff)\" d=\"M 170.771416 224.64 \nL 173.372815 224.64 \nL 173.372815 221.786457 \nL 170.771416 221.786457 \nz\n\" style=\"fill:#1f77b4;\"/>\n   </g>\n   <g id=\"patch_51\">\n    <path clip-path=\"url(#p11383628ff)\" d=\"M 173.372815 224.64 \nL 175.974213 224.64 \nL 175.974213 223.824702 \nL 173.372815 223.824702 \nz\n\" style=\"fill:#1f77b4;\"/>\n   </g>\n   <g id=\"patch_52\">\n    <path clip-path=\"url(#p11383628ff)\" d=\"M 175.974213 224.64 \nL 178.575612 224.64 \nL 178.575612 223.824702 \nL 175.974213 223.824702 \nz\n\" style=\"fill:#1f77b4;\"/>\n   </g>\n   <g id=\"patch_53\">\n    <path clip-path=\"url(#p11383628ff)\" d=\"M 178.575612 224.64 \nL 181.17701 224.64 \nL 181.17701 221.786457 \nL 178.575612 221.786457 \nz\n\" style=\"fill:#1f77b4;\"/>\n   </g>\n   <g id=\"patch_54\">\n    <path clip-path=\"url(#p11383628ff)\" d=\"M 181.17701 224.64 \nL 183.778409 224.64 \nL 183.778409 223.824702 \nL 181.17701 223.824702 \nz\n\" style=\"fill:#1f77b4;\"/>\n   </g>\n   <g id=\"patch_55\">\n    <path clip-path=\"url(#p11383628ff)\" d=\"M 183.778409 224.64 \nL 186.379808 224.64 \nL 186.379808 224.232351 \nL 183.778409 224.232351 \nz\n\" style=\"fill:#1f77b4;\"/>\n   </g>\n   <g id=\"patch_56\">\n    <path clip-path=\"url(#p11383628ff)\" d=\"M 186.379808 224.64 \nL 188.981206 224.64 \nL 188.981206 174.499168 \nL 186.379808 174.499168 \nz\n\" style=\"fill:#1f77b4;\"/>\n   </g>\n   <g id=\"patch_57\">\n    <path clip-path=\"url(#p11383628ff)\" d=\"M 188.981206 224.64 \nL 191.582605 224.64 \nL 191.582605 219.340562 \nL 188.981206 219.340562 \nz\n\" style=\"fill:#1f77b4;\"/>\n   </g>\n   <g id=\"patch_58\">\n    <path clip-path=\"url(#p11383628ff)\" d=\"M 191.582605 224.64 \nL 194.184003 224.64 \nL 194.184003 218.932913 \nL 191.582605 218.932913 \nz\n\" style=\"fill:#1f77b4;\"/>\n   </g>\n   <g id=\"patch_59\">\n    <path clip-path=\"url(#p11383628ff)\" d=\"M 194.184003 224.64 \nL 196.785402 224.64 \nL 196.785402 216.07937 \nL 194.184003 216.07937 \nz\n\" style=\"fill:#1f77b4;\"/>\n   </g>\n   <g id=\"patch_60\">\n    <path clip-path=\"url(#p11383628ff)\" d=\"M 196.785402 224.64 \nL 199.386801 224.64 \nL 199.386801 212.410529 \nL 196.785402 212.410529 \nz\n\" style=\"fill:#1f77b4;\"/>\n   </g>\n   <g id=\"patch_61\">\n    <path clip-path=\"url(#p11383628ff)\" d=\"M 199.386801 224.64 \nL 201.988199 224.64 \nL 201.988199 214.448774 \nL 199.386801 214.448774 \nz\n\" style=\"fill:#1f77b4;\"/>\n   </g>\n   <g id=\"patch_62\">\n    <path clip-path=\"url(#p11383628ff)\" d=\"M 201.988199 224.64 \nL 204.589598 224.64 \nL 204.589598 217.302317 \nL 201.988199 217.302317 \nz\n\" style=\"fill:#1f77b4;\"/>\n   </g>\n   <g id=\"patch_63\">\n    <path clip-path=\"url(#p11383628ff)\" d=\"M 204.589598 224.64 \nL 207.190997 224.64 \nL 207.190997 172.053273 \nL 204.589598 172.053273 \nz\n\" style=\"fill:#1f77b4;\"/>\n   </g>\n   <g id=\"patch_64\">\n    <path clip-path=\"url(#p11383628ff)\" d=\"M 207.190997 224.64 \nL 209.792395 224.64 \nL 209.792395 201.811654 \nL 207.190997 201.811654 \nz\n\" style=\"fill:#1f77b4;\"/>\n   </g>\n   <g id=\"patch_65\">\n    <path clip-path=\"url(#p11383628ff)\" d=\"M 209.792395 224.64 \nL 212.393794 224.64 \nL 212.393794 223.009404 \nL 209.792395 223.009404 \nz\n\" style=\"fill:#1f77b4;\"/>\n   </g>\n   <g id=\"patch_66\">\n    <path clip-path=\"url(#p11383628ff)\" d=\"M 212.393794 224.64 \nL 214.995192 224.64 \nL 214.995192 223.824702 \nL 212.393794 223.824702 \nz\n\" style=\"fill:#1f77b4;\"/>\n   </g>\n   <g id=\"patch_67\">\n    <path clip-path=\"url(#p11383628ff)\" d=\"M 214.995192 224.64 \nL 217.596591 224.64 \nL 217.596591 224.232351 \nL 214.995192 224.232351 \nz\n\" style=\"fill:#1f77b4;\"/>\n   </g>\n   <g id=\"patch_68\">\n    <path clip-path=\"url(#p11383628ff)\" d=\"M 217.596591 224.64 \nL 220.19799 224.64 \nL 220.19799 166.753836 \nL 217.596591 166.753836 \nz\n\" style=\"fill:#1f77b4;\"/>\n   </g>\n   <g id=\"patch_69\">\n    <path clip-path=\"url(#p11383628ff)\" d=\"M 220.19799 224.64 \nL 222.799388 224.64 \nL 222.799388 209.149336 \nL 220.19799 209.149336 \nz\n\" style=\"fill:#1f77b4;\"/>\n   </g>\n   <g id=\"patch_70\">\n    <path clip-path=\"url(#p11383628ff)\" d=\"M 222.799388 224.64 \nL 225.400787 224.64 \nL 225.400787 204.665197 \nL 222.799388 204.665197 \nz\n\" style=\"fill:#1f77b4;\"/>\n   </g>\n   <g id=\"patch_71\">\n    <path clip-path=\"url(#p11383628ff)\" d=\"M 225.400787 224.64 \nL 228.002185 224.64 \nL 228.002185 218.525264 \nL 225.400787 218.525264 \nz\n\" style=\"fill:#1f77b4;\"/>\n   </g>\n   <g id=\"patch_72\">\n    <path clip-path=\"url(#p11383628ff)\" d=\"M 228.002185 224.64 \nL 230.603584 224.64 \nL 230.603584 222.194106 \nL 228.002185 222.194106 \nz\n\" style=\"fill:#1f77b4;\"/>\n   </g>\n   <g id=\"patch_73\">\n    <path clip-path=\"url(#p11383628ff)\" d=\"M 230.603584 224.64 \nL 233.204983 224.64 \nL 233.204983 222.601755 \nL 230.603584 222.601755 \nz\n\" style=\"fill:#1f77b4;\"/>\n   </g>\n   <g id=\"patch_74\">\n    <path clip-path=\"url(#p11383628ff)\" d=\"M 233.204983 224.64 \nL 235.806381 224.64 \nL 235.806381 216.894668 \nL 233.204983 216.894668 \nz\n\" style=\"fill:#1f77b4;\"/>\n   </g>\n   <g id=\"patch_75\">\n    <path clip-path=\"url(#p11383628ff)\" d=\"M 235.806381 224.64 \nL 238.40778 224.64 \nL 238.40778 173.27622 \nL 235.806381 173.27622 \nz\n\" style=\"fill:#1f77b4;\"/>\n   </g>\n   <g id=\"patch_76\">\n    <path clip-path=\"url(#p11383628ff)\" d=\"M 238.40778 224.64 \nL 241.009178 224.64 \nL 241.009178 194.066322 \nL 238.40778 194.066322 \nz\n\" style=\"fill:#1f77b4;\"/>\n   </g>\n   <g id=\"patch_77\">\n    <path clip-path=\"url(#p11383628ff)\" d=\"M 241.009178 224.64 \nL 243.610577 224.64 \nL 243.610577 180.206254 \nL 241.009178 180.206254 \nz\n\" style=\"fill:#1f77b4;\"/>\n   </g>\n   <g id=\"patch_78\">\n    <path clip-path=\"url(#p11383628ff)\" d=\"M 243.610577 224.64 \nL 246.211976 224.64 \nL 246.211976 211.595231 \nL 243.610577 211.595231 \nz\n\" style=\"fill:#1f77b4;\"/>\n   </g>\n   <g id=\"patch_79\">\n    <path clip-path=\"url(#p11383628ff)\" d=\"M 246.211976 224.64 \nL 248.813374 224.64 \nL 248.813374 223.417053 \nL 246.211976 223.417053 \nz\n\" style=\"fill:#1f77b4;\"/>\n   </g>\n   <g id=\"patch_80\">\n    <path clip-path=\"url(#p11383628ff)\" d=\"M 248.813374 224.64 \nL 251.414773 224.64 \nL 251.414773 214.041125 \nL 248.813374 214.041125 \nz\n\" style=\"fill:#1f77b4;\"/>\n   </g>\n   <g id=\"patch_81\">\n    <path clip-path=\"url(#p11383628ff)\" d=\"M 251.414773 224.64 \nL 254.016171 224.64 \nL 254.016171 212.00288 \nL 251.414773 212.00288 \nz\n\" style=\"fill:#1f77b4;\"/>\n   </g>\n   <g id=\"patch_82\">\n    <path clip-path=\"url(#p11383628ff)\" d=\"M 254.016171 224.64 \nL 256.61757 224.64 \nL 256.61757 223.824702 \nL 254.016171 223.824702 \nz\n\" style=\"fill:#1f77b4;\"/>\n   </g>\n   <g id=\"patch_83\">\n    <path clip-path=\"url(#p11383628ff)\" d=\"M 256.61757 224.64 \nL 259.218969 224.64 \nL 259.218969 210.779933 \nL 256.61757 210.779933 \nz\n\" style=\"fill:#1f77b4;\"/>\n   </g>\n   <g id=\"patch_84\">\n    <path clip-path=\"url(#p11383628ff)\" d=\"M 259.218969 224.64 \nL 261.820367 224.64 \nL 261.820367 219.340562 \nL 259.218969 219.340562 \nz\n\" style=\"fill:#1f77b4;\"/>\n   </g>\n   <g id=\"patch_85\">\n    <path clip-path=\"url(#p11383628ff)\" d=\"M 261.820367 224.64 \nL 264.421766 224.64 \nL 264.421766 217.709966 \nL 261.820367 217.709966 \nz\n\" style=\"fill:#1f77b4;\"/>\n   </g>\n   <g id=\"patch_86\">\n    <path clip-path=\"url(#p11383628ff)\" d=\"M 264.421766 224.64 \nL 267.023164 224.64 \nL 267.023164 220.971159 \nL 264.421766 220.971159 \nz\n\" style=\"fill:#1f77b4;\"/>\n   </g>\n   <g id=\"patch_87\">\n    <path clip-path=\"url(#p11383628ff)\" d=\"M 267.023164 224.64 \nL 269.624563 224.64 \nL 269.624563 222.194106 \nL 267.023164 222.194106 \nz\n\" style=\"fill:#1f77b4;\"/>\n   </g>\n   <g id=\"patch_88\">\n    <path clip-path=\"url(#p11383628ff)\" d=\"M 269.624563 224.64 \nL 272.225962 224.64 \nL 272.225962 223.417053 \nL 269.624563 223.417053 \nz\n\" style=\"fill:#1f77b4;\"/>\n   </g>\n   <g id=\"patch_89\">\n    <path clip-path=\"url(#p11383628ff)\" d=\"M 272.225962 224.64 \nL 274.82736 224.64 \nL 274.82736 223.824702 \nL 272.225962 223.824702 \nz\n\" style=\"fill:#1f77b4;\"/>\n   </g>\n   <g id=\"patch_90\">\n    <path clip-path=\"url(#p11383628ff)\" d=\"M 274.82736 224.64 \nL 277.428759 224.64 \nL 277.428759 224.232351 \nL 274.82736 224.232351 \nz\n\" style=\"fill:#1f77b4;\"/>\n   </g>\n   <g id=\"patch_91\">\n    <path clip-path=\"url(#p11383628ff)\" d=\"M 277.428759 224.64 \nL 280.030157 224.64 \nL 280.030157 222.601755 \nL 277.428759 222.601755 \nz\n\" style=\"fill:#1f77b4;\"/>\n   </g>\n   <g id=\"patch_92\">\n    <path clip-path=\"url(#p11383628ff)\" d=\"M 280.030157 224.64 \nL 282.631556 224.64 \nL 282.631556 202.626952 \nL 280.030157 202.626952 \nz\n\" style=\"fill:#1f77b4;\"/>\n   </g>\n   <g id=\"patch_93\">\n    <path clip-path=\"url(#p11383628ff)\" d=\"M 282.631556 224.64 \nL 285.232955 224.64 \nL 285.232955 222.601755 \nL 282.631556 222.601755 \nz\n\" style=\"fill:#1f77b4;\"/>\n   </g>\n   <g id=\"patch_94\">\n    <path clip-path=\"url(#p11383628ff)\" d=\"M 285.232955 224.64 \nL 287.834353 224.64 \nL 287.834353 203.44225 \nL 285.232955 203.44225 \nz\n\" style=\"fill:#1f77b4;\"/>\n   </g>\n   <g id=\"patch_95\">\n    <path clip-path=\"url(#p11383628ff)\" d=\"M 287.834353 224.64 \nL 290.435752 224.64 \nL 290.435752 219.748211 \nL 287.834353 219.748211 \nz\n\" style=\"fill:#1f77b4;\"/>\n   </g>\n   <g id=\"patch_96\">\n    <path clip-path=\"url(#p11383628ff)\" d=\"M 290.435752 224.64 \nL 293.03715 224.64 \nL 293.03715 216.487019 \nL 290.435752 216.487019 \nz\n\" style=\"fill:#1f77b4;\"/>\n   </g>\n   <g id=\"patch_97\">\n    <path clip-path=\"url(#p11383628ff)\" d=\"M 293.03715 224.64 \nL 295.638549 224.64 \nL 295.638549 223.824702 \nL 293.03715 223.824702 \nz\n\" style=\"fill:#1f77b4;\"/>\n   </g>\n   <g id=\"patch_98\">\n    <path clip-path=\"url(#p11383628ff)\" d=\"M 295.638549 224.64 \nL 298.239948 224.64 \nL 298.239948 223.417053 \nL 295.638549 223.417053 \nz\n\" style=\"fill:#1f77b4;\"/>\n   </g>\n   <g id=\"patch_99\">\n    <path clip-path=\"url(#p11383628ff)\" d=\"M 298.239948 224.64 \nL 300.841346 224.64 \nL 300.841346 220.155861 \nL 298.239948 220.155861 \nz\n\" style=\"fill:#1f77b4;\"/>\n   </g>\n   <g id=\"patch_100\">\n    <path clip-path=\"url(#p11383628ff)\" d=\"M 300.841346 224.64 \nL 303.442745 224.64 \nL 303.442745 223.824702 \nL 300.841346 223.824702 \nz\n\" style=\"fill:#1f77b4;\"/>\n   </g>\n   <g id=\"patch_101\">\n    <path clip-path=\"url(#p11383628ff)\" d=\"M 303.442745 224.64 \nL 306.044143 224.64 \nL 306.044143 222.194106 \nL 303.442745 222.194106 \nz\n\" style=\"fill:#1f77b4;\"/>\n   </g>\n   <g id=\"patch_102\">\n    <path clip-path=\"url(#p11383628ff)\" d=\"M 306.044143 224.64 \nL 308.645542 224.64 \nL 308.645542 222.601755 \nL 306.044143 222.601755 \nz\n\" style=\"fill:#1f77b4;\"/>\n   </g>\n   <g id=\"patch_103\">\n    <path clip-path=\"url(#p11383628ff)\" d=\"M 308.645542 224.64 \nL 311.246941 224.64 \nL 311.246941 216.07937 \nL 308.645542 216.07937 \nz\n\" style=\"fill:#1f77b4;\"/>\n   </g>\n   <g id=\"patch_104\">\n    <path clip-path=\"url(#p11383628ff)\" d=\"M 311.246941 224.64 \nL 313.848339 224.64 \nL 313.848339 223.824702 \nL 311.246941 223.824702 \nz\n\" style=\"fill:#1f77b4;\"/>\n   </g>\n   <g id=\"patch_105\">\n    <path clip-path=\"url(#p11383628ff)\" d=\"M 313.848339 224.64 \nL 316.449738 224.64 \nL 316.449738 223.009404 \nL 313.848339 223.009404 \nz\n\" style=\"fill:#1f77b4;\"/>\n   </g>\n   <g id=\"patch_106\">\n    <path clip-path=\"url(#p11383628ff)\" d=\"M 316.449738 224.64 \nL 319.051136 224.64 \nL 319.051136 224.232351 \nL 316.449738 224.232351 \nz\n\" style=\"fill:#1f77b4;\"/>\n   </g>\n   <g id=\"patch_107\">\n    <path clip-path=\"url(#p11383628ff)\" d=\"M 319.051136 224.64 \nL 321.652535 224.64 \nL 321.652535 223.009404 \nL 319.051136 223.009404 \nz\n\" style=\"fill:#1f77b4;\"/>\n   </g>\n   <g id=\"patch_108\">\n    <path clip-path=\"url(#p11383628ff)\" d=\"M 321.652535 224.64 \nL 324.253934 224.64 \nL 324.253934 224.232351 \nL 321.652535 224.232351 \nz\n\" style=\"fill:#1f77b4;\"/>\n   </g>\n   <g id=\"patch_109\">\n    <path clip-path=\"url(#p11383628ff)\" d=\"M 324.253934 224.64 \nL 326.855332 224.64 \nL 326.855332 220.56351 \nL 324.253934 220.56351 \nz\n\" style=\"fill:#1f77b4;\"/>\n   </g>\n   <g id=\"patch_110\">\n    <path clip-path=\"url(#p11383628ff)\" d=\"M 326.855332 224.64 \nL 329.456731 224.64 \nL 329.456731 223.824702 \nL 326.855332 223.824702 \nz\n\" style=\"fill:#1f77b4;\"/>\n   </g>\n   <g id=\"patch_111\">\n    <path clip-path=\"url(#p11383628ff)\" d=\"M 329.456731 224.64 \nL 332.058129 224.64 \nL 332.058129 224.232351 \nL 329.456731 224.232351 \nz\n\" style=\"fill:#1f77b4;\"/>\n   </g>\n   <g id=\"patch_112\">\n    <path clip-path=\"url(#p11383628ff)\" d=\"M 332.058129 224.64 \nL 334.659528 224.64 \nL 334.659528 223.417053 \nL 332.058129 223.417053 \nz\n\" style=\"fill:#1f77b4;\"/>\n   </g>\n   <g id=\"patch_113\">\n    <path clip-path=\"url(#p11383628ff)\" d=\"M 334.659528 224.64 \nL 337.260927 224.64 \nL 337.260927 224.232351 \nL 334.659528 224.232351 \nz\n\" style=\"fill:#1f77b4;\"/>\n   </g>\n   <g id=\"patch_114\">\n    <path clip-path=\"url(#p11383628ff)\" d=\"M 337.260927 224.64 \nL 339.862325 224.64 \nL 339.862325 220.56351 \nL 337.260927 220.56351 \nz\n\" style=\"fill:#1f77b4;\"/>\n   </g>\n   <g id=\"patch_115\">\n    <path clip-path=\"url(#p11383628ff)\" d=\"M 339.862325 224.64 \nL 342.463724 224.64 \nL 342.463724 222.194106 \nL 339.862325 222.194106 \nz\n\" style=\"fill:#1f77b4;\"/>\n   </g>\n   <g id=\"patch_116\">\n    <path clip-path=\"url(#p11383628ff)\" d=\"M 342.463724 224.64 \nL 345.065122 224.64 \nL 345.065122 224.232351 \nL 342.463724 224.232351 \nz\n\" style=\"fill:#1f77b4;\"/>\n   </g>\n   <g id=\"patch_117\">\n    <path clip-path=\"url(#p11383628ff)\" d=\"M 345.065122 224.64 \nL 347.666521 224.64 \nL 347.666521 224.64 \nL 345.065122 224.64 \nz\n\" style=\"fill:#1f77b4;\"/>\n   </g>\n   <g id=\"patch_118\">\n    <path clip-path=\"url(#p11383628ff)\" d=\"M 347.666521 224.64 \nL 350.26792 224.64 \nL 350.26792 224.232351 \nL 347.666521 224.232351 \nz\n\" style=\"fill:#1f77b4;\"/>\n   </g>\n   <g id=\"patch_119\">\n    <path clip-path=\"url(#p11383628ff)\" d=\"M 350.26792 224.64 \nL 352.869318 224.64 \nL 352.869318 224.232351 \nL 350.26792 224.232351 \nz\n\" style=\"fill:#1f77b4;\"/>\n   </g>\n   <g id=\"matplotlib.axis_1\">\n    <g id=\"xtick_1\">\n     <g id=\"line2d_1\">\n      <defs>\n       <path d=\"M 0 0 \nL 0 3.5 \n\" id=\"m191b1fc1fd\" style=\"stroke:#000000;stroke-width:0.8;\"/>\n      </defs>\n      <g>\n       <use style=\"stroke:#000000;stroke-width:0.8;\" x=\"48.505682\" xlink:href=\"#m191b1fc1fd\" y=\"224.64\"/>\n      </g>\n     </g>\n     <g id=\"text_1\">\n      <!-- 0 -->\n      <g transform=\"translate(45.324432 239.238437)scale(0.1 -0.1)\">\n       <defs>\n        <path d=\"M 31.78125 66.40625 \nQ 24.171875 66.40625 20.328125 58.90625 \nQ 16.5 51.421875 16.5 36.375 \nQ 16.5 21.390625 20.328125 13.890625 \nQ 24.171875 6.390625 31.78125 6.390625 \nQ 39.453125 6.390625 43.28125 13.890625 \nQ 47.125 21.390625 47.125 36.375 \nQ 47.125 51.421875 43.28125 58.90625 \nQ 39.453125 66.40625 31.78125 66.40625 \nz\nM 31.78125 74.21875 \nQ 44.046875 74.21875 50.515625 64.515625 \nQ 56.984375 54.828125 56.984375 36.375 \nQ 56.984375 17.96875 50.515625 8.265625 \nQ 44.046875 -1.421875 31.78125 -1.421875 \nQ 19.53125 -1.421875 13.0625 8.265625 \nQ 6.59375 17.96875 6.59375 36.375 \nQ 6.59375 54.828125 13.0625 64.515625 \nQ 19.53125 74.21875 31.78125 74.21875 \nz\n\" id=\"DejaVuSans-48\"/>\n       </defs>\n       <use xlink:href=\"#DejaVuSans-48\"/>\n      </g>\n     </g>\n    </g>\n    <g id=\"xtick_2\">\n     <g id=\"line2d_2\">\n      <g>\n       <use style=\"stroke:#000000;stroke-width:0.8;\" x=\"100.533654\" xlink:href=\"#m191b1fc1fd\" y=\"224.64\"/>\n      </g>\n     </g>\n     <g id=\"text_2\">\n      <!-- 20 -->\n      <g transform=\"translate(94.171154 239.238437)scale(0.1 -0.1)\">\n       <defs>\n        <path d=\"M 19.1875 8.296875 \nL 53.609375 8.296875 \nL 53.609375 0 \nL 7.328125 0 \nL 7.328125 8.296875 \nQ 12.9375 14.109375 22.625 23.890625 \nQ 32.328125 33.6875 34.8125 36.53125 \nQ 39.546875 41.84375 41.421875 45.53125 \nQ 43.3125 49.21875 43.3125 52.78125 \nQ 43.3125 58.59375 39.234375 62.25 \nQ 35.15625 65.921875 28.609375 65.921875 \nQ 23.96875 65.921875 18.8125 64.3125 \nQ 13.671875 62.703125 7.8125 59.421875 \nL 7.8125 69.390625 \nQ 13.765625 71.78125 18.9375 73 \nQ 24.125 74.21875 28.421875 74.21875 \nQ 39.75 74.21875 46.484375 68.546875 \nQ 53.21875 62.890625 53.21875 53.421875 \nQ 53.21875 48.921875 51.53125 44.890625 \nQ 49.859375 40.875 45.40625 35.40625 \nQ 44.1875 33.984375 37.640625 27.21875 \nQ 31.109375 20.453125 19.1875 8.296875 \nz\n\" id=\"DejaVuSans-50\"/>\n       </defs>\n       <use xlink:href=\"#DejaVuSans-50\"/>\n       <use x=\"63.623047\" xlink:href=\"#DejaVuSans-48\"/>\n      </g>\n     </g>\n    </g>\n    <g id=\"xtick_3\">\n     <g id=\"line2d_3\">\n      <g>\n       <use style=\"stroke:#000000;stroke-width:0.8;\" x=\"152.561626\" xlink:href=\"#m191b1fc1fd\" y=\"224.64\"/>\n      </g>\n     </g>\n     <g id=\"text_3\">\n      <!-- 40 -->\n      <g transform=\"translate(146.199126 239.238437)scale(0.1 -0.1)\">\n       <defs>\n        <path d=\"M 37.796875 64.3125 \nL 12.890625 25.390625 \nL 37.796875 25.390625 \nz\nM 35.203125 72.90625 \nL 47.609375 72.90625 \nL 47.609375 25.390625 \nL 58.015625 25.390625 \nL 58.015625 17.1875 \nL 47.609375 17.1875 \nL 47.609375 0 \nL 37.796875 0 \nL 37.796875 17.1875 \nL 4.890625 17.1875 \nL 4.890625 26.703125 \nz\n\" id=\"DejaVuSans-52\"/>\n       </defs>\n       <use xlink:href=\"#DejaVuSans-52\"/>\n       <use x=\"63.623047\" xlink:href=\"#DejaVuSans-48\"/>\n      </g>\n     </g>\n    </g>\n    <g id=\"xtick_4\">\n     <g id=\"line2d_4\">\n      <g>\n       <use style=\"stroke:#000000;stroke-width:0.8;\" x=\"204.589598\" xlink:href=\"#m191b1fc1fd\" y=\"224.64\"/>\n      </g>\n     </g>\n     <g id=\"text_4\">\n      <!-- 60 -->\n      <g transform=\"translate(198.227098 239.238437)scale(0.1 -0.1)\">\n       <defs>\n        <path d=\"M 33.015625 40.375 \nQ 26.375 40.375 22.484375 35.828125 \nQ 18.609375 31.296875 18.609375 23.390625 \nQ 18.609375 15.53125 22.484375 10.953125 \nQ 26.375 6.390625 33.015625 6.390625 \nQ 39.65625 6.390625 43.53125 10.953125 \nQ 47.40625 15.53125 47.40625 23.390625 \nQ 47.40625 31.296875 43.53125 35.828125 \nQ 39.65625 40.375 33.015625 40.375 \nz\nM 52.59375 71.296875 \nL 52.59375 62.3125 \nQ 48.875 64.0625 45.09375 64.984375 \nQ 41.3125 65.921875 37.59375 65.921875 \nQ 27.828125 65.921875 22.671875 59.328125 \nQ 17.53125 52.734375 16.796875 39.40625 \nQ 19.671875 43.65625 24.015625 45.921875 \nQ 28.375 48.1875 33.59375 48.1875 \nQ 44.578125 48.1875 50.953125 41.515625 \nQ 57.328125 34.859375 57.328125 23.390625 \nQ 57.328125 12.15625 50.6875 5.359375 \nQ 44.046875 -1.421875 33.015625 -1.421875 \nQ 20.359375 -1.421875 13.671875 8.265625 \nQ 6.984375 17.96875 6.984375 36.375 \nQ 6.984375 53.65625 15.1875 63.9375 \nQ 23.390625 74.21875 37.203125 74.21875 \nQ 40.921875 74.21875 44.703125 73.484375 \nQ 48.484375 72.75 52.59375 71.296875 \nz\n\" id=\"DejaVuSans-54\"/>\n       </defs>\n       <use xlink:href=\"#DejaVuSans-54\"/>\n       <use x=\"63.623047\" xlink:href=\"#DejaVuSans-48\"/>\n      </g>\n     </g>\n    </g>\n    <g id=\"xtick_5\">\n     <g id=\"line2d_5\">\n      <g>\n       <use style=\"stroke:#000000;stroke-width:0.8;\" x=\"256.61757\" xlink:href=\"#m191b1fc1fd\" y=\"224.64\"/>\n      </g>\n     </g>\n     <g id=\"text_5\">\n      <!-- 80 -->\n      <g transform=\"translate(250.25507 239.238437)scale(0.1 -0.1)\">\n       <defs>\n        <path d=\"M 31.78125 34.625 \nQ 24.75 34.625 20.71875 30.859375 \nQ 16.703125 27.09375 16.703125 20.515625 \nQ 16.703125 13.921875 20.71875 10.15625 \nQ 24.75 6.390625 31.78125 6.390625 \nQ 38.8125 6.390625 42.859375 10.171875 \nQ 46.921875 13.96875 46.921875 20.515625 \nQ 46.921875 27.09375 42.890625 30.859375 \nQ 38.875 34.625 31.78125 34.625 \nz\nM 21.921875 38.8125 \nQ 15.578125 40.375 12.03125 44.71875 \nQ 8.5 49.078125 8.5 55.328125 \nQ 8.5 64.0625 14.71875 69.140625 \nQ 20.953125 74.21875 31.78125 74.21875 \nQ 42.671875 74.21875 48.875 69.140625 \nQ 55.078125 64.0625 55.078125 55.328125 \nQ 55.078125 49.078125 51.53125 44.71875 \nQ 48 40.375 41.703125 38.8125 \nQ 48.828125 37.15625 52.796875 32.3125 \nQ 56.78125 27.484375 56.78125 20.515625 \nQ 56.78125 9.90625 50.3125 4.234375 \nQ 43.84375 -1.421875 31.78125 -1.421875 \nQ 19.734375 -1.421875 13.25 4.234375 \nQ 6.78125 9.90625 6.78125 20.515625 \nQ 6.78125 27.484375 10.78125 32.3125 \nQ 14.796875 37.15625 21.921875 38.8125 \nz\nM 18.3125 54.390625 \nQ 18.3125 48.734375 21.84375 45.5625 \nQ 25.390625 42.390625 31.78125 42.390625 \nQ 38.140625 42.390625 41.71875 45.5625 \nQ 45.3125 48.734375 45.3125 54.390625 \nQ 45.3125 60.0625 41.71875 63.234375 \nQ 38.140625 66.40625 31.78125 66.40625 \nQ 25.390625 66.40625 21.84375 63.234375 \nQ 18.3125 60.0625 18.3125 54.390625 \nz\n\" id=\"DejaVuSans-56\"/>\n       </defs>\n       <use xlink:href=\"#DejaVuSans-56\"/>\n       <use x=\"63.623047\" xlink:href=\"#DejaVuSans-48\"/>\n      </g>\n     </g>\n    </g>\n    <g id=\"xtick_6\">\n     <g id=\"line2d_6\">\n      <g>\n       <use style=\"stroke:#000000;stroke-width:0.8;\" x=\"308.645542\" xlink:href=\"#m191b1fc1fd\" y=\"224.64\"/>\n      </g>\n     </g>\n     <g id=\"text_6\">\n      <!-- 100 -->\n      <g transform=\"translate(299.101792 239.238437)scale(0.1 -0.1)\">\n       <defs>\n        <path d=\"M 12.40625 8.296875 \nL 28.515625 8.296875 \nL 28.515625 63.921875 \nL 10.984375 60.40625 \nL 10.984375 69.390625 \nL 28.421875 72.90625 \nL 38.28125 72.90625 \nL 38.28125 8.296875 \nL 54.390625 8.296875 \nL 54.390625 0 \nL 12.40625 0 \nz\n\" id=\"DejaVuSans-49\"/>\n       </defs>\n       <use xlink:href=\"#DejaVuSans-49\"/>\n       <use x=\"63.623047\" xlink:href=\"#DejaVuSans-48\"/>\n       <use x=\"127.246094\" xlink:href=\"#DejaVuSans-48\"/>\n      </g>\n     </g>\n    </g>\n    <g id=\"xtick_7\">\n     <g id=\"line2d_7\">\n      <g>\n       <use style=\"stroke:#000000;stroke-width:0.8;\" x=\"360.673514\" xlink:href=\"#m191b1fc1fd\" y=\"224.64\"/>\n      </g>\n     </g>\n     <g id=\"text_7\">\n      <!-- 120 -->\n      <g transform=\"translate(351.129764 239.238437)scale(0.1 -0.1)\">\n       <use xlink:href=\"#DejaVuSans-49\"/>\n       <use x=\"63.623047\" xlink:href=\"#DejaVuSans-50\"/>\n       <use x=\"127.246094\" xlink:href=\"#DejaVuSans-48\"/>\n      </g>\n     </g>\n    </g>\n   </g>\n   <g id=\"matplotlib.axis_2\">\n    <g id=\"ytick_1\">\n     <g id=\"line2d_8\">\n      <defs>\n       <path d=\"M 0 0 \nL -3.5 0 \n\" id=\"m135bbc8384\" style=\"stroke:#000000;stroke-width:0.8;\"/>\n      </defs>\n      <g>\n       <use style=\"stroke:#000000;stroke-width:0.8;\" x=\"33.2875\" xlink:href=\"#m135bbc8384\" y=\"224.64\"/>\n      </g>\n     </g>\n     <g id=\"text_8\">\n      <!-- 0 -->\n      <g transform=\"translate(19.925 228.439219)scale(0.1 -0.1)\">\n       <use xlink:href=\"#DejaVuSans-48\"/>\n      </g>\n     </g>\n    </g>\n    <g id=\"ytick_2\">\n     <g id=\"line2d_9\">\n      <g>\n       <use style=\"stroke:#000000;stroke-width:0.8;\" x=\"33.2875\" xlink:href=\"#m135bbc8384\" y=\"183.875096\"/>\n      </g>\n     </g>\n     <g id=\"text_9\">\n      <!-- 100 -->\n      <g transform=\"translate(7.2 187.674314)scale(0.1 -0.1)\">\n       <use xlink:href=\"#DejaVuSans-49\"/>\n       <use x=\"63.623047\" xlink:href=\"#DejaVuSans-48\"/>\n       <use x=\"127.246094\" xlink:href=\"#DejaVuSans-48\"/>\n      </g>\n     </g>\n    </g>\n    <g id=\"ytick_3\">\n     <g id=\"line2d_10\">\n      <g>\n       <use style=\"stroke:#000000;stroke-width:0.8;\" x=\"33.2875\" xlink:href=\"#m135bbc8384\" y=\"143.110191\"/>\n      </g>\n     </g>\n     <g id=\"text_10\">\n      <!-- 200 -->\n      <g transform=\"translate(7.2 146.90941)scale(0.1 -0.1)\">\n       <use xlink:href=\"#DejaVuSans-50\"/>\n       <use x=\"63.623047\" xlink:href=\"#DejaVuSans-48\"/>\n       <use x=\"127.246094\" xlink:href=\"#DejaVuSans-48\"/>\n      </g>\n     </g>\n    </g>\n    <g id=\"ytick_4\">\n     <g id=\"line2d_11\">\n      <g>\n       <use style=\"stroke:#000000;stroke-width:0.8;\" x=\"33.2875\" xlink:href=\"#m135bbc8384\" y=\"102.345287\"/>\n      </g>\n     </g>\n     <g id=\"text_11\">\n      <!-- 300 -->\n      <g transform=\"translate(7.2 106.144506)scale(0.1 -0.1)\">\n       <defs>\n        <path d=\"M 40.578125 39.3125 \nQ 47.65625 37.796875 51.625 33 \nQ 55.609375 28.21875 55.609375 21.1875 \nQ 55.609375 10.40625 48.1875 4.484375 \nQ 40.765625 -1.421875 27.09375 -1.421875 \nQ 22.515625 -1.421875 17.65625 -0.515625 \nQ 12.796875 0.390625 7.625 2.203125 \nL 7.625 11.71875 \nQ 11.71875 9.328125 16.59375 8.109375 \nQ 21.484375 6.890625 26.8125 6.890625 \nQ 36.078125 6.890625 40.9375 10.546875 \nQ 45.796875 14.203125 45.796875 21.1875 \nQ 45.796875 27.640625 41.28125 31.265625 \nQ 36.765625 34.90625 28.71875 34.90625 \nL 20.21875 34.90625 \nL 20.21875 43.015625 \nL 29.109375 43.015625 \nQ 36.375 43.015625 40.234375 45.921875 \nQ 44.09375 48.828125 44.09375 54.296875 \nQ 44.09375 59.90625 40.109375 62.90625 \nQ 36.140625 65.921875 28.71875 65.921875 \nQ 24.65625 65.921875 20.015625 65.03125 \nQ 15.375 64.15625 9.8125 62.3125 \nL 9.8125 71.09375 \nQ 15.4375 72.65625 20.34375 73.4375 \nQ 25.25 74.21875 29.59375 74.21875 \nQ 40.828125 74.21875 47.359375 69.109375 \nQ 53.90625 64.015625 53.90625 55.328125 \nQ 53.90625 49.265625 50.4375 45.09375 \nQ 46.96875 40.921875 40.578125 39.3125 \nz\n\" id=\"DejaVuSans-51\"/>\n       </defs>\n       <use xlink:href=\"#DejaVuSans-51\"/>\n       <use x=\"63.623047\" xlink:href=\"#DejaVuSans-48\"/>\n       <use x=\"127.246094\" xlink:href=\"#DejaVuSans-48\"/>\n      </g>\n     </g>\n    </g>\n    <g id=\"ytick_5\">\n     <g id=\"line2d_12\">\n      <g>\n       <use style=\"stroke:#000000;stroke-width:0.8;\" x=\"33.2875\" xlink:href=\"#m135bbc8384\" y=\"61.580382\"/>\n      </g>\n     </g>\n     <g id=\"text_12\">\n      <!-- 400 -->\n      <g transform=\"translate(7.2 65.379601)scale(0.1 -0.1)\">\n       <use xlink:href=\"#DejaVuSans-52\"/>\n       <use x=\"63.623047\" xlink:href=\"#DejaVuSans-48\"/>\n       <use x=\"127.246094\" xlink:href=\"#DejaVuSans-48\"/>\n      </g>\n     </g>\n    </g>\n    <g id=\"ytick_6\">\n     <g id=\"line2d_13\">\n      <g>\n       <use style=\"stroke:#000000;stroke-width:0.8;\" x=\"33.2875\" xlink:href=\"#m135bbc8384\" y=\"20.815478\"/>\n      </g>\n     </g>\n     <g id=\"text_13\">\n      <!-- 500 -->\n      <g transform=\"translate(7.2 24.614697)scale(0.1 -0.1)\">\n       <defs>\n        <path d=\"M 10.796875 72.90625 \nL 49.515625 72.90625 \nL 49.515625 64.59375 \nL 19.828125 64.59375 \nL 19.828125 46.734375 \nQ 21.96875 47.46875 24.109375 47.828125 \nQ 26.265625 48.1875 28.421875 48.1875 \nQ 40.625 48.1875 47.75 41.5 \nQ 54.890625 34.8125 54.890625 23.390625 \nQ 54.890625 11.625 47.5625 5.09375 \nQ 40.234375 -1.421875 26.90625 -1.421875 \nQ 22.3125 -1.421875 17.546875 -0.640625 \nQ 12.796875 0.140625 7.71875 1.703125 \nL 7.71875 11.625 \nQ 12.109375 9.234375 16.796875 8.0625 \nQ 21.484375 6.890625 26.703125 6.890625 \nQ 35.15625 6.890625 40.078125 11.328125 \nQ 45.015625 15.765625 45.015625 23.390625 \nQ 45.015625 31 40.078125 35.4375 \nQ 35.15625 39.890625 26.703125 39.890625 \nQ 22.75 39.890625 18.8125 39.015625 \nQ 14.890625 38.140625 10.796875 36.28125 \nz\n\" id=\"DejaVuSans-53\"/>\n       </defs>\n       <use xlink:href=\"#DejaVuSans-53\"/>\n       <use x=\"63.623047\" xlink:href=\"#DejaVuSans-48\"/>\n       <use x=\"127.246094\" xlink:href=\"#DejaVuSans-48\"/>\n      </g>\n     </g>\n    </g>\n   </g>\n   <g id=\"patch_120\">\n    <path d=\"M 33.2875 224.64 \nL 33.2875 7.2 \n\" style=\"fill:none;stroke:#000000;stroke-linecap:square;stroke-linejoin:miter;stroke-width:0.8;\"/>\n   </g>\n   <g id=\"patch_121\">\n    <path d=\"M 368.0875 224.64 \nL 368.0875 7.2 \n\" style=\"fill:none;stroke:#000000;stroke-linecap:square;stroke-linejoin:miter;stroke-width:0.8;\"/>\n   </g>\n   <g id=\"patch_122\">\n    <path d=\"M 33.2875 224.64 \nL 368.0875 224.64 \n\" style=\"fill:none;stroke:#000000;stroke-linecap:square;stroke-linejoin:miter;stroke-width:0.8;\"/>\n   </g>\n   <g id=\"patch_123\">\n    <path d=\"M 33.2875 7.2 \nL 368.0875 7.2 \n\" style=\"fill:none;stroke:#000000;stroke-linecap:square;stroke-linejoin:miter;stroke-width:0.8;\"/>\n   </g>\n  </g>\n </g>\n <defs>\n  <clipPath id=\"p11383628ff\">\n   <rect height=\"217.44\" width=\"334.8\" x=\"33.2875\" y=\"7.2\"/>\n  </clipPath>\n </defs>\n</svg>\n",
            "image/png": "[encoded data removed]"
          },
          "metadata": {
            "needs_background": "light"
          }
        }
      ],
      "source": [
        "hist = plt.hist(totalArray, bins=117, range=(0,117))\n",
        "codes = np.loadtxt( pathToDataSet + 'classesNumber.txt', dtype=str, delimiter='\\n',encoding='utf') \n",
        "codes = [code.split(\": \")[0] for code in codes] #pega apenas o ID de cada classe e ignora o nome\n",
        "dicionario = {}\n",
        "\n",
        "\n",
        "for code, contagem in zip(codes, hist[0]):\n",
        "    dicionario[code] = int(contagem)\n",
        "\n",
        "dicionario = {k: v for k, v in sorted(dicionario.items(), key=lambda item: item[1], reverse=True)} #sort\n",
        "\n"
      ]
    },
    {
      "cell_type": "code",
      "execution_count": 8,
      "metadata": {},
      "outputs": [
        {
          "output_type": "display_data",
          "data": {
            "text/plain": "<Figure size 2160x720 with 1 Axes>",
            "image/svg+xml": "<?xml version=\"1.0\" encoding=\"utf-8\" standalone=\"no\"?>\n<!DOCTYPE svg PUBLIC \"-//W3C//DTD SVG 1.1//EN\"\n  \"http://www.w3.org/Graphics/SVG/1.1/DTD/svg11.dtd\">\n<!-- Created with matplotlib (https://matplotlib.org/) -->\n<svg height=\"712.7625pt\" version=\"1.1\" viewBox=\"0 0 2153.0125 712.7625\" width=\"2153.0125pt\" xmlns=\"http://www.w3.org/2000/svg\" xmlns:xlink=\"http://www.w3.org/1999/xlink\">\n <metadata>\n  <rdf:RDF xmlns:cc=\"http://creativecommons.org/ns#\" xmlns:dc=\"http://purl.org/dc/elements/1.1/\" xmlns:rdf=\"http://www.w3.org/1999/02/22-rdf-syntax-ns#\">\n   <cc:Work>\n    <dc:type rdf:resource=\"http://purl.org/dc/dcmitype/StillImage\"/>\n    <dc:date>2021-04-20T17:10:08.805375</dc:date>\n    <dc:format>image/svg+xml</dc:format>\n    <dc:creator>\n     <cc:Agent>\n      <dc:title>Matplotlib v3.3.4, https://matplotlib.org/</dc:title>\n     </cc:Agent>\n    </dc:creator>\n   </cc:Work>\n  </rdf:RDF>\n </metadata>\n <defs>\n  <style type=\"text/css\">*{stroke-linecap:butt;stroke-linejoin:round;}</style>\n </defs>\n <g id=\"figure_1\">\n  <g id=\"patch_1\">\n   <path d=\"M 0 712.7625 \nL 2153.0125 712.7625 \nL 2153.0125 0 \nL 0 0 \nz\n\" style=\"fill:none;\"/>\n  </g>\n  <g id=\"axes_1\">\n   <g id=\"patch_2\">\n    <path d=\"M 33.2875 679.475 \nL 2145.8125 679.475 \nL 2145.8125 7.2 \nL 33.2875 7.2 \nz\n\" style=\"fill:#ffffff;\"/>\n   </g>\n   <g id=\"patch_3\">\n    <path clip-path=\"url(#p02c9ebe252)\" d=\"M 129.311364 679.475 \nL 142.465318 679.475 \nL 142.465318 39.213095 \nL 129.311364 39.213095 \nz\n\" style=\"fill:#1f77b4;\"/>\n   </g>\n   <g id=\"patch_4\">\n    <path clip-path=\"url(#p02c9ebe252)\" d=\"M 145.753806 679.475 \nL 158.90776 679.475 \nL 158.90776 380.770135 \nL 145.753806 380.770135 \nz\n\" style=\"fill:#1f77b4;\"/>\n   </g>\n   <g id=\"patch_5\">\n    <path clip-path=\"url(#p02c9ebe252)\" d=\"M 162.196248 679.475 \nL 175.350202 679.475 \nL 175.350202 479.078065 \nL 162.196248 479.078065 \nz\n\" style=\"fill:#1f77b4;\"/>\n   </g>\n   <g id=\"patch_6\">\n    <path clip-path=\"url(#p02c9ebe252)\" d=\"M 178.638691 679.475 \nL 191.792645 679.475 \nL 191.792645 500.504153 \nL 178.638691 500.504153 \nz\n\" style=\"fill:#1f77b4;\"/>\n   </g>\n   <g id=\"patch_7\">\n    <path clip-path=\"url(#p02c9ebe252)\" d=\"M 195.081133 679.475 \nL 208.235087 679.475 \nL 208.235087 516.888808 \nL 195.081133 516.888808 \nz\n\" style=\"fill:#1f77b4;\"/>\n   </g>\n   <g id=\"patch_8\">\n    <path clip-path=\"url(#p02c9ebe252)\" d=\"M 211.523576 679.475 \nL 224.67753 679.475 \nL 224.67753 520.669882 \nL 211.523576 520.669882 \nz\n\" style=\"fill:#1f77b4;\"/>\n   </g>\n   <g id=\"patch_9\">\n    <path clip-path=\"url(#p02c9ebe252)\" d=\"M 227.966018 679.475 \nL 241.119972 679.475 \nL 241.119972 524.450956 \nL 227.966018 524.450956 \nz\n\" style=\"fill:#1f77b4;\"/>\n   </g>\n   <g id=\"patch_10\">\n    <path clip-path=\"url(#p02c9ebe252)\" d=\"M 244.40846 679.475 \nL 257.562414 679.475 \nL 257.562414 542.095969 \nL 244.40846 542.095969 \nz\n\" style=\"fill:#1f77b4;\"/>\n   </g>\n   <g id=\"patch_11\">\n    <path clip-path=\"url(#p02c9ebe252)\" d=\"M 260.850903 679.475 \nL 274.004857 679.475 \nL 274.004857 584.948144 \nL 260.850903 584.948144 \nz\n\" style=\"fill:#1f77b4;\"/>\n   </g>\n   <g id=\"patch_12\">\n    <path clip-path=\"url(#p02c9ebe252)\" d=\"M 277.293345 679.475 \nL 290.447299 679.475 \nL 290.447299 589.989576 \nL 277.293345 589.989576 \nz\n\" style=\"fill:#1f77b4;\"/>\n   </g>\n   <g id=\"patch_13\">\n    <path clip-path=\"url(#p02c9ebe252)\" d=\"M 293.735788 679.475 \nL 306.889742 679.475 \nL 306.889742 608.894948 \nL 293.735788 608.894948 \nz\n\" style=\"fill:#1f77b4;\"/>\n   </g>\n   <g id=\"patch_14\">\n    <path clip-path=\"url(#p02c9ebe252)\" d=\"M 310.17823 679.475 \nL 323.332184 679.475 \nL 323.332184 608.894948 \nL 310.17823 608.894948 \nz\n\" style=\"fill:#1f77b4;\"/>\n   </g>\n   <g id=\"patch_15\">\n    <path clip-path=\"url(#p02c9ebe252)\" d=\"M 326.620672 679.475 \nL 339.774626 679.475 \nL 339.774626 611.415664 \nL 326.620672 611.415664 \nz\n\" style=\"fill:#1f77b4;\"/>\n   </g>\n   <g id=\"patch_16\">\n    <path clip-path=\"url(#p02c9ebe252)\" d=\"M 343.063115 679.475 \nL 356.217069 679.475 \nL 356.217069 613.93638 \nL 343.063115 613.93638 \nz\n\" style=\"fill:#1f77b4;\"/>\n   </g>\n   <g id=\"patch_17\">\n    <path clip-path=\"url(#p02c9ebe252)\" d=\"M 359.505557 679.475 \nL 372.659511 679.475 \nL 372.659511 617.717454 \nL 359.505557 617.717454 \nz\n\" style=\"fill:#1f77b4;\"/>\n   </g>\n   <g id=\"patch_18\">\n    <path clip-path=\"url(#p02c9ebe252)\" d=\"M 375.948 679.475 \nL 389.101954 679.475 \nL 389.101954 629.060677 \nL 375.948 629.060677 \nz\n\" style=\"fill:#1f77b4;\"/>\n   </g>\n   <g id=\"patch_19\">\n    <path clip-path=\"url(#p02c9ebe252)\" d=\"M 392.390442 679.475 \nL 405.544396 679.475 \nL 405.544396 630.321035 \nL 392.390442 630.321035 \nz\n\" style=\"fill:#1f77b4;\"/>\n   </g>\n   <g id=\"patch_20\">\n    <path clip-path=\"url(#p02c9ebe252)\" d=\"M 408.832884 679.475 \nL 421.986838 679.475 \nL 421.986838 631.581393 \nL 408.832884 631.581393 \nz\n\" style=\"fill:#1f77b4;\"/>\n   </g>\n   <g id=\"patch_21\">\n    <path clip-path=\"url(#p02c9ebe252)\" d=\"M 425.275327 679.475 \nL 438.429281 679.475 \nL 438.429281 634.102109 \nL 425.275327 634.102109 \nz\n\" style=\"fill:#1f77b4;\"/>\n   </g>\n   <g id=\"patch_22\">\n    <path clip-path=\"url(#p02c9ebe252)\" d=\"M 441.717769 679.475 \nL 454.871723 679.475 \nL 454.871723 636.622825 \nL 441.717769 636.622825 \nz\n\" style=\"fill:#1f77b4;\"/>\n   </g>\n   <g id=\"patch_23\">\n    <path clip-path=\"url(#p02c9ebe252)\" d=\"M 458.160212 679.475 \nL 471.314166 679.475 \nL 471.314166 637.883183 \nL 458.160212 637.883183 \nz\n\" style=\"fill:#1f77b4;\"/>\n   </g>\n   <g id=\"patch_24\">\n    <path clip-path=\"url(#p02c9ebe252)\" d=\"M 474.602654 679.475 \nL 487.756608 679.475 \nL 487.756608 639.143541 \nL 474.602654 639.143541 \nz\n\" style=\"fill:#1f77b4;\"/>\n   </g>\n   <g id=\"patch_25\">\n    <path clip-path=\"url(#p02c9ebe252)\" d=\"M 491.045097 679.475 \nL 504.19905 679.475 \nL 504.19905 640.4039 \nL 491.045097 640.4039 \nz\n\" style=\"fill:#1f77b4;\"/>\n   </g>\n   <g id=\"patch_26\">\n    <path clip-path=\"url(#p02c9ebe252)\" d=\"M 507.487539 679.475 \nL 520.641493 679.475 \nL 520.641493 641.664258 \nL 507.487539 641.664258 \nz\n\" style=\"fill:#1f77b4;\"/>\n   </g>\n   <g id=\"patch_27\">\n    <path clip-path=\"url(#p02c9ebe252)\" d=\"M 523.929981 679.475 \nL 537.083935 679.475 \nL 537.083935 646.70569 \nL 523.929981 646.70569 \nz\n\" style=\"fill:#1f77b4;\"/>\n   </g>\n   <g id=\"patch_28\">\n    <path clip-path=\"url(#p02c9ebe252)\" d=\"M 540.372424 679.475 \nL 553.526378 679.475 \nL 553.526378 646.70569 \nL 540.372424 646.70569 \nz\n\" style=\"fill:#1f77b4;\"/>\n   </g>\n   <g id=\"patch_29\">\n    <path clip-path=\"url(#p02c9ebe252)\" d=\"M 556.814866 679.475 \nL 569.96882 679.475 \nL 569.96882 647.966048 \nL 556.814866 647.966048 \nz\n\" style=\"fill:#1f77b4;\"/>\n   </g>\n   <g id=\"patch_30\">\n    <path clip-path=\"url(#p02c9ebe252)\" d=\"M 573.257309 679.475 \nL 586.411262 679.475 \nL 586.411262 653.00748 \nL 573.257309 653.00748 \nz\n\" style=\"fill:#1f77b4;\"/>\n   </g>\n   <g id=\"patch_31\">\n    <path clip-path=\"url(#p02c9ebe252)\" d=\"M 589.699751 679.475 \nL 602.853705 679.475 \nL 602.853705 653.00748 \nL 589.699751 653.00748 \nz\n\" style=\"fill:#1f77b4;\"/>\n   </g>\n   <g id=\"patch_32\">\n    <path clip-path=\"url(#p02c9ebe252)\" d=\"M 606.142193 679.475 \nL 619.296147 679.475 \nL 619.296147 654.267838 \nL 606.142193 654.267838 \nz\n\" style=\"fill:#1f77b4;\"/>\n   </g>\n   <g id=\"patch_33\">\n    <path clip-path=\"url(#p02c9ebe252)\" d=\"M 622.584636 679.475 \nL 635.73859 679.475 \nL 635.73859 655.528196 \nL 622.584636 655.528196 \nz\n\" style=\"fill:#1f77b4;\"/>\n   </g>\n   <g id=\"patch_34\">\n    <path clip-path=\"url(#p02c9ebe252)\" d=\"M 639.027078 679.475 \nL 652.181032 679.475 \nL 652.181032 656.788555 \nL 639.027078 656.788555 \nz\n\" style=\"fill:#1f77b4;\"/>\n   </g>\n   <g id=\"patch_35\">\n    <path clip-path=\"url(#p02c9ebe252)\" d=\"M 655.469521 679.475 \nL 668.623474 679.475 \nL 668.623474 658.048913 \nL 655.469521 658.048913 \nz\n\" style=\"fill:#1f77b4;\"/>\n   </g>\n   <g id=\"patch_36\">\n    <path clip-path=\"url(#p02c9ebe252)\" d=\"M 671.911963 679.475 \nL 685.065917 679.475 \nL 685.065917 660.569629 \nL 671.911963 660.569629 \nz\n\" style=\"fill:#1f77b4;\"/>\n   </g>\n   <g id=\"patch_37\">\n    <path clip-path=\"url(#p02c9ebe252)\" d=\"M 688.354405 679.475 \nL 701.508359 679.475 \nL 701.508359 660.569629 \nL 688.354405 660.569629 \nz\n\" style=\"fill:#1f77b4;\"/>\n   </g>\n   <g id=\"patch_38\">\n    <path clip-path=\"url(#p02c9ebe252)\" d=\"M 704.796848 679.475 \nL 717.950802 679.475 \nL 717.950802 661.829987 \nL 704.796848 661.829987 \nz\n\" style=\"fill:#1f77b4;\"/>\n   </g>\n   <g id=\"patch_39\">\n    <path clip-path=\"url(#p02c9ebe252)\" d=\"M 721.23929 679.475 \nL 734.393244 679.475 \nL 734.393244 663.090345 \nL 721.23929 663.090345 \nz\n\" style=\"fill:#1f77b4;\"/>\n   </g>\n   <g id=\"patch_40\">\n    <path clip-path=\"url(#p02c9ebe252)\" d=\"M 737.681733 679.475 \nL 750.835686 679.475 \nL 750.835686 663.090345 \nL 737.681733 663.090345 \nz\n\" style=\"fill:#1f77b4;\"/>\n   </g>\n   <g id=\"patch_41\">\n    <path clip-path=\"url(#p02c9ebe252)\" d=\"M 754.124175 679.475 \nL 767.278129 679.475 \nL 767.278129 664.350703 \nL 754.124175 664.350703 \nz\n\" style=\"fill:#1f77b4;\"/>\n   </g>\n   <g id=\"patch_42\">\n    <path clip-path=\"url(#p02c9ebe252)\" d=\"M 770.566617 679.475 \nL 783.720571 679.475 \nL 783.720571 664.350703 \nL 770.566617 664.350703 \nz\n\" style=\"fill:#1f77b4;\"/>\n   </g>\n   <g id=\"patch_43\">\n    <path clip-path=\"url(#p02c9ebe252)\" d=\"M 787.00906 679.475 \nL 800.163014 679.475 \nL 800.163014 664.350703 \nL 787.00906 664.350703 \nz\n\" style=\"fill:#1f77b4;\"/>\n   </g>\n   <g id=\"patch_44\">\n    <path clip-path=\"url(#p02c9ebe252)\" d=\"M 803.451502 679.475 \nL 816.605456 679.475 \nL 816.605456 665.611061 \nL 803.451502 665.611061 \nz\n\" style=\"fill:#1f77b4;\"/>\n   </g>\n   <g id=\"patch_45\">\n    <path clip-path=\"url(#p02c9ebe252)\" d=\"M 819.893945 679.475 \nL 833.047899 679.475 \nL 833.047899 665.611061 \nL 819.893945 665.611061 \nz\n\" style=\"fill:#1f77b4;\"/>\n   </g>\n   <g id=\"patch_46\">\n    <path clip-path=\"url(#p02c9ebe252)\" d=\"M 836.336387 679.475 \nL 849.490341 679.475 \nL 849.490341 665.611061 \nL 836.336387 665.611061 \nz\n\" style=\"fill:#1f77b4;\"/>\n   </g>\n   <g id=\"patch_47\">\n    <path clip-path=\"url(#p02c9ebe252)\" d=\"M 852.778829 679.475 \nL 865.932783 679.475 \nL 865.932783 666.871419 \nL 852.778829 666.871419 \nz\n\" style=\"fill:#1f77b4;\"/>\n   </g>\n   <g id=\"patch_48\">\n    <path clip-path=\"url(#p02c9ebe252)\" d=\"M 869.221272 679.475 \nL 882.375226 679.475 \nL 882.375226 666.871419 \nL 869.221272 666.871419 \nz\n\" style=\"fill:#1f77b4;\"/>\n   </g>\n   <g id=\"patch_49\">\n    <path clip-path=\"url(#p02c9ebe252)\" d=\"M 885.663714 679.475 \nL 898.817668 679.475 \nL 898.817668 666.871419 \nL 885.663714 666.871419 \nz\n\" style=\"fill:#1f77b4;\"/>\n   </g>\n   <g id=\"patch_50\">\n    <path clip-path=\"url(#p02c9ebe252)\" d=\"M 902.106157 679.475 \nL 915.260111 679.475 \nL 915.260111 668.131777 \nL 902.106157 668.131777 \nz\n\" style=\"fill:#1f77b4;\"/>\n   </g>\n   <g id=\"patch_51\">\n    <path clip-path=\"url(#p02c9ebe252)\" d=\"M 918.548599 679.475 \nL 931.702553 679.475 \nL 931.702553 669.392135 \nL 918.548599 669.392135 \nz\n\" style=\"fill:#1f77b4;\"/>\n   </g>\n   <g id=\"patch_52\">\n    <path clip-path=\"url(#p02c9ebe252)\" d=\"M 934.991041 679.475 \nL 948.144995 679.475 \nL 948.144995 669.392135 \nL 934.991041 669.392135 \nz\n\" style=\"fill:#1f77b4;\"/>\n   </g>\n   <g id=\"patch_53\">\n    <path clip-path=\"url(#p02c9ebe252)\" d=\"M 951.433484 679.475 \nL 964.587438 679.475 \nL 964.587438 670.652493 \nL 951.433484 670.652493 \nz\n\" style=\"fill:#1f77b4;\"/>\n   </g>\n   <g id=\"patch_54\">\n    <path clip-path=\"url(#p02c9ebe252)\" d=\"M 967.875926 679.475 \nL 981.02988 679.475 \nL 981.02988 670.652493 \nL 967.875926 670.652493 \nz\n\" style=\"fill:#1f77b4;\"/>\n   </g>\n   <g id=\"patch_55\">\n    <path clip-path=\"url(#p02c9ebe252)\" d=\"M 984.318369 679.475 \nL 997.472323 679.475 \nL 997.472323 670.652493 \nL 984.318369 670.652493 \nz\n\" style=\"fill:#1f77b4;\"/>\n   </g>\n   <g id=\"patch_56\">\n    <path clip-path=\"url(#p02c9ebe252)\" d=\"M 1000.760811 679.475 \nL 1013.914765 679.475 \nL 1013.914765 671.912852 \nL 1000.760811 671.912852 \nz\n\" style=\"fill:#1f77b4;\"/>\n   </g>\n   <g id=\"patch_57\">\n    <path clip-path=\"url(#p02c9ebe252)\" d=\"M 1017.203253 679.475 \nL 1030.357207 679.475 \nL 1030.357207 671.912852 \nL 1017.203253 671.912852 \nz\n\" style=\"fill:#1f77b4;\"/>\n   </g>\n   <g id=\"patch_58\">\n    <path clip-path=\"url(#p02c9ebe252)\" d=\"M 1033.645696 679.475 \nL 1046.79965 679.475 \nL 1046.79965 671.912852 \nL 1033.645696 671.912852 \nz\n\" style=\"fill:#1f77b4;\"/>\n   </g>\n   <g id=\"patch_59\">\n    <path clip-path=\"url(#p02c9ebe252)\" d=\"M 1050.088138 679.475 \nL 1063.242092 679.475 \nL 1063.242092 671.912852 \nL 1050.088138 671.912852 \nz\n\" style=\"fill:#1f77b4;\"/>\n   </g>\n   <g id=\"patch_60\">\n    <path clip-path=\"url(#p02c9ebe252)\" d=\"M 1066.530581 679.475 \nL 1079.684535 679.475 \nL 1079.684535 671.912852 \nL 1066.530581 671.912852 \nz\n\" style=\"fill:#1f77b4;\"/>\n   </g>\n   <g id=\"patch_61\">\n    <path clip-path=\"url(#p02c9ebe252)\" d=\"M 1082.973023 679.475 \nL 1096.126977 679.475 \nL 1096.126977 673.17321 \nL 1082.973023 673.17321 \nz\n\" style=\"fill:#1f77b4;\"/>\n   </g>\n   <g id=\"patch_62\">\n    <path clip-path=\"url(#p02c9ebe252)\" d=\"M 1099.415465 679.475 \nL 1112.569419 679.475 \nL 1112.569419 673.17321 \nL 1099.415465 673.17321 \nz\n\" style=\"fill:#1f77b4;\"/>\n   </g>\n   <g id=\"patch_63\">\n    <path clip-path=\"url(#p02c9ebe252)\" d=\"M 1115.857908 679.475 \nL 1129.011862 679.475 \nL 1129.011862 673.17321 \nL 1115.857908 673.17321 \nz\n\" style=\"fill:#1f77b4;\"/>\n   </g>\n   <g id=\"patch_64\">\n    <path clip-path=\"url(#p02c9ebe252)\" d=\"M 1132.30035 679.475 \nL 1145.454304 679.475 \nL 1145.454304 673.17321 \nL 1132.30035 673.17321 \nz\n\" style=\"fill:#1f77b4;\"/>\n   </g>\n   <g id=\"patch_65\">\n    <path clip-path=\"url(#p02c9ebe252)\" d=\"M 1148.742793 679.475 \nL 1161.896747 679.475 \nL 1161.896747 673.17321 \nL 1148.742793 673.17321 \nz\n\" style=\"fill:#1f77b4;\"/>\n   </g>\n   <g id=\"patch_66\">\n    <path clip-path=\"url(#p02c9ebe252)\" d=\"M 1165.185235 679.475 \nL 1178.339189 679.475 \nL 1178.339189 673.17321 \nL 1165.185235 673.17321 \nz\n\" style=\"fill:#1f77b4;\"/>\n   </g>\n   <g id=\"patch_67\">\n    <path clip-path=\"url(#p02c9ebe252)\" d=\"M 1181.627677 679.475 \nL 1194.781631 679.475 \nL 1194.781631 673.17321 \nL 1181.627677 673.17321 \nz\n\" style=\"fill:#1f77b4;\"/>\n   </g>\n   <g id=\"patch_68\">\n    <path clip-path=\"url(#p02c9ebe252)\" d=\"M 1198.07012 679.475 \nL 1211.224074 679.475 \nL 1211.224074 674.433568 \nL 1198.07012 674.433568 \nz\n\" style=\"fill:#1f77b4;\"/>\n   </g>\n   <g id=\"patch_69\">\n    <path clip-path=\"url(#p02c9ebe252)\" d=\"M 1214.512562 679.475 \nL 1227.666516 679.475 \nL 1227.666516 674.433568 \nL 1214.512562 674.433568 \nz\n\" style=\"fill:#1f77b4;\"/>\n   </g>\n   <g id=\"patch_70\">\n    <path clip-path=\"url(#p02c9ebe252)\" d=\"M 1230.955005 679.475 \nL 1244.108959 679.475 \nL 1244.108959 674.433568 \nL 1230.955005 674.433568 \nz\n\" style=\"fill:#1f77b4;\"/>\n   </g>\n   <g id=\"patch_71\">\n    <path clip-path=\"url(#p02c9ebe252)\" d=\"M 1247.397447 679.475 \nL 1260.551401 679.475 \nL 1260.551401 674.433568 \nL 1247.397447 674.433568 \nz\n\" style=\"fill:#1f77b4;\"/>\n   </g>\n   <g id=\"patch_72\">\n    <path clip-path=\"url(#p02c9ebe252)\" d=\"M 1263.839889 679.475 \nL 1276.993843 679.475 \nL 1276.993843 674.433568 \nL 1263.839889 674.433568 \nz\n\" style=\"fill:#1f77b4;\"/>\n   </g>\n   <g id=\"patch_73\">\n    <path clip-path=\"url(#p02c9ebe252)\" d=\"M 1280.282332 679.475 \nL 1293.436286 679.475 \nL 1293.436286 674.433568 \nL 1280.282332 674.433568 \nz\n\" style=\"fill:#1f77b4;\"/>\n   </g>\n   <g id=\"patch_74\">\n    <path clip-path=\"url(#p02c9ebe252)\" d=\"M 1296.724774 679.475 \nL 1309.878728 679.475 \nL 1309.878728 675.693926 \nL 1296.724774 675.693926 \nz\n\" style=\"fill:#1f77b4;\"/>\n   </g>\n   <g id=\"patch_75\">\n    <path clip-path=\"url(#p02c9ebe252)\" d=\"M 1313.167217 679.475 \nL 1326.321171 679.475 \nL 1326.321171 675.693926 \nL 1313.167217 675.693926 \nz\n\" style=\"fill:#1f77b4;\"/>\n   </g>\n   <g id=\"patch_76\">\n    <path clip-path=\"url(#p02c9ebe252)\" d=\"M 1329.609659 679.475 \nL 1342.763613 679.475 \nL 1342.763613 675.693926 \nL 1329.609659 675.693926 \nz\n\" style=\"fill:#1f77b4;\"/>\n   </g>\n   <g id=\"patch_77\">\n    <path clip-path=\"url(#p02c9ebe252)\" d=\"M 1346.052101 679.475 \nL 1359.206055 679.475 \nL 1359.206055 675.693926 \nL 1346.052101 675.693926 \nz\n\" style=\"fill:#1f77b4;\"/>\n   </g>\n   <g id=\"patch_78\">\n    <path clip-path=\"url(#p02c9ebe252)\" d=\"M 1362.494544 679.475 \nL 1375.648498 679.475 \nL 1375.648498 675.693926 \nL 1362.494544 675.693926 \nz\n\" style=\"fill:#1f77b4;\"/>\n   </g>\n   <g id=\"patch_79\">\n    <path clip-path=\"url(#p02c9ebe252)\" d=\"M 1378.936986 679.475 \nL 1392.09094 679.475 \nL 1392.09094 675.693926 \nL 1378.936986 675.693926 \nz\n\" style=\"fill:#1f77b4;\"/>\n   </g>\n   <g id=\"patch_80\">\n    <path clip-path=\"url(#p02c9ebe252)\" d=\"M 1395.379429 679.475 \nL 1408.533383 679.475 \nL 1408.533383 676.954284 \nL 1395.379429 676.954284 \nz\n\" style=\"fill:#1f77b4;\"/>\n   </g>\n   <g id=\"patch_81\">\n    <path clip-path=\"url(#p02c9ebe252)\" d=\"M 1411.821871 679.475 \nL 1424.975825 679.475 \nL 1424.975825 676.954284 \nL 1411.821871 676.954284 \nz\n\" style=\"fill:#1f77b4;\"/>\n   </g>\n   <g id=\"patch_82\">\n    <path clip-path=\"url(#p02c9ebe252)\" d=\"M 1428.264314 679.475 \nL 1441.418267 679.475 \nL 1441.418267 676.954284 \nL 1428.264314 676.954284 \nz\n\" style=\"fill:#1f77b4;\"/>\n   </g>\n   <g id=\"patch_83\">\n    <path clip-path=\"url(#p02c9ebe252)\" d=\"M 1444.706756 679.475 \nL 1457.86071 679.475 \nL 1457.86071 676.954284 \nL 1444.706756 676.954284 \nz\n\" style=\"fill:#1f77b4;\"/>\n   </g>\n   <g id=\"patch_84\">\n    <path clip-path=\"url(#p02c9ebe252)\" d=\"M 1461.149198 679.475 \nL 1474.303152 679.475 \nL 1474.303152 676.954284 \nL 1461.149198 676.954284 \nz\n\" style=\"fill:#1f77b4;\"/>\n   </g>\n   <g id=\"patch_85\">\n    <path clip-path=\"url(#p02c9ebe252)\" d=\"M 1477.591641 679.475 \nL 1490.745595 679.475 \nL 1490.745595 676.954284 \nL 1477.591641 676.954284 \nz\n\" style=\"fill:#1f77b4;\"/>\n   </g>\n   <g id=\"patch_86\">\n    <path clip-path=\"url(#p02c9ebe252)\" d=\"M 1494.034083 679.475 \nL 1507.188037 679.475 \nL 1507.188037 676.954284 \nL 1494.034083 676.954284 \nz\n\" style=\"fill:#1f77b4;\"/>\n   </g>\n   <g id=\"patch_87\">\n    <path clip-path=\"url(#p02c9ebe252)\" d=\"M 1510.476526 679.475 \nL 1523.630479 679.475 \nL 1523.630479 676.954284 \nL 1510.476526 676.954284 \nz\n\" style=\"fill:#1f77b4;\"/>\n   </g>\n   <g id=\"patch_88\">\n    <path clip-path=\"url(#p02c9ebe252)\" d=\"M 1526.918968 679.475 \nL 1540.072922 679.475 \nL 1540.072922 676.954284 \nL 1526.918968 676.954284 \nz\n\" style=\"fill:#1f77b4;\"/>\n   </g>\n   <g id=\"patch_89\">\n    <path clip-path=\"url(#p02c9ebe252)\" d=\"M 1543.36141 679.475 \nL 1556.515364 679.475 \nL 1556.515364 676.954284 \nL 1543.36141 676.954284 \nz\n\" style=\"fill:#1f77b4;\"/>\n   </g>\n   <g id=\"patch_90\">\n    <path clip-path=\"url(#p02c9ebe252)\" d=\"M 1559.803853 679.475 \nL 1572.957807 679.475 \nL 1572.957807 676.954284 \nL 1559.803853 676.954284 \nz\n\" style=\"fill:#1f77b4;\"/>\n   </g>\n   <g id=\"patch_91\">\n    <path clip-path=\"url(#p02c9ebe252)\" d=\"M 1576.246295 679.475 \nL 1589.400249 679.475 \nL 1589.400249 676.954284 \nL 1576.246295 676.954284 \nz\n\" style=\"fill:#1f77b4;\"/>\n   </g>\n   <g id=\"patch_92\">\n    <path clip-path=\"url(#p02c9ebe252)\" d=\"M 1592.688738 679.475 \nL 1605.842691 679.475 \nL 1605.842691 676.954284 \nL 1592.688738 676.954284 \nz\n\" style=\"fill:#1f77b4;\"/>\n   </g>\n   <g id=\"patch_93\">\n    <path clip-path=\"url(#p02c9ebe252)\" d=\"M 1609.13118 679.475 \nL 1622.285134 679.475 \nL 1622.285134 678.214642 \nL 1609.13118 678.214642 \nz\n\" style=\"fill:#1f77b4;\"/>\n   </g>\n   <g id=\"patch_94\">\n    <path clip-path=\"url(#p02c9ebe252)\" d=\"M 1625.573622 679.475 \nL 1638.727576 679.475 \nL 1638.727576 678.214642 \nL 1625.573622 678.214642 \nz\n\" style=\"fill:#1f77b4;\"/>\n   </g>\n   <g id=\"patch_95\">\n    <path clip-path=\"url(#p02c9ebe252)\" d=\"M 1642.016065 679.475 \nL 1655.170019 679.475 \nL 1655.170019 678.214642 \nL 1642.016065 678.214642 \nz\n\" style=\"fill:#1f77b4;\"/>\n   </g>\n   <g id=\"patch_96\">\n    <path clip-path=\"url(#p02c9ebe252)\" d=\"M 1658.458507 679.475 \nL 1671.612461 679.475 \nL 1671.612461 678.214642 \nL 1658.458507 678.214642 \nz\n\" style=\"fill:#1f77b4;\"/>\n   </g>\n   <g id=\"patch_97\">\n    <path clip-path=\"url(#p02c9ebe252)\" d=\"M 1674.90095 679.475 \nL 1688.054903 679.475 \nL 1688.054903 678.214642 \nL 1674.90095 678.214642 \nz\n\" style=\"fill:#1f77b4;\"/>\n   </g>\n   <g id=\"patch_98\">\n    <path clip-path=\"url(#p02c9ebe252)\" d=\"M 1691.343392 679.475 \nL 1704.497346 679.475 \nL 1704.497346 678.214642 \nL 1691.343392 678.214642 \nz\n\" style=\"fill:#1f77b4;\"/>\n   </g>\n   <g id=\"patch_99\">\n    <path clip-path=\"url(#p02c9ebe252)\" d=\"M 1707.785834 679.475 \nL 1720.939788 679.475 \nL 1720.939788 678.214642 \nL 1707.785834 678.214642 \nz\n\" style=\"fill:#1f77b4;\"/>\n   </g>\n   <g id=\"patch_100\">\n    <path clip-path=\"url(#p02c9ebe252)\" d=\"M 1724.228277 679.475 \nL 1737.382231 679.475 \nL 1737.382231 678.214642 \nL 1724.228277 678.214642 \nz\n\" style=\"fill:#1f77b4;\"/>\n   </g>\n   <g id=\"patch_101\">\n    <path clip-path=\"url(#p02c9ebe252)\" d=\"M 1740.670719 679.475 \nL 1753.824673 679.475 \nL 1753.824673 678.214642 \nL 1740.670719 678.214642 \nz\n\" style=\"fill:#1f77b4;\"/>\n   </g>\n   <g id=\"patch_102\">\n    <path clip-path=\"url(#p02c9ebe252)\" d=\"M 1757.113162 679.475 \nL 1770.267116 679.475 \nL 1770.267116 678.214642 \nL 1757.113162 678.214642 \nz\n\" style=\"fill:#1f77b4;\"/>\n   </g>\n   <g id=\"patch_103\">\n    <path clip-path=\"url(#p02c9ebe252)\" d=\"M 1773.555604 679.475 \nL 1786.709558 679.475 \nL 1786.709558 678.214642 \nL 1773.555604 678.214642 \nz\n\" style=\"fill:#1f77b4;\"/>\n   </g>\n   <g id=\"patch_104\">\n    <path clip-path=\"url(#p02c9ebe252)\" d=\"M 1789.998046 679.475 \nL 1803.152 679.475 \nL 1803.152 678.214642 \nL 1789.998046 678.214642 \nz\n\" style=\"fill:#1f77b4;\"/>\n   </g>\n   <g id=\"patch_105\">\n    <path clip-path=\"url(#p02c9ebe252)\" d=\"M 1806.440489 679.475 \nL 1819.594443 679.475 \nL 1819.594443 678.214642 \nL 1806.440489 678.214642 \nz\n\" style=\"fill:#1f77b4;\"/>\n   </g>\n   <g id=\"patch_106\">\n    <path clip-path=\"url(#p02c9ebe252)\" d=\"M 1822.882931 679.475 \nL 1836.036885 679.475 \nL 1836.036885 678.214642 \nL 1822.882931 678.214642 \nz\n\" style=\"fill:#1f77b4;\"/>\n   </g>\n   <g id=\"patch_107\">\n    <path clip-path=\"url(#p02c9ebe252)\" d=\"M 1839.325374 679.475 \nL 1852.479328 679.475 \nL 1852.479328 678.214642 \nL 1839.325374 678.214642 \nz\n\" style=\"fill:#1f77b4;\"/>\n   </g>\n   <g id=\"patch_108\">\n    <path clip-path=\"url(#p02c9ebe252)\" d=\"M 1855.767816 679.475 \nL 1868.92177 679.475 \nL 1868.92177 678.214642 \nL 1855.767816 678.214642 \nz\n\" style=\"fill:#1f77b4;\"/>\n   </g>\n   <g id=\"patch_109\">\n    <path clip-path=\"url(#p02c9ebe252)\" d=\"M 1872.210258 679.475 \nL 1885.364212 679.475 \nL 1885.364212 678.214642 \nL 1872.210258 678.214642 \nz\n\" style=\"fill:#1f77b4;\"/>\n   </g>\n   <g id=\"patch_110\">\n    <path clip-path=\"url(#p02c9ebe252)\" d=\"M 1888.652701 679.475 \nL 1901.806655 679.475 \nL 1901.806655 678.214642 \nL 1888.652701 678.214642 \nz\n\" style=\"fill:#1f77b4;\"/>\n   </g>\n   <g id=\"patch_111\">\n    <path clip-path=\"url(#p02c9ebe252)\" d=\"M 1905.095143 679.475 \nL 1918.249097 679.475 \nL 1918.249097 679.475 \nL 1905.095143 679.475 \nz\n\" style=\"fill:#1f77b4;\"/>\n   </g>\n   <g id=\"patch_112\">\n    <path clip-path=\"url(#p02c9ebe252)\" d=\"M 1921.537586 679.475 \nL 1934.69154 679.475 \nL 1934.69154 679.475 \nL 1921.537586 679.475 \nz\n\" style=\"fill:#1f77b4;\"/>\n   </g>\n   <g id=\"patch_113\">\n    <path clip-path=\"url(#p02c9ebe252)\" d=\"M 1937.980028 679.475 \nL 1951.133982 679.475 \nL 1951.133982 679.475 \nL 1937.980028 679.475 \nz\n\" style=\"fill:#1f77b4;\"/>\n   </g>\n   <g id=\"patch_114\">\n    <path clip-path=\"url(#p02c9ebe252)\" d=\"M 1954.42247 679.475 \nL 1967.576424 679.475 \nL 1967.576424 679.475 \nL 1954.42247 679.475 \nz\n\" style=\"fill:#1f77b4;\"/>\n   </g>\n   <g id=\"patch_115\">\n    <path clip-path=\"url(#p02c9ebe252)\" d=\"M 1970.864913 679.475 \nL 1984.018867 679.475 \nL 1984.018867 679.475 \nL 1970.864913 679.475 \nz\n\" style=\"fill:#1f77b4;\"/>\n   </g>\n   <g id=\"patch_116\">\n    <path clip-path=\"url(#p02c9ebe252)\" d=\"M 1987.307355 679.475 \nL 2000.461309 679.475 \nL 2000.461309 679.475 \nL 1987.307355 679.475 \nz\n\" style=\"fill:#1f77b4;\"/>\n   </g>\n   <g id=\"patch_117\">\n    <path clip-path=\"url(#p02c9ebe252)\" d=\"M 2003.749798 679.475 \nL 2016.903752 679.475 \nL 2016.903752 679.475 \nL 2003.749798 679.475 \nz\n\" style=\"fill:#1f77b4;\"/>\n   </g>\n   <g id=\"patch_118\">\n    <path clip-path=\"url(#p02c9ebe252)\" d=\"M 2020.19224 679.475 \nL 2033.346194 679.475 \nL 2033.346194 679.475 \nL 2020.19224 679.475 \nz\n\" style=\"fill:#1f77b4;\"/>\n   </g>\n   <g id=\"patch_119\">\n    <path clip-path=\"url(#p02c9ebe252)\" d=\"M 2036.634682 679.475 \nL 2049.788636 679.475 \nL 2049.788636 679.475 \nL 2036.634682 679.475 \nz\n\" style=\"fill:#1f77b4;\"/>\n   </g>\n   <g id=\"matplotlib.axis_1\">\n    <g id=\"xtick_1\">\n     <g id=\"line2d_1\">\n      <defs>\n       <path d=\"M 0 0 \nL 0 3.5 \n\" id=\"m4f7de4c021\" style=\"stroke:#000000;stroke-width:0.8;\"/>\n      </defs>\n      <g>\n       <use style=\"stroke:#000000;stroke-width:0.8;\" x=\"135.888341\" xlink:href=\"#m4f7de4c021\" y=\"679.475\"/>\n      </g>\n     </g>\n     <g id=\"text_1\">\n      <!-- 0 -->\n      <g transform=\"translate(138.647716 692.8375)rotate(-90)scale(0.1 -0.1)\">\n       <defs>\n        <path d=\"M 31.78125 66.40625 \nQ 24.171875 66.40625 20.328125 58.90625 \nQ 16.5 51.421875 16.5 36.375 \nQ 16.5 21.390625 20.328125 13.890625 \nQ 24.171875 6.390625 31.78125 6.390625 \nQ 39.453125 6.390625 43.28125 13.890625 \nQ 47.125 21.390625 47.125 36.375 \nQ 47.125 51.421875 43.28125 58.90625 \nQ 39.453125 66.40625 31.78125 66.40625 \nz\nM 31.78125 74.21875 \nQ 44.046875 74.21875 50.515625 64.515625 \nQ 56.984375 54.828125 56.984375 36.375 \nQ 56.984375 17.96875 50.515625 8.265625 \nQ 44.046875 -1.421875 31.78125 -1.421875 \nQ 19.53125 -1.421875 13.0625 8.265625 \nQ 6.59375 17.96875 6.59375 36.375 \nQ 6.59375 54.828125 13.0625 64.515625 \nQ 19.53125 74.21875 31.78125 74.21875 \nz\n\" id=\"DejaVuSans-48\"/>\n       </defs>\n       <use xlink:href=\"#DejaVuSans-48\"/>\n      </g>\n     </g>\n    </g>\n    <g id=\"xtick_2\">\n     <g id=\"line2d_2\">\n      <g>\n       <use style=\"stroke:#000000;stroke-width:0.8;\" x=\"152.330783\" xlink:href=\"#m4f7de4c021\" y=\"679.475\"/>\n      </g>\n     </g>\n     <g id=\"text_2\">\n      <!-- 3 -->\n      <g transform=\"translate(155.090158 692.8375)rotate(-90)scale(0.1 -0.1)\">\n       <defs>\n        <path d=\"M 40.578125 39.3125 \nQ 47.65625 37.796875 51.625 33 \nQ 55.609375 28.21875 55.609375 21.1875 \nQ 55.609375 10.40625 48.1875 4.484375 \nQ 40.765625 -1.421875 27.09375 -1.421875 \nQ 22.515625 -1.421875 17.65625 -0.515625 \nQ 12.796875 0.390625 7.625 2.203125 \nL 7.625 11.71875 \nQ 11.71875 9.328125 16.59375 8.109375 \nQ 21.484375 6.890625 26.8125 6.890625 \nQ 36.078125 6.890625 40.9375 10.546875 \nQ 45.796875 14.203125 45.796875 21.1875 \nQ 45.796875 27.640625 41.28125 31.265625 \nQ 36.765625 34.90625 28.71875 34.90625 \nL 20.21875 34.90625 \nL 20.21875 43.015625 \nL 29.109375 43.015625 \nQ 36.375 43.015625 40.234375 45.921875 \nQ 44.09375 48.828125 44.09375 54.296875 \nQ 44.09375 59.90625 40.109375 62.90625 \nQ 36.140625 65.921875 28.71875 65.921875 \nQ 24.65625 65.921875 20.015625 65.03125 \nQ 15.375 64.15625 9.8125 62.3125 \nL 9.8125 71.09375 \nQ 15.4375 72.65625 20.34375 73.4375 \nQ 25.25 74.21875 29.59375 74.21875 \nQ 40.828125 74.21875 47.359375 69.109375 \nQ 53.90625 64.015625 53.90625 55.328125 \nQ 53.90625 49.265625 50.4375 45.09375 \nQ 46.96875 40.921875 40.578125 39.3125 \nz\n\" id=\"DejaVuSans-51\"/>\n       </defs>\n       <use xlink:href=\"#DejaVuSans-51\"/>\n      </g>\n     </g>\n    </g>\n    <g id=\"xtick_3\">\n     <g id=\"line2d_3\">\n      <g>\n       <use style=\"stroke:#000000;stroke-width:0.8;\" x=\"168.773225\" xlink:href=\"#m4f7de4c021\" y=\"679.475\"/>\n      </g>\n     </g>\n     <g id=\"text_3\">\n      <!-- 4 -->\n      <g transform=\"translate(171.5326 692.8375)rotate(-90)scale(0.1 -0.1)\">\n       <defs>\n        <path d=\"M 37.796875 64.3125 \nL 12.890625 25.390625 \nL 37.796875 25.390625 \nz\nM 35.203125 72.90625 \nL 47.609375 72.90625 \nL 47.609375 25.390625 \nL 58.015625 25.390625 \nL 58.015625 17.1875 \nL 47.609375 17.1875 \nL 47.609375 0 \nL 37.796875 0 \nL 37.796875 17.1875 \nL 4.890625 17.1875 \nL 4.890625 26.703125 \nz\n\" id=\"DejaVuSans-52\"/>\n       </defs>\n       <use xlink:href=\"#DejaVuSans-52\"/>\n      </g>\n     </g>\n    </g>\n    <g id=\"xtick_4\">\n     <g id=\"line2d_4\">\n      <g>\n       <use style=\"stroke:#000000;stroke-width:0.8;\" x=\"185.215668\" xlink:href=\"#m4f7de4c021\" y=\"679.475\"/>\n      </g>\n     </g>\n     <g id=\"text_4\">\n      <!-- 65 -->\n      <g transform=\"translate(187.975043 699.2)rotate(-90)scale(0.1 -0.1)\">\n       <defs>\n        <path d=\"M 33.015625 40.375 \nQ 26.375 40.375 22.484375 35.828125 \nQ 18.609375 31.296875 18.609375 23.390625 \nQ 18.609375 15.53125 22.484375 10.953125 \nQ 26.375 6.390625 33.015625 6.390625 \nQ 39.65625 6.390625 43.53125 10.953125 \nQ 47.40625 15.53125 47.40625 23.390625 \nQ 47.40625 31.296875 43.53125 35.828125 \nQ 39.65625 40.375 33.015625 40.375 \nz\nM 52.59375 71.296875 \nL 52.59375 62.3125 \nQ 48.875 64.0625 45.09375 64.984375 \nQ 41.3125 65.921875 37.59375 65.921875 \nQ 27.828125 65.921875 22.671875 59.328125 \nQ 17.53125 52.734375 16.796875 39.40625 \nQ 19.671875 43.65625 24.015625 45.921875 \nQ 28.375 48.1875 33.59375 48.1875 \nQ 44.578125 48.1875 50.953125 41.515625 \nQ 57.328125 34.859375 57.328125 23.390625 \nQ 57.328125 12.15625 50.6875 5.359375 \nQ 44.046875 -1.421875 33.015625 -1.421875 \nQ 20.359375 -1.421875 13.671875 8.265625 \nQ 6.984375 17.96875 6.984375 36.375 \nQ 6.984375 53.65625 15.1875 63.9375 \nQ 23.390625 74.21875 37.203125 74.21875 \nQ 40.921875 74.21875 44.703125 73.484375 \nQ 48.484375 72.75 52.59375 71.296875 \nz\n\" id=\"DejaVuSans-54\"/>\n        <path d=\"M 10.796875 72.90625 \nL 49.515625 72.90625 \nL 49.515625 64.59375 \nL 19.828125 64.59375 \nL 19.828125 46.734375 \nQ 21.96875 47.46875 24.109375 47.828125 \nQ 26.265625 48.1875 28.421875 48.1875 \nQ 40.625 48.1875 47.75 41.5 \nQ 54.890625 34.8125 54.890625 23.390625 \nQ 54.890625 11.625 47.5625 5.09375 \nQ 40.234375 -1.421875 26.90625 -1.421875 \nQ 22.3125 -1.421875 17.546875 -0.640625 \nQ 12.796875 0.140625 7.71875 1.703125 \nL 7.71875 11.625 \nQ 12.109375 9.234375 16.796875 8.0625 \nQ 21.484375 6.890625 26.703125 6.890625 \nQ 35.15625 6.890625 40.078125 11.328125 \nQ 45.015625 15.765625 45.015625 23.390625 \nQ 45.015625 31 40.078125 35.4375 \nQ 35.15625 39.890625 26.703125 39.890625 \nQ 22.75 39.890625 18.8125 39.015625 \nQ 14.890625 38.140625 10.796875 36.28125 \nz\n\" id=\"DejaVuSans-53\"/>\n       </defs>\n       <use xlink:href=\"#DejaVuSans-54\"/>\n       <use x=\"63.623047\" xlink:href=\"#DejaVuSans-53\"/>\n      </g>\n     </g>\n    </g>\n    <g id=\"xtick_5\">\n     <g id=\"line2d_5\">\n      <g>\n       <use style=\"stroke:#000000;stroke-width:0.8;\" x=\"201.65811\" xlink:href=\"#m4f7de4c021\" y=\"679.475\"/>\n      </g>\n     </g>\n     <g id=\"text_5\">\n      <!-- 60 -->\n      <g transform=\"translate(204.417485 699.2)rotate(-90)scale(0.1 -0.1)\">\n       <use xlink:href=\"#DejaVuSans-54\"/>\n       <use x=\"63.623047\" xlink:href=\"#DejaVuSans-48\"/>\n      </g>\n     </g>\n    </g>\n    <g id=\"xtick_6\">\n     <g id=\"line2d_6\">\n      <g>\n       <use style=\"stroke:#000000;stroke-width:0.8;\" x=\"218.100553\" xlink:href=\"#m4f7de4c021\" y=\"679.475\"/>\n      </g>\n     </g>\n     <g id=\"text_6\">\n      <!-- 72 -->\n      <g transform=\"translate(220.859928 699.2)rotate(-90)scale(0.1 -0.1)\">\n       <defs>\n        <path d=\"M 8.203125 72.90625 \nL 55.078125 72.90625 \nL 55.078125 68.703125 \nL 28.609375 0 \nL 18.3125 0 \nL 43.21875 64.59375 \nL 8.203125 64.59375 \nz\n\" id=\"DejaVuSans-55\"/>\n        <path d=\"M 19.1875 8.296875 \nL 53.609375 8.296875 \nL 53.609375 0 \nL 7.328125 0 \nL 7.328125 8.296875 \nQ 12.9375 14.109375 22.625 23.890625 \nQ 32.328125 33.6875 34.8125 36.53125 \nQ 39.546875 41.84375 41.421875 45.53125 \nQ 43.3125 49.21875 43.3125 52.78125 \nQ 43.3125 58.59375 39.234375 62.25 \nQ 35.15625 65.921875 28.609375 65.921875 \nQ 23.96875 65.921875 18.8125 64.3125 \nQ 13.671875 62.703125 7.8125 59.421875 \nL 7.8125 69.390625 \nQ 13.765625 71.78125 18.9375 73 \nQ 24.125 74.21875 28.421875 74.21875 \nQ 39.75 74.21875 46.484375 68.546875 \nQ 53.21875 62.890625 53.21875 53.421875 \nQ 53.21875 48.921875 51.53125 44.890625 \nQ 49.859375 40.875 45.40625 35.40625 \nQ 44.1875 33.984375 37.640625 27.21875 \nQ 31.109375 20.453125 19.1875 8.296875 \nz\n\" id=\"DejaVuSans-50\"/>\n       </defs>\n       <use xlink:href=\"#DejaVuSans-55\"/>\n       <use x=\"63.623047\" xlink:href=\"#DejaVuSans-50\"/>\n      </g>\n     </g>\n    </g>\n    <g id=\"xtick_7\">\n     <g id=\"line2d_7\">\n      <g>\n       <use style=\"stroke:#000000;stroke-width:0.8;\" x=\"234.542995\" xlink:href=\"#m4f7de4c021\" y=\"679.475\"/>\n      </g>\n     </g>\n     <g id=\"text_7\">\n      <!-- 53 -->\n      <g transform=\"translate(237.30237 699.2)rotate(-90)scale(0.1 -0.1)\">\n       <use xlink:href=\"#DejaVuSans-53\"/>\n       <use x=\"63.623047\" xlink:href=\"#DejaVuSans-51\"/>\n      </g>\n     </g>\n    </g>\n    <g id=\"xtick_8\">\n     <g id=\"line2d_8\">\n      <g>\n       <use style=\"stroke:#000000;stroke-width:0.8;\" x=\"250.985437\" xlink:href=\"#m4f7de4c021\" y=\"679.475\"/>\n      </g>\n     </g>\n     <g id=\"text_8\">\n      <!-- 74 -->\n      <g transform=\"translate(253.744812 699.2)rotate(-90)scale(0.1 -0.1)\">\n       <use xlink:href=\"#DejaVuSans-55\"/>\n       <use x=\"63.623047\" xlink:href=\"#DejaVuSans-52\"/>\n      </g>\n     </g>\n    </g>\n    <g id=\"xtick_9\">\n     <g id=\"line2d_9\">\n      <g>\n       <use style=\"stroke:#000000;stroke-width:0.8;\" x=\"267.42788\" xlink:href=\"#m4f7de4c021\" y=\"679.475\"/>\n      </g>\n     </g>\n     <g id=\"text_9\">\n      <!-- 73 -->\n      <g transform=\"translate(270.187255 699.2)rotate(-90)scale(0.1 -0.1)\">\n       <use xlink:href=\"#DejaVuSans-55\"/>\n       <use x=\"63.623047\" xlink:href=\"#DejaVuSans-51\"/>\n      </g>\n     </g>\n    </g>\n    <g id=\"xtick_10\">\n     <g id=\"line2d_10\">\n      <g>\n       <use style=\"stroke:#000000;stroke-width:0.8;\" x=\"283.870322\" xlink:href=\"#m4f7de4c021\" y=\"679.475\"/>\n      </g>\n     </g>\n     <g id=\"text_10\">\n      <!-- 1 -->\n      <g transform=\"translate(286.629697 692.8375)rotate(-90)scale(0.1 -0.1)\">\n       <defs>\n        <path d=\"M 12.40625 8.296875 \nL 28.515625 8.296875 \nL 28.515625 63.921875 \nL 10.984375 60.40625 \nL 10.984375 69.390625 \nL 28.421875 72.90625 \nL 38.28125 72.90625 \nL 38.28125 8.296875 \nL 54.390625 8.296875 \nL 54.390625 0 \nL 12.40625 0 \nz\n\" id=\"DejaVuSans-49\"/>\n       </defs>\n       <use xlink:href=\"#DejaVuSans-49\"/>\n      </g>\n     </g>\n    </g>\n    <g id=\"xtick_11\">\n     <g id=\"line2d_11\">\n      <g>\n       <use style=\"stroke:#000000;stroke-width:0.8;\" x=\"300.312765\" xlink:href=\"#m4f7de4c021\" y=\"679.475\"/>\n      </g>\n     </g>\n     <g id=\"text_11\">\n      <!-- 17 -->\n      <g transform=\"translate(303.07214 699.2)rotate(-90)scale(0.1 -0.1)\">\n       <use xlink:href=\"#DejaVuSans-49\"/>\n       <use x=\"63.623047\" xlink:href=\"#DejaVuSans-55\"/>\n      </g>\n     </g>\n    </g>\n    <g id=\"xtick_12\">\n     <g id=\"line2d_12\">\n      <g>\n       <use style=\"stroke:#000000;stroke-width:0.8;\" x=\"316.755207\" xlink:href=\"#m4f7de4c021\" y=\"679.475\"/>\n      </g>\n     </g>\n     <g id=\"text_12\">\n      <!-- 61 -->\n      <g transform=\"translate(319.514582 699.2)rotate(-90)scale(0.1 -0.1)\">\n       <use xlink:href=\"#DejaVuSans-54\"/>\n       <use x=\"63.623047\" xlink:href=\"#DejaVuSans-49\"/>\n      </g>\n     </g>\n    </g>\n    <g id=\"xtick_13\">\n     <g id=\"line2d_13\">\n      <g>\n       <use style=\"stroke:#000000;stroke-width:0.8;\" x=\"333.197649\" xlink:href=\"#m4f7de4c021\" y=\"679.475\"/>\n      </g>\n     </g>\n     <g id=\"text_13\">\n      <!-- 89 -->\n      <g transform=\"translate(335.957024 699.2)rotate(-90)scale(0.1 -0.1)\">\n       <defs>\n        <path d=\"M 31.78125 34.625 \nQ 24.75 34.625 20.71875 30.859375 \nQ 16.703125 27.09375 16.703125 20.515625 \nQ 16.703125 13.921875 20.71875 10.15625 \nQ 24.75 6.390625 31.78125 6.390625 \nQ 38.8125 6.390625 42.859375 10.171875 \nQ 46.921875 13.96875 46.921875 20.515625 \nQ 46.921875 27.09375 42.890625 30.859375 \nQ 38.875 34.625 31.78125 34.625 \nz\nM 21.921875 38.8125 \nQ 15.578125 40.375 12.03125 44.71875 \nQ 8.5 49.078125 8.5 55.328125 \nQ 8.5 64.0625 14.71875 69.140625 \nQ 20.953125 74.21875 31.78125 74.21875 \nQ 42.671875 74.21875 48.875 69.140625 \nQ 55.078125 64.0625 55.078125 55.328125 \nQ 55.078125 49.078125 51.53125 44.71875 \nQ 48 40.375 41.703125 38.8125 \nQ 48.828125 37.15625 52.796875 32.3125 \nQ 56.78125 27.484375 56.78125 20.515625 \nQ 56.78125 9.90625 50.3125 4.234375 \nQ 43.84375 -1.421875 31.78125 -1.421875 \nQ 19.734375 -1.421875 13.25 4.234375 \nQ 6.78125 9.90625 6.78125 20.515625 \nQ 6.78125 27.484375 10.78125 32.3125 \nQ 14.796875 37.15625 21.921875 38.8125 \nz\nM 18.3125 54.390625 \nQ 18.3125 48.734375 21.84375 45.5625 \nQ 25.390625 42.390625 31.78125 42.390625 \nQ 38.140625 42.390625 41.71875 45.5625 \nQ 45.3125 48.734375 45.3125 54.390625 \nQ 45.3125 60.0625 41.71875 63.234375 \nQ 38.140625 66.40625 31.78125 66.40625 \nQ 25.390625 66.40625 21.84375 63.234375 \nQ 18.3125 60.0625 18.3125 54.390625 \nz\n\" id=\"DejaVuSans-56\"/>\n        <path d=\"M 10.984375 1.515625 \nL 10.984375 10.5 \nQ 14.703125 8.734375 18.5 7.8125 \nQ 22.3125 6.890625 25.984375 6.890625 \nQ 35.75 6.890625 40.890625 13.453125 \nQ 46.046875 20.015625 46.78125 33.40625 \nQ 43.953125 29.203125 39.59375 26.953125 \nQ 35.25 24.703125 29.984375 24.703125 \nQ 19.046875 24.703125 12.671875 31.3125 \nQ 6.296875 37.9375 6.296875 49.421875 \nQ 6.296875 60.640625 12.9375 67.421875 \nQ 19.578125 74.21875 30.609375 74.21875 \nQ 43.265625 74.21875 49.921875 64.515625 \nQ 56.59375 54.828125 56.59375 36.375 \nQ 56.59375 19.140625 48.40625 8.859375 \nQ 40.234375 -1.421875 26.421875 -1.421875 \nQ 22.703125 -1.421875 18.890625 -0.6875 \nQ 15.09375 0.046875 10.984375 1.515625 \nz\nM 30.609375 32.421875 \nQ 37.25 32.421875 41.125 36.953125 \nQ 45.015625 41.5 45.015625 49.421875 \nQ 45.015625 57.28125 41.125 61.84375 \nQ 37.25 66.40625 30.609375 66.40625 \nQ 23.96875 66.40625 20.09375 61.84375 \nQ 16.21875 57.28125 16.21875 49.421875 \nQ 16.21875 41.5 20.09375 36.953125 \nQ 23.96875 32.421875 30.609375 32.421875 \nz\n\" id=\"DejaVuSans-57\"/>\n       </defs>\n       <use xlink:href=\"#DejaVuSans-56\"/>\n       <use x=\"63.623047\" xlink:href=\"#DejaVuSans-57\"/>\n      </g>\n     </g>\n    </g>\n    <g id=\"xtick_14\">\n     <g id=\"line2d_14\">\n      <g>\n       <use style=\"stroke:#000000;stroke-width:0.8;\" x=\"349.640092\" xlink:href=\"#m4f7de4c021\" y=\"679.475\"/>\n      </g>\n     </g>\n     <g id=\"text_14\">\n      <!-- 91 -->\n      <g transform=\"translate(352.399467 699.2)rotate(-90)scale(0.1 -0.1)\">\n       <use xlink:href=\"#DejaVuSans-57\"/>\n       <use x=\"63.623047\" xlink:href=\"#DejaVuSans-49\"/>\n      </g>\n     </g>\n    </g>\n    <g id=\"xtick_15\">\n     <g id=\"line2d_15\">\n      <g>\n       <use style=\"stroke:#000000;stroke-width:0.8;\" x=\"366.082534\" xlink:href=\"#m4f7de4c021\" y=\"679.475\"/>\n      </g>\n     </g>\n     <g id=\"text_15\">\n      <!-- 67 -->\n      <g transform=\"translate(368.841909 699.2)rotate(-90)scale(0.1 -0.1)\">\n       <use xlink:href=\"#DejaVuSans-54\"/>\n       <use x=\"63.623047\" xlink:href=\"#DejaVuSans-55\"/>\n      </g>\n     </g>\n    </g>\n    <g id=\"xtick_16\">\n     <g id=\"line2d_16\">\n      <g>\n       <use style=\"stroke:#000000;stroke-width:0.8;\" x=\"382.524977\" xlink:href=\"#m4f7de4c021\" y=\"679.475\"/>\n      </g>\n     </g>\n     <g id=\"text_16\">\n      <!-- 2 -->\n      <g transform=\"translate(385.284352 692.8375)rotate(-90)scale(0.1 -0.1)\">\n       <use xlink:href=\"#DejaVuSans-50\"/>\n      </g>\n     </g>\n    </g>\n    <g id=\"xtick_17\">\n     <g id=\"line2d_17\">\n      <g>\n       <use style=\"stroke:#000000;stroke-width:0.8;\" x=\"398.967419\" xlink:href=\"#m4f7de4c021\" y=\"679.475\"/>\n      </g>\n     </g>\n     <g id=\"text_17\">\n      <!-- 5 -->\n      <g transform=\"translate(401.726794 692.8375)rotate(-90)scale(0.1 -0.1)\">\n       <use xlink:href=\"#DejaVuSans-53\"/>\n      </g>\n     </g>\n    </g>\n    <g id=\"xtick_18\">\n     <g id=\"line2d_18\">\n      <g>\n       <use style=\"stroke:#000000;stroke-width:0.8;\" x=\"415.409861\" xlink:href=\"#m4f7de4c021\" y=\"679.475\"/>\n      </g>\n     </g>\n     <g id=\"text_18\">\n      <!-- 66 -->\n      <g transform=\"translate(418.169236 699.2)rotate(-90)scale(0.1 -0.1)\">\n       <use xlink:href=\"#DejaVuSans-54\"/>\n       <use x=\"63.623047\" xlink:href=\"#DejaVuSans-54\"/>\n      </g>\n     </g>\n    </g>\n    <g id=\"xtick_19\">\n     <g id=\"line2d_19\">\n      <g>\n       <use style=\"stroke:#000000;stroke-width:0.8;\" x=\"431.852304\" xlink:href=\"#m4f7de4c021\" y=\"679.475\"/>\n      </g>\n     </g>\n     <g id=\"text_19\">\n      <!-- 12 -->\n      <g transform=\"translate(434.611679 699.2)rotate(-90)scale(0.1 -0.1)\">\n       <use xlink:href=\"#DejaVuSans-49\"/>\n       <use x=\"63.623047\" xlink:href=\"#DejaVuSans-50\"/>\n      </g>\n     </g>\n    </g>\n    <g id=\"xtick_20\">\n     <g id=\"line2d_20\">\n      <g>\n       <use style=\"stroke:#000000;stroke-width:0.8;\" x=\"448.294746\" xlink:href=\"#m4f7de4c021\" y=\"679.475\"/>\n      </g>\n     </g>\n     <g id=\"text_20\">\n      <!-- 80 -->\n      <g transform=\"translate(451.054121 699.2)rotate(-90)scale(0.1 -0.1)\">\n       <use xlink:href=\"#DejaVuSans-56\"/>\n       <use x=\"63.623047\" xlink:href=\"#DejaVuSans-48\"/>\n      </g>\n     </g>\n    </g>\n    <g id=\"xtick_21\">\n     <g id=\"line2d_21\">\n      <g>\n       <use style=\"stroke:#000000;stroke-width:0.8;\" x=\"464.737189\" xlink:href=\"#m4f7de4c021\" y=\"679.475\"/>\n      </g>\n     </g>\n     <g id=\"text_21\">\n      <!-- 9 -->\n      <g transform=\"translate(467.496564 692.8375)rotate(-90)scale(0.1 -0.1)\">\n       <use xlink:href=\"#DejaVuSans-57\"/>\n      </g>\n     </g>\n    </g>\n    <g id=\"xtick_22\">\n     <g id=\"line2d_22\">\n      <g>\n       <use style=\"stroke:#000000;stroke-width:0.8;\" x=\"481.179631\" xlink:href=\"#m4f7de4c021\" y=\"679.475\"/>\n      </g>\n     </g>\n     <g id=\"text_22\">\n      <!-- 75 -->\n      <g transform=\"translate(483.939006 699.2)rotate(-90)scale(0.1 -0.1)\">\n       <use xlink:href=\"#DejaVuSans-55\"/>\n       <use x=\"63.623047\" xlink:href=\"#DejaVuSans-53\"/>\n      </g>\n     </g>\n    </g>\n    <g id=\"xtick_23\">\n     <g id=\"line2d_23\">\n      <g>\n       <use style=\"stroke:#000000;stroke-width:0.8;\" x=\"497.622073\" xlink:href=\"#m4f7de4c021\" y=\"679.475\"/>\n      </g>\n     </g>\n     <g id=\"text_23\">\n      <!-- 78 -->\n      <g transform=\"translate(500.381448 699.2)rotate(-90)scale(0.1 -0.1)\">\n       <use xlink:href=\"#DejaVuSans-55\"/>\n       <use x=\"63.623047\" xlink:href=\"#DejaVuSans-56\"/>\n      </g>\n     </g>\n    </g>\n    <g id=\"xtick_24\">\n     <g id=\"line2d_24\">\n      <g>\n       <use style=\"stroke:#000000;stroke-width:0.8;\" x=\"514.064516\" xlink:href=\"#m4f7de4c021\" y=\"679.475\"/>\n      </g>\n     </g>\n     <g id=\"text_24\">\n      <!-- 57 -->\n      <g transform=\"translate(516.823891 699.2)rotate(-90)scale(0.1 -0.1)\">\n       <use xlink:href=\"#DejaVuSans-53\"/>\n       <use x=\"63.623047\" xlink:href=\"#DejaVuSans-55\"/>\n      </g>\n     </g>\n    </g>\n    <g id=\"xtick_25\">\n     <g id=\"line2d_25\">\n      <g>\n       <use style=\"stroke:#000000;stroke-width:0.8;\" x=\"530.506958\" xlink:href=\"#m4f7de4c021\" y=\"679.475\"/>\n      </g>\n     </g>\n     <g id=\"text_25\">\n      <!-- 6 -->\n      <g transform=\"translate(533.266333 692.8375)rotate(-90)scale(0.1 -0.1)\">\n       <use xlink:href=\"#DejaVuSans-54\"/>\n      </g>\n     </g>\n    </g>\n    <g id=\"xtick_26\">\n     <g id=\"line2d_26\">\n      <g>\n       <use style=\"stroke:#000000;stroke-width:0.8;\" x=\"546.949401\" xlink:href=\"#m4f7de4c021\" y=\"679.475\"/>\n      </g>\n     </g>\n     <g id=\"text_26\">\n      <!-- 77 -->\n      <g transform=\"translate(549.708776 699.2)rotate(-90)scale(0.1 -0.1)\">\n       <use xlink:href=\"#DejaVuSans-55\"/>\n       <use x=\"63.623047\" xlink:href=\"#DejaVuSans-55\"/>\n      </g>\n     </g>\n    </g>\n    <g id=\"xtick_27\">\n     <g id=\"line2d_27\">\n      <g>\n       <use style=\"stroke:#000000;stroke-width:0.8;\" x=\"563.391843\" xlink:href=\"#m4f7de4c021\" y=\"679.475\"/>\n      </g>\n     </g>\n     <g id=\"text_27\">\n      <!-- 58 -->\n      <g transform=\"translate(566.151218 699.2)rotate(-90)scale(0.1 -0.1)\">\n       <use xlink:href=\"#DejaVuSans-53\"/>\n       <use x=\"63.623047\" xlink:href=\"#DejaVuSans-56\"/>\n      </g>\n     </g>\n    </g>\n    <g id=\"xtick_28\">\n     <g id=\"line2d_28\">\n      <g>\n       <use style=\"stroke:#000000;stroke-width:0.8;\" x=\"579.834285\" xlink:href=\"#m4f7de4c021\" y=\"679.475\"/>\n      </g>\n     </g>\n     <g id=\"text_28\">\n      <!-- 56 -->\n      <g transform=\"translate(582.59366 699.2)rotate(-90)scale(0.1 -0.1)\">\n       <use xlink:href=\"#DejaVuSans-53\"/>\n       <use x=\"63.623047\" xlink:href=\"#DejaVuSans-54\"/>\n      </g>\n     </g>\n    </g>\n    <g id=\"xtick_29\">\n     <g id=\"line2d_29\">\n      <g>\n       <use style=\"stroke:#000000;stroke-width:0.8;\" x=\"596.276728\" xlink:href=\"#m4f7de4c021\" y=\"679.475\"/>\n      </g>\n     </g>\n     <g id=\"text_29\">\n      <!-- 100 -->\n      <g transform=\"translate(599.036103 705.5625)rotate(-90)scale(0.1 -0.1)\">\n       <use xlink:href=\"#DejaVuSans-49\"/>\n       <use x=\"63.623047\" xlink:href=\"#DejaVuSans-48\"/>\n       <use x=\"127.246094\" xlink:href=\"#DejaVuSans-48\"/>\n      </g>\n     </g>\n    </g>\n    <g id=\"xtick_30\">\n     <g id=\"line2d_30\">\n      <g>\n       <use style=\"stroke:#000000;stroke-width:0.8;\" x=\"612.71917\" xlink:href=\"#m4f7de4c021\" y=\"679.475\"/>\n      </g>\n     </g>\n     <g id=\"text_30\">\n      <!-- 93 -->\n      <g transform=\"translate(615.478545 699.2)rotate(-90)scale(0.1 -0.1)\">\n       <use xlink:href=\"#DejaVuSans-57\"/>\n       <use x=\"63.623047\" xlink:href=\"#DejaVuSans-51\"/>\n      </g>\n     </g>\n    </g>\n    <g id=\"xtick_31\">\n     <g id=\"line2d_31\">\n      <g>\n       <use style=\"stroke:#000000;stroke-width:0.8;\" x=\"629.161613\" xlink:href=\"#m4f7de4c021\" y=\"679.475\"/>\n      </g>\n     </g>\n     <g id=\"text_31\">\n      <!-- 71 -->\n      <g transform=\"translate(631.920988 699.2)rotate(-90)scale(0.1 -0.1)\">\n       <use xlink:href=\"#DejaVuSans-55\"/>\n       <use x=\"63.623047\" xlink:href=\"#DejaVuSans-49\"/>\n      </g>\n     </g>\n    </g>\n    <g id=\"xtick_32\">\n     <g id=\"line2d_32\">\n      <g>\n       <use style=\"stroke:#000000;stroke-width:0.8;\" x=\"645.604055\" xlink:href=\"#m4f7de4c021\" y=\"679.475\"/>\n      </g>\n     </g>\n     <g id=\"text_32\">\n      <!-- 59 -->\n      <g transform=\"translate(648.36343 699.2)rotate(-90)scale(0.1 -0.1)\">\n       <use xlink:href=\"#DejaVuSans-53\"/>\n       <use x=\"63.623047\" xlink:href=\"#DejaVuSans-57\"/>\n      </g>\n     </g>\n    </g>\n    <g id=\"xtick_33\">\n     <g id=\"line2d_33\">\n      <g>\n       <use style=\"stroke:#000000;stroke-width:0.8;\" x=\"662.046498\" xlink:href=\"#m4f7de4c021\" y=\"679.475\"/>\n      </g>\n     </g>\n     <g id=\"text_33\">\n      <!-- 82 -->\n      <g transform=\"translate(664.805873 699.2)rotate(-90)scale(0.1 -0.1)\">\n       <use xlink:href=\"#DejaVuSans-56\"/>\n       <use x=\"63.623047\" xlink:href=\"#DejaVuSans-50\"/>\n      </g>\n     </g>\n    </g>\n    <g id=\"xtick_34\">\n     <g id=\"line2d_34\">\n      <g>\n       <use style=\"stroke:#000000;stroke-width:0.8;\" x=\"678.48894\" xlink:href=\"#m4f7de4c021\" y=\"679.475\"/>\n      </g>\n     </g>\n     <g id=\"text_34\">\n      <!-- 11 -->\n      <g transform=\"translate(681.248315 699.2)rotate(-90)scale(0.1 -0.1)\">\n       <use xlink:href=\"#DejaVuSans-49\"/>\n       <use x=\"63.623047\" xlink:href=\"#DejaVuSans-49\"/>\n      </g>\n     </g>\n    </g>\n    <g id=\"xtick_35\">\n     <g id=\"line2d_35\">\n      <g>\n       <use style=\"stroke:#000000;stroke-width:0.8;\" x=\"694.931382\" xlink:href=\"#m4f7de4c021\" y=\"679.475\"/>\n      </g>\n     </g>\n     <g id=\"text_35\">\n      <!-- 68 -->\n      <g transform=\"translate(697.690757 699.2)rotate(-90)scale(0.1 -0.1)\">\n       <use xlink:href=\"#DejaVuSans-54\"/>\n       <use x=\"63.623047\" xlink:href=\"#DejaVuSans-56\"/>\n      </g>\n     </g>\n    </g>\n    <g id=\"xtick_36\">\n     <g id=\"line2d_36\">\n      <g>\n       <use style=\"stroke:#000000;stroke-width:0.8;\" x=\"711.373825\" xlink:href=\"#m4f7de4c021\" y=\"679.475\"/>\n      </g>\n     </g>\n     <g id=\"text_36\">\n      <!-- 55 -->\n      <g transform=\"translate(714.1332 699.2)rotate(-90)scale(0.1 -0.1)\">\n       <use xlink:href=\"#DejaVuSans-53\"/>\n       <use x=\"63.623047\" xlink:href=\"#DejaVuSans-53\"/>\n      </g>\n     </g>\n    </g>\n    <g id=\"xtick_37\">\n     <g id=\"line2d_37\">\n      <g>\n       <use style=\"stroke:#000000;stroke-width:0.8;\" x=\"727.816267\" xlink:href=\"#m4f7de4c021\" y=\"679.475\"/>\n      </g>\n     </g>\n     <g id=\"text_37\">\n      <!-- 54 -->\n      <g transform=\"translate(730.575642 699.2)rotate(-90)scale(0.1 -0.1)\">\n       <use xlink:href=\"#DejaVuSans-53\"/>\n       <use x=\"63.623047\" xlink:href=\"#DejaVuSans-52\"/>\n      </g>\n     </g>\n    </g>\n    <g id=\"xtick_38\">\n     <g id=\"line2d_38\">\n      <g>\n       <use style=\"stroke:#000000;stroke-width:0.8;\" x=\"744.25871\" xlink:href=\"#m4f7de4c021\" y=\"679.475\"/>\n      </g>\n     </g>\n     <g id=\"text_38\">\n      <!-- 81 -->\n      <g transform=\"translate(747.018085 699.2)rotate(-90)scale(0.1 -0.1)\">\n       <use xlink:href=\"#DejaVuSans-56\"/>\n       <use x=\"63.623047\" xlink:href=\"#DejaVuSans-49\"/>\n      </g>\n     </g>\n    </g>\n    <g id=\"xtick_39\">\n     <g id=\"line2d_39\">\n      <g>\n       <use style=\"stroke:#000000;stroke-width:0.8;\" x=\"760.701152\" xlink:href=\"#m4f7de4c021\" y=\"679.475\"/>\n      </g>\n     </g>\n     <g id=\"text_39\">\n      <!-- 10 -->\n      <g transform=\"translate(763.460527 699.2)rotate(-90)scale(0.1 -0.1)\">\n       <use xlink:href=\"#DejaVuSans-49\"/>\n       <use x=\"63.623047\" xlink:href=\"#DejaVuSans-48\"/>\n      </g>\n     </g>\n    </g>\n    <g id=\"xtick_40\">\n     <g id=\"line2d_40\">\n      <g>\n       <use style=\"stroke:#000000;stroke-width:0.8;\" x=\"777.143594\" xlink:href=\"#m4f7de4c021\" y=\"679.475\"/>\n      </g>\n     </g>\n     <g id=\"text_40\">\n      <!-- 18 -->\n      <g transform=\"translate(779.902969 699.2)rotate(-90)scale(0.1 -0.1)\">\n       <use xlink:href=\"#DejaVuSans-49\"/>\n       <use x=\"63.623047\" xlink:href=\"#DejaVuSans-56\"/>\n      </g>\n     </g>\n    </g>\n    <g id=\"xtick_41\">\n     <g id=\"line2d_41\">\n      <g>\n       <use style=\"stroke:#000000;stroke-width:0.8;\" x=\"793.586037\" xlink:href=\"#m4f7de4c021\" y=\"679.475\"/>\n      </g>\n     </g>\n     <g id=\"text_41\">\n      <!-- 92 -->\n      <g transform=\"translate(796.345412 699.2)rotate(-90)scale(0.1 -0.1)\">\n       <use xlink:href=\"#DejaVuSans-57\"/>\n       <use x=\"63.623047\" xlink:href=\"#DejaVuSans-50\"/>\n      </g>\n     </g>\n    </g>\n    <g id=\"xtick_42\">\n     <g id=\"line2d_42\">\n      <g>\n       <use style=\"stroke:#000000;stroke-width:0.8;\" x=\"810.028479\" xlink:href=\"#m4f7de4c021\" y=\"679.475\"/>\n      </g>\n     </g>\n     <g id=\"text_42\">\n      <!-- 8 -->\n      <g transform=\"translate(812.787854 692.8375)rotate(-90)scale(0.1 -0.1)\">\n       <use xlink:href=\"#DejaVuSans-56\"/>\n      </g>\n     </g>\n    </g>\n    <g id=\"xtick_43\">\n     <g id=\"line2d_43\">\n      <g>\n       <use style=\"stroke:#000000;stroke-width:0.8;\" x=\"826.470922\" xlink:href=\"#m4f7de4c021\" y=\"679.475\"/>\n      </g>\n     </g>\n     <g id=\"text_43\">\n      <!-- 27 -->\n      <g transform=\"translate(829.230297 699.2)rotate(-90)scale(0.1 -0.1)\">\n       <use xlink:href=\"#DejaVuSans-50\"/>\n       <use x=\"63.623047\" xlink:href=\"#DejaVuSans-55\"/>\n      </g>\n     </g>\n    </g>\n    <g id=\"xtick_44\">\n     <g id=\"line2d_44\">\n      <g>\n       <use style=\"stroke:#000000;stroke-width:0.8;\" x=\"842.913364\" xlink:href=\"#m4f7de4c021\" y=\"679.475\"/>\n      </g>\n     </g>\n     <g id=\"text_44\">\n      <!-- 96 -->\n      <g transform=\"translate(845.672739 699.2)rotate(-90)scale(0.1 -0.1)\">\n       <use xlink:href=\"#DejaVuSans-57\"/>\n       <use x=\"63.623047\" xlink:href=\"#DejaVuSans-54\"/>\n      </g>\n     </g>\n    </g>\n    <g id=\"xtick_45\">\n     <g id=\"line2d_45\">\n      <g>\n       <use style=\"stroke:#000000;stroke-width:0.8;\" x=\"859.355806\" xlink:href=\"#m4f7de4c021\" y=\"679.475\"/>\n      </g>\n     </g>\n     <g id=\"text_45\">\n      <!-- 31 -->\n      <g transform=\"translate(862.115181 699.2)rotate(-90)scale(0.1 -0.1)\">\n       <use xlink:href=\"#DejaVuSans-51\"/>\n       <use x=\"63.623047\" xlink:href=\"#DejaVuSans-49\"/>\n      </g>\n     </g>\n    </g>\n    <g id=\"xtick_46\">\n     <g id=\"line2d_46\">\n      <g>\n       <use style=\"stroke:#000000;stroke-width:0.8;\" x=\"875.798249\" xlink:href=\"#m4f7de4c021\" y=\"679.475\"/>\n      </g>\n     </g>\n     <g id=\"text_46\">\n      <!-- 106 -->\n      <g transform=\"translate(878.557624 705.5625)rotate(-90)scale(0.1 -0.1)\">\n       <use xlink:href=\"#DejaVuSans-49\"/>\n       <use x=\"63.623047\" xlink:href=\"#DejaVuSans-48\"/>\n       <use x=\"127.246094\" xlink:href=\"#DejaVuSans-54\"/>\n      </g>\n     </g>\n    </g>\n    <g id=\"xtick_47\">\n     <g id=\"line2d_47\">\n      <g>\n       <use style=\"stroke:#000000;stroke-width:0.8;\" x=\"892.240691\" xlink:href=\"#m4f7de4c021\" y=\"679.475\"/>\n      </g>\n     </g>\n     <g id=\"text_47\">\n      <!-- 111 -->\n      <g transform=\"translate(895.000066 705.5625)rotate(-90)scale(0.1 -0.1)\">\n       <use xlink:href=\"#DejaVuSans-49\"/>\n       <use x=\"63.623047\" xlink:href=\"#DejaVuSans-49\"/>\n       <use x=\"127.246094\" xlink:href=\"#DejaVuSans-49\"/>\n      </g>\n     </g>\n    </g>\n    <g id=\"xtick_48\">\n     <g id=\"line2d_48\">\n      <g>\n       <use style=\"stroke:#000000;stroke-width:0.8;\" x=\"908.683134\" xlink:href=\"#m4f7de4c021\" y=\"679.475\"/>\n      </g>\n     </g>\n     <g id=\"text_48\">\n      <!-- 83 -->\n      <g transform=\"translate(911.442509 699.2)rotate(-90)scale(0.1 -0.1)\">\n       <use xlink:href=\"#DejaVuSans-56\"/>\n       <use x=\"63.623047\" xlink:href=\"#DejaVuSans-51\"/>\n      </g>\n     </g>\n    </g>\n    <g id=\"xtick_49\">\n     <g id=\"line2d_49\">\n      <g>\n       <use style=\"stroke:#000000;stroke-width:0.8;\" x=\"925.125576\" xlink:href=\"#m4f7de4c021\" y=\"679.475\"/>\n      </g>\n     </g>\n     <g id=\"text_49\">\n      <!-- 13 -->\n      <g transform=\"translate(927.884951 699.2)rotate(-90)scale(0.1 -0.1)\">\n       <use xlink:href=\"#DejaVuSans-49\"/>\n       <use x=\"63.623047\" xlink:href=\"#DejaVuSans-51\"/>\n      </g>\n     </g>\n    </g>\n    <g id=\"xtick_50\">\n     <g id=\"line2d_50\">\n      <g>\n       <use style=\"stroke:#000000;stroke-width:0.8;\" x=\"941.568018\" xlink:href=\"#m4f7de4c021\" y=\"679.475\"/>\n      </g>\n     </g>\n     <g id=\"text_50\">\n      <!-- 20 -->\n      <g transform=\"translate(944.327393 699.2)rotate(-90)scale(0.1 -0.1)\">\n       <use xlink:href=\"#DejaVuSans-50\"/>\n       <use x=\"63.623047\" xlink:href=\"#DejaVuSans-48\"/>\n      </g>\n     </g>\n    </g>\n    <g id=\"xtick_51\">\n     <g id=\"line2d_51\">\n      <g>\n       <use style=\"stroke:#000000;stroke-width:0.8;\" x=\"958.010461\" xlink:href=\"#m4f7de4c021\" y=\"679.475\"/>\n      </g>\n     </g>\n     <g id=\"text_51\">\n      <!-- 16 -->\n      <g transform=\"translate(960.769836 699.2)rotate(-90)scale(0.1 -0.1)\">\n       <use xlink:href=\"#DejaVuSans-49\"/>\n       <use x=\"63.623047\" xlink:href=\"#DejaVuSans-54\"/>\n      </g>\n     </g>\n    </g>\n    <g id=\"xtick_52\">\n     <g id=\"line2d_52\">\n      <g>\n       <use style=\"stroke:#000000;stroke-width:0.8;\" x=\"974.452903\" xlink:href=\"#m4f7de4c021\" y=\"679.475\"/>\n      </g>\n     </g>\n     <g id=\"text_52\">\n      <!-- 47 -->\n      <g transform=\"translate(977.212278 699.2)rotate(-90)scale(0.1 -0.1)\">\n       <use xlink:href=\"#DejaVuSans-52\"/>\n       <use x=\"63.623047\" xlink:href=\"#DejaVuSans-55\"/>\n      </g>\n     </g>\n    </g>\n    <g id=\"xtick_53\">\n     <g id=\"line2d_53\">\n      <g>\n       <use style=\"stroke:#000000;stroke-width:0.8;\" x=\"990.895346\" xlink:href=\"#m4f7de4c021\" y=\"679.475\"/>\n      </g>\n     </g>\n     <g id=\"text_53\">\n      <!-- 50 -->\n      <g transform=\"translate(993.654721 699.2)rotate(-90)scale(0.1 -0.1)\">\n       <use xlink:href=\"#DejaVuSans-53\"/>\n       <use x=\"63.623047\" xlink:href=\"#DejaVuSans-48\"/>\n      </g>\n     </g>\n    </g>\n    <g id=\"xtick_54\">\n     <g id=\"line2d_54\">\n      <g>\n       <use style=\"stroke:#000000;stroke-width:0.8;\" x=\"1007.337788\" xlink:href=\"#m4f7de4c021\" y=\"679.475\"/>\n      </g>\n     </g>\n     <g id=\"text_54\">\n      <!-- 28 -->\n      <g transform=\"translate(1010.097163 699.2)rotate(-90)scale(0.1 -0.1)\">\n       <use xlink:href=\"#DejaVuSans-50\"/>\n       <use x=\"63.623047\" xlink:href=\"#DejaVuSans-56\"/>\n      </g>\n     </g>\n    </g>\n    <g id=\"xtick_55\">\n     <g id=\"line2d_55\">\n      <g>\n       <use style=\"stroke:#000000;stroke-width:0.8;\" x=\"1023.78023\" xlink:href=\"#m4f7de4c021\" y=\"679.475\"/>\n      </g>\n     </g>\n     <g id=\"text_55\">\n      <!-- 69 -->\n      <g transform=\"translate(1026.539605 699.2)rotate(-90)scale(0.1 -0.1)\">\n       <use xlink:href=\"#DejaVuSans-54\"/>\n       <use x=\"63.623047\" xlink:href=\"#DejaVuSans-57\"/>\n      </g>\n     </g>\n    </g>\n    <g id=\"xtick_56\">\n     <g id=\"line2d_56\">\n      <g>\n       <use style=\"stroke:#000000;stroke-width:0.8;\" x=\"1040.222673\" xlink:href=\"#m4f7de4c021\" y=\"679.475\"/>\n      </g>\n     </g>\n     <g id=\"text_56\">\n      <!-- 84 -->\n      <g transform=\"translate(1042.982048 699.2)rotate(-90)scale(0.1 -0.1)\">\n       <use xlink:href=\"#DejaVuSans-56\"/>\n       <use x=\"63.623047\" xlink:href=\"#DejaVuSans-52\"/>\n      </g>\n     </g>\n    </g>\n    <g id=\"xtick_57\">\n     <g id=\"line2d_57\">\n      <g>\n       <use style=\"stroke:#000000;stroke-width:0.8;\" x=\"1056.665115\" xlink:href=\"#m4f7de4c021\" y=\"679.475\"/>\n      </g>\n     </g>\n     <g id=\"text_57\">\n      <!-- 98 -->\n      <g transform=\"translate(1059.42449 699.2)rotate(-90)scale(0.1 -0.1)\">\n       <use xlink:href=\"#DejaVuSans-57\"/>\n       <use x=\"63.623047\" xlink:href=\"#DejaVuSans-56\"/>\n      </g>\n     </g>\n    </g>\n    <g id=\"xtick_58\">\n     <g id=\"line2d_58\">\n      <g>\n       <use style=\"stroke:#000000;stroke-width:0.8;\" x=\"1073.107558\" xlink:href=\"#m4f7de4c021\" y=\"679.475\"/>\n      </g>\n     </g>\n     <g id=\"text_58\">\n      <!-- 112 -->\n      <g transform=\"translate(1075.866933 705.5625)rotate(-90)scale(0.1 -0.1)\">\n       <use xlink:href=\"#DejaVuSans-49\"/>\n       <use x=\"63.623047\" xlink:href=\"#DejaVuSans-49\"/>\n       <use x=\"127.246094\" xlink:href=\"#DejaVuSans-50\"/>\n      </g>\n     </g>\n    </g>\n    <g id=\"xtick_59\">\n     <g id=\"line2d_59\">\n      <g>\n       <use style=\"stroke:#000000;stroke-width:0.8;\" x=\"1089.55\" xlink:href=\"#m4f7de4c021\" y=\"679.475\"/>\n      </g>\n     </g>\n     <g id=\"text_59\">\n      <!-- 22 -->\n      <g transform=\"translate(1092.309375 699.2)rotate(-90)scale(0.1 -0.1)\">\n       <use xlink:href=\"#DejaVuSans-50\"/>\n       <use x=\"63.623047\" xlink:href=\"#DejaVuSans-50\"/>\n      </g>\n     </g>\n    </g>\n    <g id=\"xtick_60\">\n     <g id=\"line2d_60\">\n      <g>\n       <use style=\"stroke:#000000;stroke-width:0.8;\" x=\"1105.992442\" xlink:href=\"#m4f7de4c021\" y=\"679.475\"/>\n      </g>\n     </g>\n     <g id=\"text_60\">\n      <!-- 35 -->\n      <g transform=\"translate(1108.751817 699.2)rotate(-90)scale(0.1 -0.1)\">\n       <use xlink:href=\"#DejaVuSans-51\"/>\n       <use x=\"63.623047\" xlink:href=\"#DejaVuSans-53\"/>\n      </g>\n     </g>\n    </g>\n    <g id=\"xtick_61\">\n     <g id=\"line2d_61\">\n      <g>\n       <use style=\"stroke:#000000;stroke-width:0.8;\" x=\"1122.434885\" xlink:href=\"#m4f7de4c021\" y=\"679.475\"/>\n      </g>\n     </g>\n     <g id=\"text_61\">\n      <!-- 38 -->\n      <g transform=\"translate(1125.19426 699.2)rotate(-90)scale(0.1 -0.1)\">\n       <use xlink:href=\"#DejaVuSans-51\"/>\n       <use x=\"63.623047\" xlink:href=\"#DejaVuSans-56\"/>\n      </g>\n     </g>\n    </g>\n    <g id=\"xtick_62\">\n     <g id=\"line2d_62\">\n      <g>\n       <use style=\"stroke:#000000;stroke-width:0.8;\" x=\"1138.877327\" xlink:href=\"#m4f7de4c021\" y=\"679.475\"/>\n      </g>\n     </g>\n     <g id=\"text_62\">\n      <!-- 70 -->\n      <g transform=\"translate(1141.636702 699.2)rotate(-90)scale(0.1 -0.1)\">\n       <use xlink:href=\"#DejaVuSans-55\"/>\n       <use x=\"63.623047\" xlink:href=\"#DejaVuSans-48\"/>\n      </g>\n     </g>\n    </g>\n    <g id=\"xtick_63\">\n     <g id=\"line2d_63\">\n      <g>\n       <use style=\"stroke:#000000;stroke-width:0.8;\" x=\"1155.31977\" xlink:href=\"#m4f7de4c021\" y=\"679.475\"/>\n      </g>\n     </g>\n     <g id=\"text_63\">\n      <!-- 88 -->\n      <g transform=\"translate(1158.079145 699.2)rotate(-90)scale(0.1 -0.1)\">\n       <use xlink:href=\"#DejaVuSans-56\"/>\n       <use x=\"63.623047\" xlink:href=\"#DejaVuSans-56\"/>\n      </g>\n     </g>\n    </g>\n    <g id=\"xtick_64\">\n     <g id=\"line2d_64\">\n      <g>\n       <use style=\"stroke:#000000;stroke-width:0.8;\" x=\"1171.762212\" xlink:href=\"#m4f7de4c021\" y=\"679.475\"/>\n      </g>\n     </g>\n     <g id=\"text_64\">\n      <!-- 90 -->\n      <g transform=\"translate(1174.521587 699.2)rotate(-90)scale(0.1 -0.1)\">\n       <use xlink:href=\"#DejaVuSans-57\"/>\n       <use x=\"63.623047\" xlink:href=\"#DejaVuSans-48\"/>\n      </g>\n     </g>\n    </g>\n    <g id=\"xtick_65\">\n     <g id=\"line2d_65\">\n      <g>\n       <use style=\"stroke:#000000;stroke-width:0.8;\" x=\"1188.204654\" xlink:href=\"#m4f7de4c021\" y=\"679.475\"/>\n      </g>\n     </g>\n     <g id=\"text_65\">\n      <!-- 99 -->\n      <g transform=\"translate(1190.964029 699.2)rotate(-90)scale(0.1 -0.1)\">\n       <use xlink:href=\"#DejaVuSans-57\"/>\n       <use x=\"63.623047\" xlink:href=\"#DejaVuSans-57\"/>\n      </g>\n     </g>\n    </g>\n    <g id=\"xtick_66\">\n     <g id=\"line2d_66\">\n      <g>\n       <use style=\"stroke:#000000;stroke-width:0.8;\" x=\"1204.647097\" xlink:href=\"#m4f7de4c021\" y=\"679.475\"/>\n      </g>\n     </g>\n     <g id=\"text_66\">\n      <!-- 14 -->\n      <g transform=\"translate(1207.406472 699.2)rotate(-90)scale(0.1 -0.1)\">\n       <use xlink:href=\"#DejaVuSans-49\"/>\n       <use x=\"63.623047\" xlink:href=\"#DejaVuSans-52\"/>\n      </g>\n     </g>\n    </g>\n    <g id=\"xtick_67\">\n     <g id=\"line2d_67\">\n      <g>\n       <use style=\"stroke:#000000;stroke-width:0.8;\" x=\"1221.089539\" xlink:href=\"#m4f7de4c021\" y=\"679.475\"/>\n      </g>\n     </g>\n     <g id=\"text_67\">\n      <!-- 21 -->\n      <g transform=\"translate(1223.848914 699.2)rotate(-90)scale(0.1 -0.1)\">\n       <use xlink:href=\"#DejaVuSans-50\"/>\n       <use x=\"63.623047\" xlink:href=\"#DejaVuSans-49\"/>\n      </g>\n     </g>\n    </g>\n    <g id=\"xtick_68\">\n     <g id=\"line2d_68\">\n      <g>\n       <use style=\"stroke:#000000;stroke-width:0.8;\" x=\"1237.531982\" xlink:href=\"#m4f7de4c021\" y=\"679.475\"/>\n      </g>\n     </g>\n     <g id=\"text_68\">\n      <!-- 36 -->\n      <g transform=\"translate(1240.291357 699.2)rotate(-90)scale(0.1 -0.1)\">\n       <use xlink:href=\"#DejaVuSans-51\"/>\n       <use x=\"63.623047\" xlink:href=\"#DejaVuSans-54\"/>\n      </g>\n     </g>\n    </g>\n    <g id=\"xtick_69\">\n     <g id=\"line2d_69\">\n      <g>\n       <use style=\"stroke:#000000;stroke-width:0.8;\" x=\"1253.974424\" xlink:href=\"#m4f7de4c021\" y=\"679.475\"/>\n      </g>\n     </g>\n     <g id=\"text_69\">\n      <!-- 62 -->\n      <g transform=\"translate(1256.733799 699.2)rotate(-90)scale(0.1 -0.1)\">\n       <use xlink:href=\"#DejaVuSans-54\"/>\n       <use x=\"63.623047\" xlink:href=\"#DejaVuSans-50\"/>\n      </g>\n     </g>\n    </g>\n    <g id=\"xtick_70\">\n     <g id=\"line2d_70\">\n      <g>\n       <use style=\"stroke:#000000;stroke-width:0.8;\" x=\"1270.416866\" xlink:href=\"#m4f7de4c021\" y=\"679.475\"/>\n      </g>\n     </g>\n     <g id=\"text_70\">\n      <!-- 102 -->\n      <g transform=\"translate(1273.176241 705.5625)rotate(-90)scale(0.1 -0.1)\">\n       <use xlink:href=\"#DejaVuSans-49\"/>\n       <use x=\"63.623047\" xlink:href=\"#DejaVuSans-48\"/>\n       <use x=\"127.246094\" xlink:href=\"#DejaVuSans-50\"/>\n      </g>\n     </g>\n    </g>\n    <g id=\"xtick_71\">\n     <g id=\"line2d_71\">\n      <g>\n       <use style=\"stroke:#000000;stroke-width:0.8;\" x=\"1286.859309\" xlink:href=\"#m4f7de4c021\" y=\"679.475\"/>\n      </g>\n     </g>\n     <g id=\"text_71\">\n      <!-- 104 -->\n      <g transform=\"translate(1289.618684 705.5625)rotate(-90)scale(0.1 -0.1)\">\n       <use xlink:href=\"#DejaVuSans-49\"/>\n       <use x=\"63.623047\" xlink:href=\"#DejaVuSans-48\"/>\n       <use x=\"127.246094\" xlink:href=\"#DejaVuSans-52\"/>\n      </g>\n     </g>\n    </g>\n    <g id=\"xtick_72\">\n     <g id=\"line2d_72\">\n      <g>\n       <use style=\"stroke:#000000;stroke-width:0.8;\" x=\"1303.301751\" xlink:href=\"#m4f7de4c021\" y=\"679.475\"/>\n      </g>\n     </g>\n     <g id=\"text_72\">\n      <!-- 24 -->\n      <g transform=\"translate(1306.061126 699.2)rotate(-90)scale(0.1 -0.1)\">\n       <use xlink:href=\"#DejaVuSans-50\"/>\n       <use x=\"63.623047\" xlink:href=\"#DejaVuSans-52\"/>\n      </g>\n     </g>\n    </g>\n    <g id=\"xtick_73\">\n     <g id=\"line2d_73\">\n      <g>\n       <use style=\"stroke:#000000;stroke-width:0.8;\" x=\"1319.744194\" xlink:href=\"#m4f7de4c021\" y=\"679.475\"/>\n      </g>\n     </g>\n     <g id=\"text_73\">\n      <!-- 32 -->\n      <g transform=\"translate(1322.503569 699.2)rotate(-90)scale(0.1 -0.1)\">\n       <use xlink:href=\"#DejaVuSans-51\"/>\n       <use x=\"63.623047\" xlink:href=\"#DejaVuSans-50\"/>\n      </g>\n     </g>\n    </g>\n    <g id=\"xtick_74\">\n     <g id=\"line2d_74\">\n      <g>\n       <use style=\"stroke:#000000;stroke-width:0.8;\" x=\"1336.186636\" xlink:href=\"#m4f7de4c021\" y=\"679.475\"/>\n      </g>\n     </g>\n     <g id=\"text_74\">\n      <!-- 76 -->\n      <g transform=\"translate(1338.946011 699.2)rotate(-90)scale(0.1 -0.1)\">\n       <use xlink:href=\"#DejaVuSans-55\"/>\n       <use x=\"63.623047\" xlink:href=\"#DejaVuSans-54\"/>\n      </g>\n     </g>\n    </g>\n    <g id=\"xtick_75\">\n     <g id=\"line2d_75\">\n      <g>\n       <use style=\"stroke:#000000;stroke-width:0.8;\" x=\"1352.629078\" xlink:href=\"#m4f7de4c021\" y=\"679.475\"/>\n      </g>\n     </g>\n     <g id=\"text_75\">\n      <!-- 85 -->\n      <g transform=\"translate(1355.388453 699.2)rotate(-90)scale(0.1 -0.1)\">\n       <use xlink:href=\"#DejaVuSans-56\"/>\n       <use x=\"63.623047\" xlink:href=\"#DejaVuSans-53\"/>\n      </g>\n     </g>\n    </g>\n    <g id=\"xtick_76\">\n     <g id=\"line2d_76\">\n      <g>\n       <use style=\"stroke:#000000;stroke-width:0.8;\" x=\"1369.071521\" xlink:href=\"#m4f7de4c021\" y=\"679.475\"/>\n      </g>\n     </g>\n     <g id=\"text_76\">\n      <!-- 95 -->\n      <g transform=\"translate(1371.830896 699.2)rotate(-90)scale(0.1 -0.1)\">\n       <use xlink:href=\"#DejaVuSans-57\"/>\n       <use x=\"63.623047\" xlink:href=\"#DejaVuSans-53\"/>\n      </g>\n     </g>\n    </g>\n    <g id=\"xtick_77\">\n     <g id=\"line2d_77\">\n      <g>\n       <use style=\"stroke:#000000;stroke-width:0.8;\" x=\"1385.513963\" xlink:href=\"#m4f7de4c021\" y=\"679.475\"/>\n      </g>\n     </g>\n     <g id=\"text_77\">\n      <!-- 109 -->\n      <g transform=\"translate(1388.273338 705.5625)rotate(-90)scale(0.1 -0.1)\">\n       <use xlink:href=\"#DejaVuSans-49\"/>\n       <use x=\"63.623047\" xlink:href=\"#DejaVuSans-48\"/>\n       <use x=\"127.246094\" xlink:href=\"#DejaVuSans-57\"/>\n      </g>\n     </g>\n    </g>\n    <g id=\"xtick_78\">\n     <g id=\"line2d_78\">\n      <g>\n       <use style=\"stroke:#000000;stroke-width:0.8;\" x=\"1401.956406\" xlink:href=\"#m4f7de4c021\" y=\"679.475\"/>\n      </g>\n     </g>\n     <g id=\"text_78\">\n      <!-- 15 -->\n      <g transform=\"translate(1404.715781 699.2)rotate(-90)scale(0.1 -0.1)\">\n       <use xlink:href=\"#DejaVuSans-49\"/>\n       <use x=\"63.623047\" xlink:href=\"#DejaVuSans-53\"/>\n      </g>\n     </g>\n    </g>\n    <g id=\"xtick_79\">\n     <g id=\"line2d_79\">\n      <g>\n       <use style=\"stroke:#000000;stroke-width:0.8;\" x=\"1418.398848\" xlink:href=\"#m4f7de4c021\" y=\"679.475\"/>\n      </g>\n     </g>\n     <g id=\"text_79\">\n      <!-- 26 -->\n      <g transform=\"translate(1421.158223 699.2)rotate(-90)scale(0.1 -0.1)\">\n       <use xlink:href=\"#DejaVuSans-50\"/>\n       <use x=\"63.623047\" xlink:href=\"#DejaVuSans-54\"/>\n      </g>\n     </g>\n    </g>\n    <g id=\"xtick_80\">\n     <g id=\"line2d_80\">\n      <g>\n       <use style=\"stroke:#000000;stroke-width:0.8;\" x=\"1434.84129\" xlink:href=\"#m4f7de4c021\" y=\"679.475\"/>\n      </g>\n     </g>\n     <g id=\"text_80\">\n      <!-- 29 -->\n      <g transform=\"translate(1437.600665 699.2)rotate(-90)scale(0.1 -0.1)\">\n       <use xlink:href=\"#DejaVuSans-50\"/>\n       <use x=\"63.623047\" xlink:href=\"#DejaVuSans-57\"/>\n      </g>\n     </g>\n    </g>\n    <g id=\"xtick_81\">\n     <g id=\"line2d_81\">\n      <g>\n       <use style=\"stroke:#000000;stroke-width:0.8;\" x=\"1451.283733\" xlink:href=\"#m4f7de4c021\" y=\"679.475\"/>\n      </g>\n     </g>\n     <g id=\"text_81\">\n      <!-- 48 -->\n      <g transform=\"translate(1454.043108 699.2)rotate(-90)scale(0.1 -0.1)\">\n       <use xlink:href=\"#DejaVuSans-52\"/>\n       <use x=\"63.623047\" xlink:href=\"#DejaVuSans-56\"/>\n      </g>\n     </g>\n    </g>\n    <g id=\"xtick_82\">\n     <g id=\"line2d_82\">\n      <g>\n       <use style=\"stroke:#000000;stroke-width:0.8;\" x=\"1467.726175\" xlink:href=\"#m4f7de4c021\" y=\"679.475\"/>\n      </g>\n     </g>\n     <g id=\"text_82\">\n      <!-- 49 -->\n      <g transform=\"translate(1470.48555 699.2)rotate(-90)scale(0.1 -0.1)\">\n       <use xlink:href=\"#DejaVuSans-52\"/>\n       <use x=\"63.623047\" xlink:href=\"#DejaVuSans-57\"/>\n      </g>\n     </g>\n    </g>\n    <g id=\"xtick_83\">\n     <g id=\"line2d_83\">\n      <g>\n       <use style=\"stroke:#000000;stroke-width:0.8;\" x=\"1484.168618\" xlink:href=\"#m4f7de4c021\" y=\"679.475\"/>\n      </g>\n     </g>\n     <g id=\"text_83\">\n      <!-- 51 -->\n      <g transform=\"translate(1486.927993 699.2)rotate(-90)scale(0.1 -0.1)\">\n       <use xlink:href=\"#DejaVuSans-53\"/>\n       <use x=\"63.623047\" xlink:href=\"#DejaVuSans-49\"/>\n      </g>\n     </g>\n    </g>\n    <g id=\"xtick_84\">\n     <g id=\"line2d_84\">\n      <g>\n       <use style=\"stroke:#000000;stroke-width:0.8;\" x=\"1500.61106\" xlink:href=\"#m4f7de4c021\" y=\"679.475\"/>\n      </g>\n     </g>\n     <g id=\"text_84\">\n      <!-- 63 -->\n      <g transform=\"translate(1503.370435 699.2)rotate(-90)scale(0.1 -0.1)\">\n       <use xlink:href=\"#DejaVuSans-54\"/>\n       <use x=\"63.623047\" xlink:href=\"#DejaVuSans-51\"/>\n      </g>\n     </g>\n    </g>\n    <g id=\"xtick_85\">\n     <g id=\"line2d_85\">\n      <g>\n       <use style=\"stroke:#000000;stroke-width:0.8;\" x=\"1517.053502\" xlink:href=\"#m4f7de4c021\" y=\"679.475\"/>\n      </g>\n     </g>\n     <g id=\"text_85\">\n      <!-- 79 -->\n      <g transform=\"translate(1519.812877 699.2)rotate(-90)scale(0.1 -0.1)\">\n       <use xlink:href=\"#DejaVuSans-55\"/>\n       <use x=\"63.623047\" xlink:href=\"#DejaVuSans-57\"/>\n      </g>\n     </g>\n    </g>\n    <g id=\"xtick_86\">\n     <g id=\"line2d_86\">\n      <g>\n       <use style=\"stroke:#000000;stroke-width:0.8;\" x=\"1533.495945\" xlink:href=\"#m4f7de4c021\" y=\"679.475\"/>\n      </g>\n     </g>\n     <g id=\"text_86\">\n      <!-- 86 -->\n      <g transform=\"translate(1536.25532 699.2)rotate(-90)scale(0.1 -0.1)\">\n       <use xlink:href=\"#DejaVuSans-56\"/>\n       <use x=\"63.623047\" xlink:href=\"#DejaVuSans-54\"/>\n      </g>\n     </g>\n    </g>\n    <g id=\"xtick_87\">\n     <g id=\"line2d_87\">\n      <g>\n       <use style=\"stroke:#000000;stroke-width:0.8;\" x=\"1549.938387\" xlink:href=\"#m4f7de4c021\" y=\"679.475\"/>\n      </g>\n     </g>\n     <g id=\"text_87\">\n      <!-- 94 -->\n      <g transform=\"translate(1552.697762 699.2)rotate(-90)scale(0.1 -0.1)\">\n       <use xlink:href=\"#DejaVuSans-57\"/>\n       <use x=\"63.623047\" xlink:href=\"#DejaVuSans-52\"/>\n      </g>\n     </g>\n    </g>\n    <g id=\"xtick_88\">\n     <g id=\"line2d_88\">\n      <g>\n       <use style=\"stroke:#000000;stroke-width:0.8;\" x=\"1566.38083\" xlink:href=\"#m4f7de4c021\" y=\"679.475\"/>\n      </g>\n     </g>\n     <g id=\"text_88\">\n      <!-- 97 -->\n      <g transform=\"translate(1569.140205 699.2)rotate(-90)scale(0.1 -0.1)\">\n       <use xlink:href=\"#DejaVuSans-57\"/>\n       <use x=\"63.623047\" xlink:href=\"#DejaVuSans-55\"/>\n      </g>\n     </g>\n    </g>\n    <g id=\"xtick_89\">\n     <g id=\"line2d_89\">\n      <g>\n       <use style=\"stroke:#000000;stroke-width:0.8;\" x=\"1582.823272\" xlink:href=\"#m4f7de4c021\" y=\"679.475\"/>\n      </g>\n     </g>\n     <g id=\"text_89\">\n      <!-- 101 -->\n      <g transform=\"translate(1585.582647 705.5625)rotate(-90)scale(0.1 -0.1)\">\n       <use xlink:href=\"#DejaVuSans-49\"/>\n       <use x=\"63.623047\" xlink:href=\"#DejaVuSans-48\"/>\n       <use x=\"127.246094\" xlink:href=\"#DejaVuSans-49\"/>\n      </g>\n     </g>\n    </g>\n    <g id=\"xtick_90\">\n     <g id=\"line2d_90\">\n      <g>\n       <use style=\"stroke:#000000;stroke-width:0.8;\" x=\"1599.265715\" xlink:href=\"#m4f7de4c021\" y=\"679.475\"/>\n      </g>\n     </g>\n     <g id=\"text_90\">\n      <!-- 107 -->\n      <g transform=\"translate(1602.02509 705.5625)rotate(-90)scale(0.1 -0.1)\">\n       <use xlink:href=\"#DejaVuSans-49\"/>\n       <use x=\"63.623047\" xlink:href=\"#DejaVuSans-48\"/>\n       <use x=\"127.246094\" xlink:href=\"#DejaVuSans-55\"/>\n      </g>\n     </g>\n    </g>\n    <g id=\"xtick_91\">\n     <g id=\"line2d_91\">\n      <g>\n       <use style=\"stroke:#000000;stroke-width:0.8;\" x=\"1615.708157\" xlink:href=\"#m4f7de4c021\" y=\"679.475\"/>\n      </g>\n     </g>\n     <g id=\"text_91\">\n      <!-- 19 -->\n      <g transform=\"translate(1618.467532 699.2)rotate(-90)scale(0.1 -0.1)\">\n       <use xlink:href=\"#DejaVuSans-49\"/>\n       <use x=\"63.623047\" xlink:href=\"#DejaVuSans-57\"/>\n      </g>\n     </g>\n    </g>\n    <g id=\"xtick_92\">\n     <g id=\"line2d_92\">\n      <g>\n       <use style=\"stroke:#000000;stroke-width:0.8;\" x=\"1632.150599\" xlink:href=\"#m4f7de4c021\" y=\"679.475\"/>\n      </g>\n     </g>\n     <g id=\"text_92\">\n      <!-- 30 -->\n      <g transform=\"translate(1634.909974 699.2)rotate(-90)scale(0.1 -0.1)\">\n       <use xlink:href=\"#DejaVuSans-51\"/>\n       <use x=\"63.623047\" xlink:href=\"#DejaVuSans-48\"/>\n      </g>\n     </g>\n    </g>\n    <g id=\"xtick_93\">\n     <g id=\"line2d_93\">\n      <g>\n       <use style=\"stroke:#000000;stroke-width:0.8;\" x=\"1648.593042\" xlink:href=\"#m4f7de4c021\" y=\"679.475\"/>\n      </g>\n     </g>\n     <g id=\"text_93\">\n      <!-- 33 -->\n      <g transform=\"translate(1651.352417 699.2)rotate(-90)scale(0.1 -0.1)\">\n       <use xlink:href=\"#DejaVuSans-51\"/>\n       <use x=\"63.623047\" xlink:href=\"#DejaVuSans-51\"/>\n      </g>\n     </g>\n    </g>\n    <g id=\"xtick_94\">\n     <g id=\"line2d_94\">\n      <g>\n       <use style=\"stroke:#000000;stroke-width:0.8;\" x=\"1665.035484\" xlink:href=\"#m4f7de4c021\" y=\"679.475\"/>\n      </g>\n     </g>\n     <g id=\"text_94\">\n      <!-- 34 -->\n      <g transform=\"translate(1667.794859 699.2)rotate(-90)scale(0.1 -0.1)\">\n       <use xlink:href=\"#DejaVuSans-51\"/>\n       <use x=\"63.623047\" xlink:href=\"#DejaVuSans-52\"/>\n      </g>\n     </g>\n    </g>\n    <g id=\"xtick_95\">\n     <g id=\"line2d_95\">\n      <g>\n       <use style=\"stroke:#000000;stroke-width:0.8;\" x=\"1681.477927\" xlink:href=\"#m4f7de4c021\" y=\"679.475\"/>\n      </g>\n     </g>\n     <g id=\"text_95\">\n      <!-- 41 -->\n      <g transform=\"translate(1684.237302 699.2)rotate(-90)scale(0.1 -0.1)\">\n       <use xlink:href=\"#DejaVuSans-52\"/>\n       <use x=\"63.623047\" xlink:href=\"#DejaVuSans-49\"/>\n      </g>\n     </g>\n    </g>\n    <g id=\"xtick_96\">\n     <g id=\"line2d_96\">\n      <g>\n       <use style=\"stroke:#000000;stroke-width:0.8;\" x=\"1697.920369\" xlink:href=\"#m4f7de4c021\" y=\"679.475\"/>\n      </g>\n     </g>\n     <g id=\"text_96\">\n      <!-- 42 -->\n      <g transform=\"translate(1700.679744 699.2)rotate(-90)scale(0.1 -0.1)\">\n       <use xlink:href=\"#DejaVuSans-52\"/>\n       <use x=\"63.623047\" xlink:href=\"#DejaVuSans-50\"/>\n      </g>\n     </g>\n    </g>\n    <g id=\"xtick_97\">\n     <g id=\"line2d_97\">\n      <g>\n       <use style=\"stroke:#000000;stroke-width:0.8;\" x=\"1714.362811\" xlink:href=\"#m4f7de4c021\" y=\"679.475\"/>\n      </g>\n     </g>\n     <g id=\"text_97\">\n      <!-- 44 -->\n      <g transform=\"translate(1717.122186 699.2)rotate(-90)scale(0.1 -0.1)\">\n       <use xlink:href=\"#DejaVuSans-52\"/>\n       <use x=\"63.623047\" xlink:href=\"#DejaVuSans-52\"/>\n      </g>\n     </g>\n    </g>\n    <g id=\"xtick_98\">\n     <g id=\"line2d_98\">\n      <g>\n       <use style=\"stroke:#000000;stroke-width:0.8;\" x=\"1730.805254\" xlink:href=\"#m4f7de4c021\" y=\"679.475\"/>\n      </g>\n     </g>\n     <g id=\"text_98\">\n      <!-- 45 -->\n      <g transform=\"translate(1733.564629 699.2)rotate(-90)scale(0.1 -0.1)\">\n       <use xlink:href=\"#DejaVuSans-52\"/>\n       <use x=\"63.623047\" xlink:href=\"#DejaVuSans-53\"/>\n      </g>\n     </g>\n    </g>\n    <g id=\"xtick_99\">\n     <g id=\"line2d_99\">\n      <g>\n       <use style=\"stroke:#000000;stroke-width:0.8;\" x=\"1747.247696\" xlink:href=\"#m4f7de4c021\" y=\"679.475\"/>\n      </g>\n     </g>\n     <g id=\"text_99\">\n      <!-- 52 -->\n      <g transform=\"translate(1750.007071 699.2)rotate(-90)scale(0.1 -0.1)\">\n       <use xlink:href=\"#DejaVuSans-53\"/>\n       <use x=\"63.623047\" xlink:href=\"#DejaVuSans-50\"/>\n      </g>\n     </g>\n    </g>\n    <g id=\"xtick_100\">\n     <g id=\"line2d_100\">\n      <g>\n       <use style=\"stroke:#000000;stroke-width:0.8;\" x=\"1763.690139\" xlink:href=\"#m4f7de4c021\" y=\"679.475\"/>\n      </g>\n     </g>\n     <g id=\"text_100\">\n      <!-- 64 -->\n      <g transform=\"translate(1766.449514 699.2)rotate(-90)scale(0.1 -0.1)\">\n       <use xlink:href=\"#DejaVuSans-54\"/>\n       <use x=\"63.623047\" xlink:href=\"#DejaVuSans-52\"/>\n      </g>\n     </g>\n    </g>\n    <g id=\"xtick_101\">\n     <g id=\"line2d_101\">\n      <g>\n       <use style=\"stroke:#000000;stroke-width:0.8;\" x=\"1780.132581\" xlink:href=\"#m4f7de4c021\" y=\"679.475\"/>\n      </g>\n     </g>\n     <g id=\"text_101\">\n      <!-- 87 -->\n      <g transform=\"translate(1782.891956 699.2)rotate(-90)scale(0.1 -0.1)\">\n       <use xlink:href=\"#DejaVuSans-56\"/>\n       <use x=\"63.623047\" xlink:href=\"#DejaVuSans-55\"/>\n      </g>\n     </g>\n    </g>\n    <g id=\"xtick_102\">\n     <g id=\"line2d_102\">\n      <g>\n       <use style=\"stroke:#000000;stroke-width:0.8;\" x=\"1796.575023\" xlink:href=\"#m4f7de4c021\" y=\"679.475\"/>\n      </g>\n     </g>\n     <g id=\"text_102\">\n      <!-- 103 -->\n      <g transform=\"translate(1799.334398 705.5625)rotate(-90)scale(0.1 -0.1)\">\n       <use xlink:href=\"#DejaVuSans-49\"/>\n       <use x=\"63.623047\" xlink:href=\"#DejaVuSans-48\"/>\n       <use x=\"127.246094\" xlink:href=\"#DejaVuSans-51\"/>\n      </g>\n     </g>\n    </g>\n    <g id=\"xtick_103\">\n     <g id=\"line2d_103\">\n      <g>\n       <use style=\"stroke:#000000;stroke-width:0.8;\" x=\"1813.017466\" xlink:href=\"#m4f7de4c021\" y=\"679.475\"/>\n      </g>\n     </g>\n     <g id=\"text_103\">\n      <!-- 105 -->\n      <g transform=\"translate(1815.776841 705.5625)rotate(-90)scale(0.1 -0.1)\">\n       <use xlink:href=\"#DejaVuSans-49\"/>\n       <use x=\"63.623047\" xlink:href=\"#DejaVuSans-48\"/>\n       <use x=\"127.246094\" xlink:href=\"#DejaVuSans-53\"/>\n      </g>\n     </g>\n    </g>\n    <g id=\"xtick_104\">\n     <g id=\"line2d_104\">\n      <g>\n       <use style=\"stroke:#000000;stroke-width:0.8;\" x=\"1829.459908\" xlink:href=\"#m4f7de4c021\" y=\"679.475\"/>\n      </g>\n     </g>\n     <g id=\"text_104\">\n      <!-- 108 -->\n      <g transform=\"translate(1832.219283 705.5625)rotate(-90)scale(0.1 -0.1)\">\n       <use xlink:href=\"#DejaVuSans-49\"/>\n       <use x=\"63.623047\" xlink:href=\"#DejaVuSans-48\"/>\n       <use x=\"127.246094\" xlink:href=\"#DejaVuSans-56\"/>\n      </g>\n     </g>\n    </g>\n    <g id=\"xtick_105\">\n     <g id=\"line2d_105\">\n      <g>\n       <use style=\"stroke:#000000;stroke-width:0.8;\" x=\"1845.902351\" xlink:href=\"#m4f7de4c021\" y=\"679.475\"/>\n      </g>\n     </g>\n     <g id=\"text_105\">\n      <!-- 110 -->\n      <g transform=\"translate(1848.661726 705.5625)rotate(-90)scale(0.1 -0.1)\">\n       <use xlink:href=\"#DejaVuSans-49\"/>\n       <use x=\"63.623047\" xlink:href=\"#DejaVuSans-49\"/>\n       <use x=\"127.246094\" xlink:href=\"#DejaVuSans-48\"/>\n      </g>\n     </g>\n    </g>\n    <g id=\"xtick_106\">\n     <g id=\"line2d_106\">\n      <g>\n       <use style=\"stroke:#000000;stroke-width:0.8;\" x=\"1862.344793\" xlink:href=\"#m4f7de4c021\" y=\"679.475\"/>\n      </g>\n     </g>\n     <g id=\"text_106\">\n      <!-- 113 -->\n      <g transform=\"translate(1865.104168 705.5625)rotate(-90)scale(0.1 -0.1)\">\n       <use xlink:href=\"#DejaVuSans-49\"/>\n       <use x=\"63.623047\" xlink:href=\"#DejaVuSans-49\"/>\n       <use x=\"127.246094\" xlink:href=\"#DejaVuSans-51\"/>\n      </g>\n     </g>\n    </g>\n    <g id=\"xtick_107\">\n     <g id=\"line2d_107\">\n      <g>\n       <use style=\"stroke:#000000;stroke-width:0.8;\" x=\"1878.787235\" xlink:href=\"#m4f7de4c021\" y=\"679.475\"/>\n      </g>\n     </g>\n     <g id=\"text_107\">\n      <!-- 115 -->\n      <g transform=\"translate(1881.54661 705.5625)rotate(-90)scale(0.1 -0.1)\">\n       <use xlink:href=\"#DejaVuSans-49\"/>\n       <use x=\"63.623047\" xlink:href=\"#DejaVuSans-49\"/>\n       <use x=\"127.246094\" xlink:href=\"#DejaVuSans-53\"/>\n      </g>\n     </g>\n    </g>\n    <g id=\"xtick_108\">\n     <g id=\"line2d_108\">\n      <g>\n       <use style=\"stroke:#000000;stroke-width:0.8;\" x=\"1895.229678\" xlink:href=\"#m4f7de4c021\" y=\"679.475\"/>\n      </g>\n     </g>\n     <g id=\"text_108\">\n      <!-- 116 -->\n      <g transform=\"translate(1897.989053 705.5625)rotate(-90)scale(0.1 -0.1)\">\n       <use xlink:href=\"#DejaVuSans-49\"/>\n       <use x=\"63.623047\" xlink:href=\"#DejaVuSans-49\"/>\n       <use x=\"127.246094\" xlink:href=\"#DejaVuSans-54\"/>\n      </g>\n     </g>\n    </g>\n    <g id=\"xtick_109\">\n     <g id=\"line2d_109\">\n      <g>\n       <use style=\"stroke:#000000;stroke-width:0.8;\" x=\"1911.67212\" xlink:href=\"#m4f7de4c021\" y=\"679.475\"/>\n      </g>\n     </g>\n     <g id=\"text_109\">\n      <!-- 7 -->\n      <g transform=\"translate(1914.431495 692.8375)rotate(-90)scale(0.1 -0.1)\">\n       <use xlink:href=\"#DejaVuSans-55\"/>\n      </g>\n     </g>\n    </g>\n    <g id=\"xtick_110\">\n     <g id=\"line2d_110\">\n      <g>\n       <use style=\"stroke:#000000;stroke-width:0.8;\" x=\"1928.114563\" xlink:href=\"#m4f7de4c021\" y=\"679.475\"/>\n      </g>\n     </g>\n     <g id=\"text_110\">\n      <!-- 23 -->\n      <g transform=\"translate(1930.873938 699.2)rotate(-90)scale(0.1 -0.1)\">\n       <use xlink:href=\"#DejaVuSans-50\"/>\n       <use x=\"63.623047\" xlink:href=\"#DejaVuSans-51\"/>\n      </g>\n     </g>\n    </g>\n    <g id=\"xtick_111\">\n     <g id=\"line2d_111\">\n      <g>\n       <use style=\"stroke:#000000;stroke-width:0.8;\" x=\"1944.557005\" xlink:href=\"#m4f7de4c021\" y=\"679.475\"/>\n      </g>\n     </g>\n     <g id=\"text_111\">\n      <!-- 25 -->\n      <g transform=\"translate(1947.31638 699.2)rotate(-90)scale(0.1 -0.1)\">\n       <use xlink:href=\"#DejaVuSans-50\"/>\n       <use x=\"63.623047\" xlink:href=\"#DejaVuSans-53\"/>\n      </g>\n     </g>\n    </g>\n    <g id=\"xtick_112\">\n     <g id=\"line2d_112\">\n      <g>\n       <use style=\"stroke:#000000;stroke-width:0.8;\" x=\"1960.999447\" xlink:href=\"#m4f7de4c021\" y=\"679.475\"/>\n      </g>\n     </g>\n     <g id=\"text_112\">\n      <!-- 37 -->\n      <g transform=\"translate(1963.758822 699.2)rotate(-90)scale(0.1 -0.1)\">\n       <use xlink:href=\"#DejaVuSans-51\"/>\n       <use x=\"63.623047\" xlink:href=\"#DejaVuSans-55\"/>\n      </g>\n     </g>\n    </g>\n    <g id=\"xtick_113\">\n     <g id=\"line2d_113\">\n      <g>\n       <use style=\"stroke:#000000;stroke-width:0.8;\" x=\"1977.44189\" xlink:href=\"#m4f7de4c021\" y=\"679.475\"/>\n      </g>\n     </g>\n     <g id=\"text_113\">\n      <!-- 39 -->\n      <g transform=\"translate(1980.201265 699.2)rotate(-90)scale(0.1 -0.1)\">\n       <use xlink:href=\"#DejaVuSans-51\"/>\n       <use x=\"63.623047\" xlink:href=\"#DejaVuSans-57\"/>\n      </g>\n     </g>\n    </g>\n    <g id=\"xtick_114\">\n     <g id=\"line2d_114\">\n      <g>\n       <use style=\"stroke:#000000;stroke-width:0.8;\" x=\"1993.884332\" xlink:href=\"#m4f7de4c021\" y=\"679.475\"/>\n      </g>\n     </g>\n     <g id=\"text_114\">\n      <!-- 40 -->\n      <g transform=\"translate(1996.643707 699.2)rotate(-90)scale(0.1 -0.1)\">\n       <use xlink:href=\"#DejaVuSans-52\"/>\n       <use x=\"63.623047\" xlink:href=\"#DejaVuSans-48\"/>\n      </g>\n     </g>\n    </g>\n    <g id=\"xtick_115\">\n     <g id=\"line2d_115\">\n      <g>\n       <use style=\"stroke:#000000;stroke-width:0.8;\" x=\"2010.326775\" xlink:href=\"#m4f7de4c021\" y=\"679.475\"/>\n      </g>\n     </g>\n     <g id=\"text_115\">\n      <!-- 43 -->\n      <g transform=\"translate(2013.08615 699.2)rotate(-90)scale(0.1 -0.1)\">\n       <use xlink:href=\"#DejaVuSans-52\"/>\n       <use x=\"63.623047\" xlink:href=\"#DejaVuSans-51\"/>\n      </g>\n     </g>\n    </g>\n    <g id=\"xtick_116\">\n     <g id=\"line2d_116\">\n      <g>\n       <use style=\"stroke:#000000;stroke-width:0.8;\" x=\"2026.769217\" xlink:href=\"#m4f7de4c021\" y=\"679.475\"/>\n      </g>\n     </g>\n     <g id=\"text_116\">\n      <!-- 46 -->\n      <g transform=\"translate(2029.528592 699.2)rotate(-90)scale(0.1 -0.1)\">\n       <use xlink:href=\"#DejaVuSans-52\"/>\n       <use x=\"63.623047\" xlink:href=\"#DejaVuSans-54\"/>\n      </g>\n     </g>\n    </g>\n    <g id=\"xtick_117\">\n     <g id=\"line2d_117\">\n      <g>\n       <use style=\"stroke:#000000;stroke-width:0.8;\" x=\"2043.211659\" xlink:href=\"#m4f7de4c021\" y=\"679.475\"/>\n      </g>\n     </g>\n     <g id=\"text_117\">\n      <!-- 114 -->\n      <g transform=\"translate(2045.971034 705.5625)rotate(-90)scale(0.1 -0.1)\">\n       <use xlink:href=\"#DejaVuSans-49\"/>\n       <use x=\"63.623047\" xlink:href=\"#DejaVuSans-49\"/>\n       <use x=\"127.246094\" xlink:href=\"#DejaVuSans-52\"/>\n      </g>\n     </g>\n    </g>\n   </g>\n   <g id=\"matplotlib.axis_2\">\n    <g id=\"ytick_1\">\n     <g id=\"line2d_118\">\n      <defs>\n       <path d=\"M 0 0 \nL -3.5 0 \n\" id=\"m195f8fe3dc\" style=\"stroke:#000000;stroke-width:0.8;\"/>\n      </defs>\n      <g>\n       <use style=\"stroke:#000000;stroke-width:0.8;\" x=\"33.2875\" xlink:href=\"#m195f8fe3dc\" y=\"679.475\"/>\n      </g>\n     </g>\n     <g id=\"text_118\">\n      <!-- 0 -->\n      <g transform=\"translate(19.925 683.274219)scale(0.1 -0.1)\">\n       <use xlink:href=\"#DejaVuSans-48\"/>\n      </g>\n     </g>\n    </g>\n    <g id=\"ytick_2\">\n     <g id=\"line2d_119\">\n      <g>\n       <use style=\"stroke:#000000;stroke-width:0.8;\" x=\"33.2875\" xlink:href=\"#m195f8fe3dc\" y=\"553.439192\"/>\n      </g>\n     </g>\n     <g id=\"text_119\">\n      <!-- 100 -->\n      <g transform=\"translate(7.2 557.238411)scale(0.1 -0.1)\">\n       <use xlink:href=\"#DejaVuSans-49\"/>\n       <use x=\"63.623047\" xlink:href=\"#DejaVuSans-48\"/>\n       <use x=\"127.246094\" xlink:href=\"#DejaVuSans-48\"/>\n      </g>\n     </g>\n    </g>\n    <g id=\"ytick_3\">\n     <g id=\"line2d_120\">\n      <g>\n       <use style=\"stroke:#000000;stroke-width:0.8;\" x=\"33.2875\" xlink:href=\"#m195f8fe3dc\" y=\"427.403384\"/>\n      </g>\n     </g>\n     <g id=\"text_120\">\n      <!-- 200 -->\n      <g transform=\"translate(7.2 431.202603)scale(0.1 -0.1)\">\n       <use xlink:href=\"#DejaVuSans-50\"/>\n       <use x=\"63.623047\" xlink:href=\"#DejaVuSans-48\"/>\n       <use x=\"127.246094\" xlink:href=\"#DejaVuSans-48\"/>\n      </g>\n     </g>\n    </g>\n    <g id=\"ytick_4\">\n     <g id=\"line2d_121\">\n      <g>\n       <use style=\"stroke:#000000;stroke-width:0.8;\" x=\"33.2875\" xlink:href=\"#m195f8fe3dc\" y=\"301.367576\"/>\n      </g>\n     </g>\n     <g id=\"text_121\">\n      <!-- 300 -->\n      <g transform=\"translate(7.2 305.166795)scale(0.1 -0.1)\">\n       <use xlink:href=\"#DejaVuSans-51\"/>\n       <use x=\"63.623047\" xlink:href=\"#DejaVuSans-48\"/>\n       <use x=\"127.246094\" xlink:href=\"#DejaVuSans-48\"/>\n      </g>\n     </g>\n    </g>\n    <g id=\"ytick_5\">\n     <g id=\"line2d_122\">\n      <g>\n       <use style=\"stroke:#000000;stroke-width:0.8;\" x=\"33.2875\" xlink:href=\"#m195f8fe3dc\" y=\"175.331768\"/>\n      </g>\n     </g>\n     <g id=\"text_122\">\n      <!-- 400 -->\n      <g transform=\"translate(7.2 179.130987)scale(0.1 -0.1)\">\n       <use xlink:href=\"#DejaVuSans-52\"/>\n       <use x=\"63.623047\" xlink:href=\"#DejaVuSans-48\"/>\n       <use x=\"127.246094\" xlink:href=\"#DejaVuSans-48\"/>\n      </g>\n     </g>\n    </g>\n    <g id=\"ytick_6\">\n     <g id=\"line2d_123\">\n      <g>\n       <use style=\"stroke:#000000;stroke-width:0.8;\" x=\"33.2875\" xlink:href=\"#m195f8fe3dc\" y=\"49.29596\"/>\n      </g>\n     </g>\n     <g id=\"text_123\">\n      <!-- 500 -->\n      <g transform=\"translate(7.2 53.095179)scale(0.1 -0.1)\">\n       <use xlink:href=\"#DejaVuSans-53\"/>\n       <use x=\"63.623047\" xlink:href=\"#DejaVuSans-48\"/>\n       <use x=\"127.246094\" xlink:href=\"#DejaVuSans-48\"/>\n      </g>\n     </g>\n    </g>\n   </g>\n   <g id=\"patch_120\">\n    <path d=\"M 33.2875 679.475 \nL 33.2875 7.2 \n\" style=\"fill:none;stroke:#000000;stroke-linecap:square;stroke-linejoin:miter;stroke-width:0.8;\"/>\n   </g>\n   <g id=\"patch_121\">\n    <path d=\"M 2145.8125 679.475 \nL 2145.8125 7.2 \n\" style=\"fill:none;stroke:#000000;stroke-linecap:square;stroke-linejoin:miter;stroke-width:0.8;\"/>\n   </g>\n   <g id=\"patch_122\">\n    <path d=\"M 33.2875 679.475 \nL 2145.8125 679.475 \n\" style=\"fill:none;stroke:#000000;stroke-linecap:square;stroke-linejoin:miter;stroke-width:0.8;\"/>\n   </g>\n   <g id=\"patch_123\">\n    <path d=\"M 33.2875 7.2 \nL 2145.8125 7.2 \n\" style=\"fill:none;stroke:#000000;stroke-linecap:square;stroke-linejoin:miter;stroke-width:0.8;\"/>\n   </g>\n  </g>\n </g>\n <defs>\n  <clipPath id=\"p02c9ebe252\">\n   <rect height=\"672.275\" width=\"2112.525\" x=\"33.2875\" y=\"7.2\"/>\n  </clipPath>\n </defs>\n</svg>\n",
            "image/png": "[encoded data removed]"
          },
          "metadata": {
            "needs_background": "light"
          }
        }
      ],
      "source": [
        "plt.figure(figsize=(30, 10))\n",
        "plt.bar(*zip(*dicionario.items()))\n",
        "plt.xticks(rotation=90)\n",
        "plt.tight_layout()\n",
        "plt.savefig('originalClassesHist.png')\n",
        "plt.show()"
      ]
    },
    {
      "cell_type": "code",
      "execution_count": 9,
      "metadata": {},
      "outputs": [
        {
          "output_type": "stream",
          "name": "stdout",
          "text": [
            "Class that most appears >>>  3\nAppears >>>  237  times\n"
          ]
        }
      ],
      "source": [
        "#The idx 1 is related to the class that appears the most, except for the backGround class 0.\n",
        "\n",
        "print('Class that most appears >>> ', list(dicionario.items())[1][0])\n",
        "print('Appears >>> ', list(dicionario.items())[1][1], ' times')\n",
        "\n",
        "dataBaseImageNumberThreshold =  list(dicionario.items())[1][1]"
      ]
    },
    {
      "cell_type": "code",
      "execution_count": 10,
      "metadata": {},
      "outputs": [],
      "source": [
        "def createClassFolder(classId):\n",
        "\n",
        "    try: \n",
        "        os.mkdir(pathToAugmentedFolder + classId)\n",
        "        print('Class Folder Created')\n",
        "    except OSError as error:\n",
        "        print(error)\n",
        "        return "
      ]
    },
    {
      "cell_type": "code",
      "execution_count": 11,
      "metadata": {},
      "outputs": [],
      "source": [
        "def copyImagesToClassFolder(imagesPaths):\n",
        "    \n",
        "  for imagePath in imagesPaths:\n",
        "    img = Image.open(imagePath)\n",
        "    img = img.save(str(imagePath).replace('done', 'augmentedData'))\n",
        "\n",
        "    print(\"Copied Images Successfully\")\n"
      ]
    },
    {
      "cell_type": "code",
      "execution_count": 31,
      "metadata": {},
      "outputs": [],
      "source": [
        "def getImagesByClass(classId):\n",
        "    fnames = get_image_files(path_anno)\n",
        "    imagesToBeCopiedList = []\n",
        "\n",
        "    for i in range(0, len(fnames)):\n",
        "        img = Image.open(fnames[i])\n",
        "        arr = np.asarray(img)\n",
        "        print(fnames[i])\n",
        "        idsInGT = list(np.unique(arr,return_counts=False))\n",
        "        print(idsInGT)\n",
        "        if classId in idsInGT:\n",
        "            imagesToBeCopiedList.append(fnames[i])\n",
        "            stringWithoutGTPath = str(fnames[i]).replace(path_anno, '')\n",
        "            rawImageName = stringWithoutGTPath.replace('_GT.png', '.jpg')\n",
        "            imagesToBeCopiedList.append(path_img + classId + '/' + rawImageName)\n",
        "\n",
        "    return imagesToBeCopiedList"
      ]
    },
    {
      "cell_type": "code",
      "execution_count": 22,
      "metadata": {},
      "outputs": [],
      "source": [
        "def createFolderForClass(classId, numberOfImagesNeeded):\n",
        "\n",
        "    print('Class folder creation: ' + classId)\n",
        "\n",
        "    createClassFolder(classId)\n",
        "\n",
        "    imagesToBeCopied = getImagesByClass(classId)\n",
        "    print('Respect', imagesToBeCopied)\n",
        "\n",
        "    copyImagesToClassFolder(imagesToBeCopied)\n",
        "\n",
        "      \n",
        "\n",
        "\n",
        "\n"
      ]
    },
    {
      "source": [
        "for key,value in list(dicionario.items()):\n",
        "    \n",
        "    numberOfAppearences = value\n",
        "\n",
        "    if numberOfAppearences < dataBaseImageNumberThreshold:\n",
        "\n",
        "        numberOfImagesNeeded = dataBaseImageNumberThreshold - numberOfAppearences\n",
        "\n",
        "        print(numberOfImagesNeeded)\n",
        "        createFolderForClass(key, numberOfImagesNeeded)\n",
        "        break"
      ],
      "cell_type": "code",
      "metadata": {
        "tags": [
          "outputPrepend"
        ]
      },
      "execution_count": 32,
      "outputs": [
        {
          "output_type": "stream",
          "name": "stdout",
          "text": [
            "nB/2020.2/TG/dataset_v1/gt/500_GT.png\n",
            "[0, 1, 12]\n",
            "/mnt/c/Users/tomsq/Documents/UnB/2020.2/TG/dataset_v1/gt/501_GT.png\n",
            "[0, 5, 59, 62, 78, 100]\n",
            "/mnt/c/Users/tomsq/Documents/UnB/2020.2/TG/dataset_v1/gt/503_GT.png\n",
            "[0, 5, 17, 56, 82, 83]\n",
            "/mnt/c/Users/tomsq/Documents/UnB/2020.2/TG/dataset_v1/gt/504_GT.png\n",
            "[0, 2, 17, 49, 83, 101]\n",
            "/mnt/c/Users/tomsq/Documents/UnB/2020.2/TG/dataset_v1/gt/505_GT.png\n",
            "[0, 1, 2, 10]\n",
            "/mnt/c/Users/tomsq/Documents/UnB/2020.2/TG/dataset_v1/gt/507_GT.png\n",
            "[0, 5, 17, 56, 78, 100]\n",
            "/mnt/c/Users/tomsq/Documents/UnB/2020.2/TG/dataset_v1/gt/508_GT.png\n",
            "[0, 3, 9, 60]\n",
            "/mnt/c/Users/tomsq/Documents/UnB/2020.2/TG/dataset_v1/gt/509_GT.png\n",
            "[0, 31]\n",
            "/mnt/c/Users/tomsq/Documents/UnB/2020.2/TG/dataset_v1/gt/510_GT.png\n",
            "[0, 3, 4, 29, 53]\n",
            "/mnt/c/Users/tomsq/Documents/UnB/2020.2/TG/dataset_v1/gt/511_GT.png\n",
            "[0, 1, 24, 66, 100]\n",
            "/mnt/c/Users/tomsq/Documents/UnB/2020.2/TG/dataset_v1/gt/512_GT.png\n",
            "[0, 2, 26, 58, 83]\n",
            "/mnt/c/Users/tomsq/Documents/UnB/2020.2/TG/dataset_v1/gt/513_GT.png\n",
            "[0, 2, 26, 58, 83]\n",
            "/mnt/c/Users/tomsq/Documents/UnB/2020.2/TG/dataset_v1/gt/514_GT.png\n",
            "[0, 5, 17, 53, 74, 83]\n",
            "/mnt/c/Users/tomsq/Documents/UnB/2020.2/TG/dataset_v1/gt/515_GT.png\n",
            "[0, 3, 17, 18, 28, 53]\n",
            "/mnt/c/Users/tomsq/Documents/UnB/2020.2/TG/dataset_v1/gt/516_GT.png\n",
            "[0, 2, 17, 18, 83, 94]\n",
            "/mnt/c/Users/tomsq/Documents/UnB/2020.2/TG/dataset_v1/gt/517_GT.png\n",
            "[0, 2, 18, 56, 78, 90, 100]\n",
            "/mnt/c/Users/tomsq/Documents/UnB/2020.2/TG/dataset_v1/gt/518_GT.png\n",
            "[0, 2, 17, 18, 61, 78, 90, 100]\n",
            "/mnt/c/Users/tomsq/Documents/UnB/2020.2/TG/dataset_v1/gt/519_GT.png\n",
            "[0, 6, 53, 75]\n",
            "/mnt/c/Users/tomsq/Documents/UnB/2020.2/TG/dataset_v1/gt/520_GT.png\n",
            "[0, 50]\n",
            "/mnt/c/Users/tomsq/Documents/UnB/2020.2/TG/dataset_v1/gt/521_GT.png\n",
            "[0, 6, 60]\n",
            "/mnt/c/Users/tomsq/Documents/UnB/2020.2/TG/dataset_v1/gt/522_GT.png\n",
            "[0, 50]\n",
            "/mnt/c/Users/tomsq/Documents/UnB/2020.2/TG/dataset_v1/gt/524_GT.png\n",
            "[0, 16, 61]\n",
            "/mnt/c/Users/tomsq/Documents/UnB/2020.2/TG/dataset_v1/gt/525_GT.png\n",
            "[0, 6, 11, 53, 78]\n",
            "/mnt/c/Users/tomsq/Documents/UnB/2020.2/TG/dataset_v1/gt/526_GT.png\n",
            "[0, 38]\n",
            "/mnt/c/Users/tomsq/Documents/UnB/2020.2/TG/dataset_v1/gt/527_GT.png\n",
            "[0, 6]\n",
            "/mnt/c/Users/tomsq/Documents/UnB/2020.2/TG/dataset_v1/gt/528_GT.png\n",
            "[0, 16, 61]\n",
            "/mnt/c/Users/tomsq/Documents/UnB/2020.2/TG/dataset_v1/gt/529_GT.png\n",
            "[0, 3, 4, 11, 13, 59, 78]\n",
            "/mnt/c/Users/tomsq/Documents/UnB/2020.2/TG/dataset_v1/gt/530_GT.png\n",
            "[0, 42]\n",
            "/mnt/c/Users/tomsq/Documents/UnB/2020.2/TG/dataset_v1/gt/531_GT.png\n",
            "[0, 3, 59]\n",
            "/mnt/c/Users/tomsq/Documents/UnB/2020.2/TG/dataset_v1/gt/532_GT.png\n",
            "[0, 50, 51]\n",
            "/mnt/c/Users/tomsq/Documents/UnB/2020.2/TG/dataset_v1/gt/533_GT.png\n",
            "[0, 6, 61, 75]\n",
            "/mnt/c/Users/tomsq/Documents/UnB/2020.2/TG/dataset_v1/gt/534_GT.png\n",
            "[0, 6]\n",
            "/mnt/c/Users/tomsq/Documents/UnB/2020.2/TG/dataset_v1/gt/535_GT.png\n",
            "[0, 1, 4, 13, 17, 53, 91]\n",
            "/mnt/c/Users/tomsq/Documents/UnB/2020.2/TG/dataset_v1/gt/536_GT.png\n",
            "[0, 60, 67]\n",
            "/mnt/c/Users/tomsq/Documents/UnB/2020.2/TG/dataset_v1/gt/537_GT.png\n",
            "[0, 3, 61]\n",
            "/mnt/c/Users/tomsq/Documents/UnB/2020.2/TG/dataset_v1/gt/538_GT.png\n",
            "[0, 56, 60, 67]\n",
            "/mnt/c/Users/tomsq/Documents/UnB/2020.2/TG/dataset_v1/gt/540_GT.png\n",
            "[0, 3, 30, 53, 60, 66, 72, 91]\n",
            "/mnt/c/Users/tomsq/Documents/UnB/2020.2/TG/dataset_v1/gt/541_GT.png\n",
            "[0, 50, 65]\n",
            "/mnt/c/Users/tomsq/Documents/UnB/2020.2/TG/dataset_v1/gt/542_GT.png\n",
            "[0, 3, 4, 53]\n",
            "/mnt/c/Users/tomsq/Documents/UnB/2020.2/TG/dataset_v1/gt/543_GT.png\n",
            "[0, 3, 61]\n",
            "/mnt/c/Users/tomsq/Documents/UnB/2020.2/TG/dataset_v1/gt/544_GT.png\n",
            "[0, 1]\n",
            "/mnt/c/Users/tomsq/Documents/UnB/2020.2/TG/dataset_v1/gt/545_GT.png\n",
            "[0, 6, 59]\n",
            "/mnt/c/Users/tomsq/Documents/UnB/2020.2/TG/dataset_v1/gt/546_GT.png\n",
            "[0, 4]\n",
            "/mnt/c/Users/tomsq/Documents/UnB/2020.2/TG/dataset_v1/gt/547_GT.png\n",
            "[0, 3, 4, 53]\n",
            "/mnt/c/Users/tomsq/Documents/UnB/2020.2/TG/dataset_v1/gt/548_GT.png\n",
            "[0, 1]\n",
            "/mnt/c/Users/tomsq/Documents/UnB/2020.2/TG/dataset_v1/gt/549_GT.png\n",
            "[0, 1, 60, 67, 72, 76]\n",
            "/mnt/c/Users/tomsq/Documents/UnB/2020.2/TG/dataset_v1/gt/550_GT.png\n",
            "[0, 32, 38, 56, 61, 113]\n",
            "/mnt/c/Users/tomsq/Documents/UnB/2020.2/TG/dataset_v1/gt/551_GT.png\n",
            "[0, 9, 17, 60, 67, 72, 74]\n",
            "/mnt/c/Users/tomsq/Documents/UnB/2020.2/TG/dataset_v1/gt/553_GT.png\n",
            "[0, 33, 45]\n",
            "/mnt/c/Users/tomsq/Documents/UnB/2020.2/TG/dataset_v1/gt/554_GT.png\n",
            "[0, 51]\n",
            "/mnt/c/Users/tomsq/Documents/UnB/2020.2/TG/dataset_v1/gt/555_GT.png\n",
            "[0, 52]\n",
            "/mnt/c/Users/tomsq/Documents/UnB/2020.2/TG/dataset_v1/gt/556_GT.png\n",
            "[0, 1]\n",
            "/mnt/c/Users/tomsq/Documents/UnB/2020.2/TG/dataset_v1/gt/558_GT.png\n",
            "[0, 61, 115]\n",
            "/mnt/c/Users/tomsq/Documents/UnB/2020.2/TG/dataset_v1/gt/559_GT.png\n",
            "[0, 48]\n",
            "/mnt/c/Users/tomsq/Documents/UnB/2020.2/TG/dataset_v1/gt/560_GT.png\n",
            "[0, 27]\n",
            "/mnt/c/Users/tomsq/Documents/UnB/2020.2/TG/dataset_v1/gt/561_GT.png\n",
            "[0, 48]\n",
            "/mnt/c/Users/tomsq/Documents/UnB/2020.2/TG/dataset_v1/gt/562_GT.png\n",
            "[0, 116]\n",
            "/mnt/c/Users/tomsq/Documents/UnB/2020.2/TG/dataset_v1/gt/563_GT.png\n",
            "[0, 27, 38, 56, 65, 72, 74]\n",
            "/mnt/c/Users/tomsq/Documents/UnB/2020.2/TG/dataset_v1/gt/564_GT.png\n",
            "[0, 18, 38, 60, 66, 73, 74, 93]\n",
            "/mnt/c/Users/tomsq/Documents/UnB/2020.2/TG/dataset_v1/gt/569_GT.png\n",
            "[0, 3, 57, 70, 73, 74]\n",
            "/mnt/c/Users/tomsq/Documents/UnB/2020.2/TG/dataset_v1/gt/570_GT.png\n",
            "[0, 12, 57, 73]\n",
            "/mnt/c/Users/tomsq/Documents/UnB/2020.2/TG/dataset_v1/gt/572_GT.png\n",
            "[0, 96]\n",
            "/mnt/c/Users/tomsq/Documents/UnB/2020.2/TG/dataset_v1/gt/573_GT.png\n",
            "[0, 3, 4, 53, 65, 72, 77]\n",
            "/mnt/c/Users/tomsq/Documents/UnB/2020.2/TG/dataset_v1/gt/575_GT.png\n",
            "[0, 3, 4, 54, 65, 72, 91]\n",
            "/mnt/c/Users/tomsq/Documents/UnB/2020.2/TG/dataset_v1/gt/576_GT.png\n",
            "[0, 3, 4, 53, 61, 65, 72, 91]\n",
            "/mnt/c/Users/tomsq/Documents/UnB/2020.2/TG/dataset_v1/gt/577_GT.png\n",
            "[0, 3, 4, 41, 53, 60, 65, 72]\n",
            "/mnt/c/Users/tomsq/Documents/UnB/2020.2/TG/dataset_v1/gt/578_GT.png\n",
            "[0, 3, 4, 53, 65, 74]\n",
            "/mnt/c/Users/tomsq/Documents/UnB/2020.2/TG/dataset_v1/gt/579_GT.png\n",
            "[0, 3, 4, 53, 66, 91]\n",
            "/mnt/c/Users/tomsq/Documents/UnB/2020.2/TG/dataset_v1/gt/582_GT.png\n",
            "[0, 3, 4]\n",
            "/mnt/c/Users/tomsq/Documents/UnB/2020.2/TG/dataset_v1/gt/583_GT.png\n",
            "[0, 16, 53]\n",
            "/mnt/c/Users/tomsq/Documents/UnB/2020.2/TG/dataset_v1/gt/584_GT.png\n",
            "[0, 3, 18, 53, 56, 72, 80]\n",
            "/mnt/c/Users/tomsq/Documents/UnB/2020.2/TG/dataset_v1/gt/586_GT.png\n",
            "[0, 3, 60, 89, 112]\n",
            "/mnt/c/Users/tomsq/Documents/UnB/2020.2/TG/dataset_v1/gt/587_GT.png\n",
            "[0, 57, 68, 73, 74, 75]\n",
            "/mnt/c/Users/tomsq/Documents/UnB/2020.2/TG/dataset_v1/gt/588_GT.png\n",
            "[0, 3, 17, 18, 53, 56, 61, 80, 88, 98]\n",
            "/mnt/c/Users/tomsq/Documents/UnB/2020.2/TG/dataset_v1/gt/589_GT.png\n",
            "[0, 3, 73, 74, 75, 86]\n",
            "/mnt/c/Users/tomsq/Documents/UnB/2020.2/TG/dataset_v1/gt/593_GT.png\n",
            "[0, 3, 60, 68, 73, 75]\n",
            "/mnt/c/Users/tomsq/Documents/UnB/2020.2/TG/dataset_v1/gt/594_GT.png\n",
            "[0, 3, 4, 54, 61, 80]\n",
            "/mnt/c/Users/tomsq/Documents/UnB/2020.2/TG/dataset_v1/gt/595_GT.png\n",
            "[0, 3, 60, 65, 106]\n",
            "/mnt/c/Users/tomsq/Documents/UnB/2020.2/TG/dataset_v1/gt/598_GT.png\n",
            "[0, 3, 4, 12, 60, 65, 70, 72]\n",
            "/mnt/c/Users/tomsq/Documents/UnB/2020.2/TG/dataset_v1/gt/602_GT.png\n",
            "[0, 3, 4, 59, 74, 77]\n",
            "/mnt/c/Users/tomsq/Documents/UnB/2020.2/TG/dataset_v1/gt/604_GT.png\n",
            "[0, 3, 10, 55, 72, 81]\n",
            "/mnt/c/Users/tomsq/Documents/UnB/2020.2/TG/dataset_v1/gt/607_GT.png\n",
            "[0, 3, 4, 60, 67, 89]\n",
            "/mnt/c/Users/tomsq/Documents/UnB/2020.2/TG/dataset_v1/gt/608_GT.png\n",
            "[0, 3, 4, 17, 60, 66, 72]\n",
            "/mnt/c/Users/tomsq/Documents/UnB/2020.2/TG/dataset_v1/gt/610_GT.png\n",
            "[0, 12, 57, 73]\n",
            "/mnt/c/Users/tomsq/Documents/UnB/2020.2/TG/dataset_v1/gt/611_GT.png\n",
            "[0, 3, 17, 53, 65, 72, 91]\n",
            "/mnt/c/Users/tomsq/Documents/UnB/2020.2/TG/dataset_v1/gt/614_GT.png\n",
            "[0, 3, 4, 9, 17, 67]\n",
            "/mnt/c/Users/tomsq/Documents/UnB/2020.2/TG/dataset_v1/gt/615_GT.png\n",
            "[0, 3, 4, 17, 53, 65, 66, 72, 91]\n",
            "/mnt/c/Users/tomsq/Documents/UnB/2020.2/TG/dataset_v1/gt/618_GT.png\n",
            "[0, 12, 57, 84]\n",
            "/mnt/c/Users/tomsq/Documents/UnB/2020.2/TG/dataset_v1/gt/619_GT.png\n",
            "[0, 3, 17, 47, 72, 80, 92]\n",
            "/mnt/c/Users/tomsq/Documents/UnB/2020.2/TG/dataset_v1/gt/622_GT.png\n",
            "[0, 3, 4, 36, 58, 61, 72, 74, 91]\n",
            "/mnt/c/Users/tomsq/Documents/UnB/2020.2/TG/dataset_v1/gt/624_GT.png\n",
            "[0, 12, 57, 66, 73]\n",
            "/mnt/c/Users/tomsq/Documents/UnB/2020.2/TG/dataset_v1/gt/633_GT.png\n",
            "[0, 9, 57, 73, 74, 89]\n",
            "/mnt/c/Users/tomsq/Documents/UnB/2020.2/TG/dataset_v1/gt/637_GT.png\n",
            "[0, 3, 4, 9, 58, 67, 106]\n",
            "/mnt/c/Users/tomsq/Documents/UnB/2020.2/TG/dataset_v1/gt/639_GT.png\n",
            "[0, 3, 4, 59, 72, 81, 93]\n",
            "/mnt/c/Users/tomsq/Documents/UnB/2020.2/TG/dataset_v1/gt/643_GT.png\n",
            "[0, 3, 18, 60]\n",
            "/mnt/c/Users/tomsq/Documents/UnB/2020.2/TG/dataset_v1/gt/644_GT.png\n",
            "[0, 3, 4, 53, 72, 80, 91]\n",
            "/mnt/c/Users/tomsq/Documents/UnB/2020.2/TG/dataset_v1/gt/646_GT.png\n",
            "[0, 6, 17, 53, 61, 91]\n",
            "/mnt/c/Users/tomsq/Documents/UnB/2020.2/TG/dataset_v1/gt/648_GT.png\n",
            "[0, 3, 4, 17]\n",
            "/mnt/c/Users/tomsq/Documents/UnB/2020.2/TG/dataset_v1/gt/649_GT.png\n",
            "[0, 6, 56, 60, 61, 77, 89]\n",
            "/mnt/c/Users/tomsq/Documents/UnB/2020.2/TG/dataset_v1/gt/650_GT.png\n",
            "[0, 3, 4, 12, 32, 58, 65, 72, 73, 82, 98]\n",
            "/mnt/c/Users/tomsq/Documents/UnB/2020.2/TG/dataset_v1/gt/651_GT.png\n",
            "[0, 3, 4]\n",
            "/mnt/c/Users/tomsq/Documents/UnB/2020.2/TG/dataset_v1/gt/652_GT.png\n",
            "[0, 3, 10, 55]\n",
            "/mnt/c/Users/tomsq/Documents/UnB/2020.2/TG/dataset_v1/gt/654_GT.png\n",
            "[0, 27, 57, 72]\n",
            "/mnt/c/Users/tomsq/Documents/UnB/2020.2/TG/dataset_v1/gt/657_GT.png\n",
            "[0, 3, 55]\n",
            "/mnt/c/Users/tomsq/Documents/UnB/2020.2/TG/dataset_v1/gt/659_GT.png\n",
            "[0, 6, 53, 65, 69, 72, 74, 77]\n",
            "/mnt/c/Users/tomsq/Documents/UnB/2020.2/TG/dataset_v1/gt/662_GT.png\n",
            "[0, 3, 4, 53, 65, 72, 91]\n",
            "/mnt/c/Users/tomsq/Documents/UnB/2020.2/TG/dataset_v1/gt/665_GT.png\n",
            "[0, 3, 4, 60, 67, 72, 75, 100]\n",
            "/mnt/c/Users/tomsq/Documents/UnB/2020.2/TG/dataset_v1/gt/668_GT.png\n",
            "[0, 8, 53, 65, 72, 89]\n",
            "/mnt/c/Users/tomsq/Documents/UnB/2020.2/TG/dataset_v1/gt/670_GT.png\n",
            "[0, 1, 20, 60]\n",
            "/mnt/c/Users/tomsq/Documents/UnB/2020.2/TG/dataset_v1/gt/675_GT.png\n",
            "[0, 3, 58, 89]\n",
            "/mnt/c/Users/tomsq/Documents/UnB/2020.2/TG/dataset_v1/gt/676_GT.png\n",
            "[0, 60, 73]\n",
            "/mnt/c/Users/tomsq/Documents/UnB/2020.2/TG/dataset_v1/gt/677_GT.png\n",
            "[0, 1, 3, 4, 71]\n",
            "/mnt/c/Users/tomsq/Documents/UnB/2020.2/TG/dataset_v1/gt/678_GT.png\n",
            "[0, 3, 4, 56, 65, 72, 91]\n",
            "/mnt/c/Users/tomsq/Documents/UnB/2020.2/TG/dataset_v1/gt/683_GT.png\n",
            "[0, 3, 60, 73]\n",
            "/mnt/c/Users/tomsq/Documents/UnB/2020.2/TG/dataset_v1/gt/693_GT.png\n",
            "[0, 3, 17, 18, 67]\n",
            "/mnt/c/Users/tomsq/Documents/UnB/2020.2/TG/dataset_v1/gt/694_GT.png\n",
            "[0, 3, 4]\n",
            "/mnt/c/Users/tomsq/Documents/UnB/2020.2/TG/dataset_v1/gt/706_GT.png\n",
            "[0, 3, 4, 53, 65, 72, 91]\n",
            "/mnt/c/Users/tomsq/Documents/UnB/2020.2/TG/dataset_v1/gt/707_GT.png\n",
            "[0, 3, 53, 73, 74]\n",
            "/mnt/c/Users/tomsq/Documents/UnB/2020.2/TG/dataset_v1/gt/708_GT.png\n",
            "[0, 3, 4, 59, 67, 72, 91]\n",
            "/mnt/c/Users/tomsq/Documents/UnB/2020.2/TG/dataset_v1/gt/710_GT.png\n",
            "[0, 3, 4, 72, 73]\n",
            "/mnt/c/Users/tomsq/Documents/UnB/2020.2/TG/dataset_v1/gt/712_GT.png\n",
            "[0, 1, 57, 65, 72, 74, 93]\n",
            "/mnt/c/Users/tomsq/Documents/UnB/2020.2/TG/dataset_v1/gt/716_GT.png\n",
            "[0, 3, 4, 58, 67, 75, 106]\n",
            "/mnt/c/Users/tomsq/Documents/UnB/2020.2/TG/dataset_v1/gt/717_GT.png\n",
            "[0, 57, 68, 73, 74]\n",
            "/mnt/c/Users/tomsq/Documents/UnB/2020.2/TG/dataset_v1/gt/724_GT.png\n",
            "[0, 3, 53, 61, 72, 91]\n",
            "/mnt/c/Users/tomsq/Documents/UnB/2020.2/TG/dataset_v1/gt/726_GT.png\n",
            "[0, 3, 4, 60, 72, 80]\n",
            "/mnt/c/Users/tomsq/Documents/UnB/2020.2/TG/dataset_v1/gt/727_GT.png\n",
            "[0, 12, 89]\n",
            "/mnt/c/Users/tomsq/Documents/UnB/2020.2/TG/dataset_v1/gt/728_GT.png\n",
            "[0, 3, 4, 60, 65, 72]\n",
            "/mnt/c/Users/tomsq/Documents/UnB/2020.2/TG/dataset_v1/gt/730_GT.png\n",
            "[0, 3, 4, 53, 68]\n",
            "/mnt/c/Users/tomsq/Documents/UnB/2020.2/TG/dataset_v1/gt/732_GT.png\n",
            "[0, 1, 60, 65, 72, 73, 93]\n",
            "/mnt/c/Users/tomsq/Documents/UnB/2020.2/TG/dataset_v1/gt/734_GT.png\n",
            "[0, 3, 4, 57, 66, 89]\n",
            "/mnt/c/Users/tomsq/Documents/UnB/2020.2/TG/dataset_v1/gt/735_GT.png\n",
            "[0, 3, 4, 61, 65, 72]\n",
            "/mnt/c/Users/tomsq/Documents/UnB/2020.2/TG/dataset_v1/gt/736_GT.png\n",
            "[0, 3, 4, 75, 89]\n",
            "/mnt/c/Users/tomsq/Documents/UnB/2020.2/TG/dataset_v1/gt/742_GT.png\n",
            "[0, 8, 60]\n",
            "/mnt/c/Users/tomsq/Documents/UnB/2020.2/TG/dataset_v1/gt/743_GT.png\n",
            "[0, 12, 17, 53, 65, 72]\n",
            "/mnt/c/Users/tomsq/Documents/UnB/2020.2/TG/dataset_v1/gt/744_GT.png\n",
            "[0, 3, 4, 53, 65, 72]\n",
            "/mnt/c/Users/tomsq/Documents/UnB/2020.2/TG/dataset_v1/gt/748_GT.png\n",
            "[0, 53, 73, 74, 77]\n",
            "/mnt/c/Users/tomsq/Documents/UnB/2020.2/TG/dataset_v1/gt/750_GT.png\n",
            "[0, 3, 4, 53, 80]\n",
            "/mnt/c/Users/tomsq/Documents/UnB/2020.2/TG/dataset_v1/gt/751_GT.png\n",
            "[0, 3, 4, 17, 111]\n",
            "/mnt/c/Users/tomsq/Documents/UnB/2020.2/TG/dataset_v1/gt/754_GT.png\n",
            "[0, 12, 57, 84]\n",
            "/mnt/c/Users/tomsq/Documents/UnB/2020.2/TG/dataset_v1/gt/755_GT.png\n",
            "[0, 3, 4, 60, 67]\n",
            "/mnt/c/Users/tomsq/Documents/UnB/2020.2/TG/dataset_v1/gt/758_GT.png\n",
            "[0, 6, 59, 65]\n",
            "/mnt/c/Users/tomsq/Documents/UnB/2020.2/TG/dataset_v1/gt/765_GT.png\n",
            "[0, 3, 36, 55, 65, 72, 74]\n",
            "/mnt/c/Users/tomsq/Documents/UnB/2020.2/TG/dataset_v1/gt/767_GT.png\n",
            "[0, 3, 60, 89, 106]\n",
            "/mnt/c/Users/tomsq/Documents/UnB/2020.2/TG/dataset_v1/gt/771_GT.png\n",
            "[0, 3, 60, 61, 65, 67, 73, 74, 82]\n",
            "/mnt/c/Users/tomsq/Documents/UnB/2020.2/TG/dataset_v1/gt/772_GT.png\n",
            "[0, 3, 4, 53, 66]\n",
            "/mnt/c/Users/tomsq/Documents/UnB/2020.2/TG/dataset_v1/gt/773_GT.png\n",
            "[0, 3, 57, 89]\n",
            "/mnt/c/Users/tomsq/Documents/UnB/2020.2/TG/dataset_v1/gt/775_GT.png\n",
            "[0, 3, 4, 53, 65, 72, 74]\n",
            "/mnt/c/Users/tomsq/Documents/UnB/2020.2/TG/dataset_v1/gt/777_GT.png\n",
            "[0, 2, 65, 69, 72, 74, 77]\n",
            "/mnt/c/Users/tomsq/Documents/UnB/2020.2/TG/dataset_v1/gt/779_GT.png\n",
            "[0, 3, 4, 17, 53, 65, 72]\n",
            "/mnt/c/Users/tomsq/Documents/UnB/2020.2/TG/dataset_v1/gt/780_GT.png\n",
            "[0, 6, 17, 53, 91]\n",
            "/mnt/c/Users/tomsq/Documents/UnB/2020.2/TG/dataset_v1/gt/781_GT.png\n",
            "[0, 4, 11, 60, 65, 72, 73, 74, 96]\n",
            "/mnt/c/Users/tomsq/Documents/UnB/2020.2/TG/dataset_v1/gt/783_GT.png\n",
            "[0, 3, 4, 60, 65, 91, 111]\n",
            "/mnt/c/Users/tomsq/Documents/UnB/2020.2/TG/dataset_v1/gt/787_GT.png\n",
            "[0, 53, 65, 72, 91]\n",
            "/mnt/c/Users/tomsq/Documents/UnB/2020.2/TG/dataset_v1/gt/789_GT.png\n",
            "[0, 3, 4, 53, 65, 72, 91]\n",
            "/mnt/c/Users/tomsq/Documents/UnB/2020.2/TG/dataset_v1/gt/791_GT.png\n",
            "[0, 3, 60]\n",
            "/mnt/c/Users/tomsq/Documents/UnB/2020.2/TG/dataset_v1/gt/792_GT.png\n",
            "[0, 3, 4, 57, 82]\n",
            "/mnt/c/Users/tomsq/Documents/UnB/2020.2/TG/dataset_v1/gt/797_GT.png\n",
            "[0, 3, 60, 65, 72]\n",
            "/mnt/c/Users/tomsq/Documents/UnB/2020.2/TG/dataset_v1/gt/799_GT.png\n",
            "[0, 6, 53, 65, 72]\n",
            "/mnt/c/Users/tomsq/Documents/UnB/2020.2/TG/dataset_v1/gt/801_GT.png\n",
            "[0, 61, 73, 74]\n",
            "/mnt/c/Users/tomsq/Documents/UnB/2020.2/TG/dataset_v1/gt/804_GT.png\n",
            "[0, 53, 65, 72, 91]\n",
            "/mnt/c/Users/tomsq/Documents/UnB/2020.2/TG/dataset_v1/gt/805_GT.png\n",
            "[0, 3, 4, 53, 67]\n",
            "/mnt/c/Users/tomsq/Documents/UnB/2020.2/TG/dataset_v1/gt/806_GT.png\n",
            "[0, 3, 4, 60, 65, 72, 75, 93, 98, 106]\n",
            "/mnt/c/Users/tomsq/Documents/UnB/2020.2/TG/dataset_v1/gt/808_GT.png\n",
            "[0, 3, 4, 53, 66]\n",
            "/mnt/c/Users/tomsq/Documents/UnB/2020.2/TG/dataset_v1/gt/809_GT.png\n",
            "[0, 3, 4, 17, 53, 65, 89, 91]\n",
            "/mnt/c/Users/tomsq/Documents/UnB/2020.2/TG/dataset_v1/gt/812_GT.png\n",
            "[0, 53, 73, 74, 75]\n",
            "/mnt/c/Users/tomsq/Documents/UnB/2020.2/TG/dataset_v1/gt/813_GT.png\n",
            "[0, 3, 53, 65, 72, 91]\n",
            "/mnt/c/Users/tomsq/Documents/UnB/2020.2/TG/dataset_v1/gt/814_GT.png\n",
            "[0, 3, 60, 65, 72, 89]\n",
            "/mnt/c/Users/tomsq/Documents/UnB/2020.2/TG/dataset_v1/gt/819_GT.png\n",
            "[0, 5, 60, 65, 73, 77, 93]\n",
            "/mnt/c/Users/tomsq/Documents/UnB/2020.2/TG/dataset_v1/gt/821_GT.png\n",
            "[0, 6, 60, 74, 89]\n",
            "/mnt/c/Users/tomsq/Documents/UnB/2020.2/TG/dataset_v1/gt/822_GT.png\n",
            "[0, 3, 58, 65, 72, 112]\n",
            "/mnt/c/Users/tomsq/Documents/UnB/2020.2/TG/dataset_v1/gt/823_GT.png\n",
            "[0, 89]\n",
            "/mnt/c/Users/tomsq/Documents/UnB/2020.2/TG/dataset_v1/gt/827_GT.png\n",
            "[0, 1, 4, 28, 61, 65, 74, 77]\n",
            "/mnt/c/Users/tomsq/Documents/UnB/2020.2/TG/dataset_v1/gt/828_GT.png\n",
            "[0, 3, 60, 65, 73, 74, 93]\n",
            "/mnt/c/Users/tomsq/Documents/UnB/2020.2/TG/dataset_v1/gt/829_GT.png\n",
            "[0, 3, 4, 60, 66]\n",
            "/mnt/c/Users/tomsq/Documents/UnB/2020.2/TG/dataset_v1/gt/837_GT.png\n",
            "[0, 61, 65, 72, 74, 75, 77, 82]\n",
            "/mnt/c/Users/tomsq/Documents/UnB/2020.2/TG/dataset_v1/gt/838_GT.png\n",
            "[0, 3, 4, 53, 65, 72]\n",
            "/mnt/c/Users/tomsq/Documents/UnB/2020.2/TG/dataset_v1/gt/840_GT.png\n",
            "[0, 3, 29, 57, 65]\n",
            "/mnt/c/Users/tomsq/Documents/UnB/2020.2/TG/dataset_v1/gt/841_GT.png\n",
            "[0, 58, 73, 89]\n",
            "/mnt/c/Users/tomsq/Documents/UnB/2020.2/TG/dataset_v1/gt/842_GT.png\n",
            "[0, 3, 4, 53, 56, 74, 77, 89]\n",
            "/mnt/c/Users/tomsq/Documents/UnB/2020.2/TG/dataset_v1/gt/844_GT.png\n",
            "[0, 3, 27, 59]\n",
            "/mnt/c/Users/tomsq/Documents/UnB/2020.2/TG/dataset_v1/gt/846_GT.png\n",
            "[0, 1, 9, 60, 74, 84]\n",
            "/mnt/c/Users/tomsq/Documents/UnB/2020.2/TG/dataset_v1/gt/848_GT.png\n",
            "[0, 13, 53, 65, 72]\n",
            "/mnt/c/Users/tomsq/Documents/UnB/2020.2/TG/dataset_v1/gt/853_GT.png\n",
            "[0, 53, 68, 74, 82]\n",
            "/mnt/c/Users/tomsq/Documents/UnB/2020.2/TG/dataset_v1/gt/856_GT.png\n",
            "[0, 3, 18, 53, 56, 72, 80]\n",
            "/mnt/c/Users/tomsq/Documents/UnB/2020.2/TG/dataset_v1/gt/857_GT.png\n",
            "[0, 3, 4, 53, 61, 66, 100]\n",
            "/mnt/c/Users/tomsq/Documents/UnB/2020.2/TG/dataset_v1/gt/863_GT.png\n",
            "[0, 6, 60, 80]\n",
            "/mnt/c/Users/tomsq/Documents/UnB/2020.2/TG/dataset_v1/gt/864_GT.png\n",
            "[0, 53, 61, 73]\n",
            "/mnt/c/Users/tomsq/Documents/UnB/2020.2/TG/dataset_v1/gt/865_GT.png\n",
            "[0, 1, 3, 4, 74]\n",
            "/mnt/c/Users/tomsq/Documents/UnB/2020.2/TG/dataset_v1/gt/867_GT.png\n",
            "[0, 3, 4, 53, 91]\n",
            "/mnt/c/Users/tomsq/Documents/UnB/2020.2/TG/dataset_v1/gt/869_GT.png\n",
            "[0, 3, 4, 53, 91, 111]\n",
            "/mnt/c/Users/tomsq/Documents/UnB/2020.2/TG/dataset_v1/gt/870_GT.png\n",
            "[0, 20, 58, 72, 73, 106]\n",
            "/mnt/c/Users/tomsq/Documents/UnB/2020.2/TG/dataset_v1/gt/873_GT.png\n",
            "[0, 3, 4, 59, 72, 74, 80, 89, 93, 100]\n",
            "/mnt/c/Users/tomsq/Documents/UnB/2020.2/TG/dataset_v1/gt/878_GT.png\n",
            "[0, 58, 73, 89]\n",
            "/mnt/c/Users/tomsq/Documents/UnB/2020.2/TG/dataset_v1/gt/880_GT.png\n",
            "[0, 5, 60, 65, 73, 74, 77, 80]\n",
            "/mnt/c/Users/tomsq/Documents/UnB/2020.2/TG/dataset_v1/gt/882_GT.png\n",
            "[0, 3, 4, 75, 80]\n",
            "/mnt/c/Users/tomsq/Documents/UnB/2020.2/TG/dataset_v1/gt/883_GT.png\n",
            "[0, 3, 4, 9, 17, 53, 74]\n",
            "/mnt/c/Users/tomsq/Documents/UnB/2020.2/TG/dataset_v1/gt/884_GT.png\n",
            "[0, 1, 60, 72, 74, 77, 93]\n",
            "/mnt/c/Users/tomsq/Documents/UnB/2020.2/TG/dataset_v1/gt/886_GT.png\n",
            "[0, 3, 53, 73, 89]\n",
            "/mnt/c/Users/tomsq/Documents/UnB/2020.2/TG/dataset_v1/gt/891_GT.png\n",
            "[0, 1, 36, 53, 61, 65, 72, 74]\n",
            "/mnt/c/Users/tomsq/Documents/UnB/2020.2/TG/dataset_v1/gt/892_GT.png\n",
            "[0, 3, 4, 17]\n",
            "/mnt/c/Users/tomsq/Documents/UnB/2020.2/TG/dataset_v1/gt/895_GT.png\n",
            "[0, 3, 4, 53, 61, 65, 72, 91]\n",
            "/mnt/c/Users/tomsq/Documents/UnB/2020.2/TG/dataset_v1/gt/900_GT.png\n",
            "[0, 3, 60, 65, 72, 81]\n",
            "/mnt/c/Users/tomsq/Documents/UnB/2020.2/TG/dataset_v1/gt/901_GT.png\n",
            "[0, 3, 4, 17, 54]\n",
            "/mnt/c/Users/tomsq/Documents/UnB/2020.2/TG/dataset_v1/gt/902_GT.png\n",
            "[0, 3, 4, 60, 81, 89]\n",
            "/mnt/c/Users/tomsq/Documents/UnB/2020.2/TG/dataset_v1/gt/906_GT.png\n",
            "[0, 3, 4, 60, 73, 74]\n",
            "/mnt/c/Users/tomsq/Documents/UnB/2020.2/TG/dataset_v1/gt/907_GT.png\n",
            "[0, 6, 53, 65, 72]\n",
            "/mnt/c/Users/tomsq/Documents/UnB/2020.2/TG/dataset_v1/gt/910_GT.png\n",
            "[0, 58, 66]\n",
            "/mnt/c/Users/tomsq/Documents/UnB/2020.2/TG/dataset_v1/gt/912_GT.png\n",
            "[0, 3, 4, 60, 80]\n",
            "/mnt/c/Users/tomsq/Documents/UnB/2020.2/TG/dataset_v1/gt/914_GT.png\n",
            "[0, 3, 17, 47, 80, 92]\n",
            "/mnt/c/Users/tomsq/Documents/UnB/2020.2/TG/dataset_v1/gt/929_GT.png\n",
            "[0, 60, 72, 73, 74, 75, 80, 82]\n",
            "/mnt/c/Users/tomsq/Documents/UnB/2020.2/TG/dataset_v1/gt/938_GT.png\n",
            "[0, 2, 11, 60, 67, 74]\n",
            "/mnt/c/Users/tomsq/Documents/UnB/2020.2/TG/dataset_v1/gt/939_GT.png\n",
            "[0, 3, 28, 60, 74]\n",
            "/mnt/c/Users/tomsq/Documents/UnB/2020.2/TG/dataset_v1/gt/945_GT.png\n",
            "[0, 3, 4, 53, 67, 74, 77]\n",
            "/mnt/c/Users/tomsq/Documents/UnB/2020.2/TG/dataset_v1/gt/950_GT.png\n",
            "[0, 2, 4, 60, 73, 93]\n",
            "/mnt/c/Users/tomsq/Documents/UnB/2020.2/TG/dataset_v1/gt/951_GT.png\n",
            "[0, 3, 57, 61, 72]\n",
            "/mnt/c/Users/tomsq/Documents/UnB/2020.2/TG/dataset_v1/gt/960_GT.png\n",
            "[0, 6, 28, 73, 74, 75, 82]\n",
            "/mnt/c/Users/tomsq/Documents/UnB/2020.2/TG/dataset_v1/gt/970_GT.png\n",
            "[0, 2, 20, 74]\n",
            "/mnt/c/Users/tomsq/Documents/UnB/2020.2/TG/dataset_v1/gt/972_GT.png\n",
            "[0, 3, 17, 56, 65, 72]\n",
            "/mnt/c/Users/tomsq/Documents/UnB/2020.2/TG/dataset_v1/gt/975_GT.png\n",
            "[0, 3, 11, 60, 65, 72, 74]\n",
            "/mnt/c/Users/tomsq/Documents/UnB/2020.2/TG/dataset_v1/gt/976_GT.png\n",
            "[0, 96]\n",
            "/mnt/c/Users/tomsq/Documents/UnB/2020.2/TG/dataset_v1/gt/978_GT.png\n",
            "[0, 2, 59, 61, 65, 89]\n",
            "/mnt/c/Users/tomsq/Documents/UnB/2020.2/TG/dataset_v1/gt/983_GT.png\n",
            "[0, 3, 60, 73]\n",
            "/mnt/c/Users/tomsq/Documents/UnB/2020.2/TG/dataset_v1/gt/986_GT.png\n",
            "[0, 3, 4, 17]\n",
            "/mnt/c/Users/tomsq/Documents/UnB/2020.2/TG/dataset_v1/gt/987_GT.png\n",
            "[0, 3, 53, 65, 72, 91]\n",
            "/mnt/c/Users/tomsq/Documents/UnB/2020.2/TG/dataset_v1/gt/994_GT.png\n",
            "[0, 3, 53, 71, 91]\n",
            "/mnt/c/Users/tomsq/Documents/UnB/2020.2/TG/dataset_v1/gt/996_GT.png\n",
            "[0, 13, 57, 65]\n",
            "/mnt/c/Users/tomsq/Documents/UnB/2020.2/TG/dataset_v1/gt/998_GT.png\n",
            "[0, 1, 2, 4, 60, 65, 72]\n",
            "Respect []\n"
          ]
        }
      ]
    },
    {
      "cell_type": "markdown",
      "metadata": {
        "id": "vKpgZRAK3dFN"
      },
      "source": [
        "## Dataloaders"
      ]
    },
    {
      "cell_type": "code",
      "metadata": {
        "id": "zwqIcnnv3TEi"
      },
      "source": [
        "sizeImage = (512,512)\n",
        "bs = 1\n",
        "fnames = get_image_files(path_img)\n",
        "\n",
        "tfms = aug_transforms(pad_mode='zeros', mult=2, min_scale=1, flip_vert=True, size=sizeImage)"
      ],
      "execution_count": 68,
      "outputs": []
    },
    {
      "cell_type": "code",
      "metadata": {
        "id": "u6wGnX3X3fIS"
      },
      "source": [
        "dataloaders = SegmentationDataLoaders.from_label_func(path_img, bs=bs,\n",
        "    fnames = fnames, \n",
        "    label_func = get_y_fn,                                     \n",
        "    codes = codes,   \n",
        "    valid_pct=0.0,\n",
        "    shuffle=False,\n",
        "    seed=None,                \n",
        "    batch_tfms=[*tfms, Normalize.from_stats(*imagenet_stats)])\n",
        "\n",
        "dataloaders.vocab = codes"
      ],
      "execution_count": 69,
      "outputs": []
    },
    {
      "cell_type": "code",
      "metadata": {
        "colab": {
          "base_uri": "https://localhost:8080/"
        },
        "id": "jx6ZkJPQ35fb",
        "outputId": "7156ef77-5523-4453-a5fe-f2931ba0f556"
      },
      "source": [
        "len(dataloaders.train_ds), len(dataloaders.valid_ds)"
      ],
      "execution_count": 65,
      "outputs": [
        {
          "output_type": "execute_result",
          "data": {
            "text/plain": [
              "(508, 0)"
            ]
          },
          "metadata": {},
          "execution_count": 65
        }
      ]
    },
    {
      "cell_type": "code",
      "metadata": {
        "colab": {
          "base_uri": "https://localhost:8080/",
          "height": 666
        },
        "id": "Udr4qe1d0Hhp",
        "outputId": "42dcd7f7-f750-450b-b3c1-9e4e39ae9aa9"
      },
      "source": [
        "for idx, batch in enumerate(dataloaders.train):\n",
        "  \n",
        "  cmap = matplotlib.colors.ListedColormap (np.random.rand(256,3))\n",
        "  augmentedImage = batch[0].cpu().squeeze().permute(1,2,0).numpy()\n",
        "  augmentedGroundTruth = batch[1].cpu().squeeze(axis=2).permute(1,2,0).numpy()\n",
        "  \n",
        "\n",
        "\n",
        "  plt.imshow(augmentedImage, cmap=cmap, vmin=0, vmax=255)\n",
        "  plt.show()\n",
        "\n",
        "  plt.imshow(augmentedGroundTruth, cmap=cmap, vmin=0, vmax=255)\n",
        "  plt.show()\n",
        "  "
      ],
      "execution_count": 4,
      "outputs": [
        {
          "output_type": "error",
          "ename": "NameError",
          "evalue": "name 'dataloaders' is not defined",
          "traceback": [
            "\u001b[0;31m---------------------------------------------------------------------------\u001b[0m",
            "\u001b[0;31mNameError\u001b[0m                                 Traceback (most recent call last)",
            "\u001b[0;32m<ipython-input-4-a05655c798fc>\u001b[0m in \u001b[0;36m<module>\u001b[0;34m\u001b[0m\n\u001b[0;32m----> 1\u001b[0;31m \u001b[0;32mfor\u001b[0m \u001b[0midx\u001b[0m\u001b[0;34m,\u001b[0m \u001b[0mbatch\u001b[0m \u001b[0;32min\u001b[0m \u001b[0menumerate\u001b[0m\u001b[0;34m(\u001b[0m\u001b[0mdataloaders\u001b[0m\u001b[0;34m.\u001b[0m\u001b[0mtrain\u001b[0m\u001b[0;34m)\u001b[0m\u001b[0;34m:\u001b[0m\u001b[0;34m\u001b[0m\u001b[0;34m\u001b[0m\u001b[0m\n\u001b[0m\u001b[1;32m      2\u001b[0m \u001b[0;34m\u001b[0m\u001b[0m\n\u001b[1;32m      3\u001b[0m   \u001b[0mcmap\u001b[0m \u001b[0;34m=\u001b[0m \u001b[0mmatplotlib\u001b[0m\u001b[0;34m.\u001b[0m\u001b[0mcolors\u001b[0m\u001b[0;34m.\u001b[0m\u001b[0mListedColormap\u001b[0m \u001b[0;34m(\u001b[0m\u001b[0mnp\u001b[0m\u001b[0;34m.\u001b[0m\u001b[0mrandom\u001b[0m\u001b[0;34m.\u001b[0m\u001b[0mrand\u001b[0m\u001b[0;34m(\u001b[0m\u001b[0;36m256\u001b[0m\u001b[0;34m,\u001b[0m\u001b[0;36m3\u001b[0m\u001b[0;34m)\u001b[0m\u001b[0;34m)\u001b[0m\u001b[0;34m\u001b[0m\u001b[0;34m\u001b[0m\u001b[0m\n\u001b[1;32m      4\u001b[0m   \u001b[0maugmentedImage\u001b[0m \u001b[0;34m=\u001b[0m \u001b[0mbatch\u001b[0m\u001b[0;34m[\u001b[0m\u001b[0;36m0\u001b[0m\u001b[0;34m]\u001b[0m\u001b[0;34m.\u001b[0m\u001b[0mcpu\u001b[0m\u001b[0;34m(\u001b[0m\u001b[0;34m)\u001b[0m\u001b[0;34m.\u001b[0m\u001b[0msqueeze\u001b[0m\u001b[0;34m(\u001b[0m\u001b[0;34m)\u001b[0m\u001b[0;34m.\u001b[0m\u001b[0mpermute\u001b[0m\u001b[0;34m(\u001b[0m\u001b[0;36m1\u001b[0m\u001b[0;34m,\u001b[0m\u001b[0;36m2\u001b[0m\u001b[0;34m,\u001b[0m\u001b[0;36m0\u001b[0m\u001b[0;34m)\u001b[0m\u001b[0;34m.\u001b[0m\u001b[0mnumpy\u001b[0m\u001b[0;34m(\u001b[0m\u001b[0;34m)\u001b[0m\u001b[0;34m\u001b[0m\u001b[0;34m\u001b[0m\u001b[0m\n\u001b[1;32m      5\u001b[0m   \u001b[0maugmentedGroundTruth\u001b[0m \u001b[0;34m=\u001b[0m \u001b[0mbatch\u001b[0m\u001b[0;34m[\u001b[0m\u001b[0;36m1\u001b[0m\u001b[0;34m]\u001b[0m\u001b[0;34m.\u001b[0m\u001b[0mcpu\u001b[0m\u001b[0;34m(\u001b[0m\u001b[0;34m)\u001b[0m\u001b[0;34m.\u001b[0m\u001b[0msqueeze\u001b[0m\u001b[0;34m(\u001b[0m\u001b[0maxis\u001b[0m\u001b[0;34m=\u001b[0m\u001b[0;36m2\u001b[0m\u001b[0;34m)\u001b[0m\u001b[0;34m.\u001b[0m\u001b[0mpermute\u001b[0m\u001b[0;34m(\u001b[0m\u001b[0;36m1\u001b[0m\u001b[0;34m,\u001b[0m\u001b[0;36m2\u001b[0m\u001b[0;34m,\u001b[0m\u001b[0;36m0\u001b[0m\u001b[0;34m)\u001b[0m\u001b[0;34m.\u001b[0m\u001b[0mnumpy\u001b[0m\u001b[0;34m(\u001b[0m\u001b[0;34m)\u001b[0m\u001b[0;34m\u001b[0m\u001b[0;34m\u001b[0m\u001b[0m\n",
            "\u001b[0;31mNameError\u001b[0m: name 'dataloaders' is not defined"
          ]
        }
      ]
    },
    {
      "cell_type": "code",
      "metadata": {
        "colab": {
          "base_uri": "https://localhost:8080/",
          "height": 302
        },
        "id": "cnNNah0335y-",
        "outputId": "015b1da4-bcff-45b2-d792-469d0a571809"
      },
      "source": [
        "dataloaders.show_batch(max_n=4, figsize=(5, 5), cmap=cmap)"
      ],
      "execution_count": 66,
      "outputs": [
        {
          "output_type": "error",
          "ename": "NameError",
          "evalue": "name 'cmap' is not defined",
          "traceback": [
            "\u001b[0;31m---------------------------------------------------------------------------\u001b[0m",
            "\u001b[0;31mNameError\u001b[0m                                 Traceback (most recent call last)",
            "\u001b[0;32m<ipython-input-66-319b63966998>\u001b[0m in \u001b[0;36m<module>\u001b[0;34m\u001b[0m\n\u001b[0;32m----> 1\u001b[0;31m \u001b[0mdataloaders\u001b[0m\u001b[0;34m.\u001b[0m\u001b[0mshow_batch\u001b[0m\u001b[0;34m(\u001b[0m\u001b[0mmax_n\u001b[0m\u001b[0;34m=\u001b[0m\u001b[0;36m4\u001b[0m\u001b[0;34m,\u001b[0m \u001b[0mfigsize\u001b[0m\u001b[0;34m=\u001b[0m\u001b[0;34m(\u001b[0m\u001b[0;36m5\u001b[0m\u001b[0;34m,\u001b[0m \u001b[0;36m5\u001b[0m\u001b[0;34m)\u001b[0m\u001b[0;34m,\u001b[0m \u001b[0mcmap\u001b[0m\u001b[0;34m=\u001b[0m\u001b[0mcmap\u001b[0m\u001b[0;34m)\u001b[0m\u001b[0;34m\u001b[0m\u001b[0;34m\u001b[0m\u001b[0m\n\u001b[0m",
            "\u001b[0;31mNameError\u001b[0m: name 'cmap' is not defined"
          ]
        }
      ]
    },
    {
      "cell_type": "code",
      "execution_count": null,
      "metadata": {},
      "outputs": [],
      "source": []
    }
  ]
}